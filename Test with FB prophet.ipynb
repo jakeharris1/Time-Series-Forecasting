{
 "cells": [
  {
   "cell_type": "code",
   "execution_count": 1,
   "metadata": {},
   "outputs": [],
   "source": [
    "import pandas as pd\n",
    "import warnings\n",
    "warnings.filterwarnings('ignore')\n",
    "from datetime import datetime, date, timedelta\n",
    "from matplotlib import pyplot as plt\n",
    "import matplotlib.pyplot as plt\n",
    "%matplotlib inline\n",
    "import numpy as np\n",
    "import os\n",
    "#import seaborn as sns\n",
    "import statsmodels.api as sm\n",
    "import pmdarima as pm\n",
    "#from pmdarima.model_selection import train_test_split\n",
    "from statsmodels.tsa.statespace.sarimax import SARIMAX\n",
    "from statsmodels.tsa.arima_model import ARIMA\n",
    "from statsmodels.tsa.stattools import adfuller\n",
    "from sklearn.metrics import mean_squared_error\n",
    "#from pandas import DataFrame"
   ]
  },
  {
   "cell_type": "code",
   "execution_count": 2,
   "metadata": {},
   "outputs": [
    {
     "data": {
      "text/plain": [
       "(34507, 14)"
      ]
     },
     "execution_count": 2,
     "metadata": {},
     "output_type": "execute_result"
    }
   ],
   "source": [
    "file = \"SupplyChain_TimeSeriesData.xlsx\"\n",
    "df = pd.read_excel(file) #index_col = \"Schedule Start Date\"\n",
    "df.shape"
   ]
  },
  {
   "cell_type": "code",
   "execution_count": 3,
   "metadata": {},
   "outputs": [],
   "source": [
    "# fncf = \"Confirmation Start Date\"\n",
    "# ud = \"Usage Decision Date\"\n",
    "# df = df[df[fncf].notna() & df[ud].notna()]\n",
    "\n",
    "#Change the units to ML\n",
    "df.loc[df[\"Unit\"] == \"µL\", \"Total order quantity\"] = df[\"Total order quantity\"]/1000\n",
    "df.loc[df[\"Unit\"] == \"µL\", \"Unit\"] = \"ML\"\n",
    "\n",
    "df.loc[df[\"Unit\"] == \"L\", \"Total order quantity\"] = df[\"Total order quantity\"] * 1000\n",
    "df.loc[df[\"Unit\"] == \"L\", \"Unit\"] = \"ML\""
   ]
  },
  {
   "cell_type": "code",
   "execution_count": 4,
   "metadata": {},
   "outputs": [
    {
     "data": {
      "text/html": [
       "<div>\n",
       "<style scoped>\n",
       "    .dataframe tbody tr th:only-of-type {\n",
       "        vertical-align: middle;\n",
       "    }\n",
       "\n",
       "    .dataframe tbody tr th {\n",
       "        vertical-align: top;\n",
       "    }\n",
       "\n",
       "    .dataframe thead th {\n",
       "        text-align: right;\n",
       "    }\n",
       "</style>\n",
       "<table border=\"1\" class=\"dataframe\">\n",
       "  <thead>\n",
       "    <tr style=\"text-align: right;\">\n",
       "      <th></th>\n",
       "      <th>Order</th>\n",
       "      <th>Material</th>\n",
       "      <th>Batch</th>\n",
       "      <th>Group</th>\n",
       "      <th>MaterialCategory</th>\n",
       "      <th>Total order quantity</th>\n",
       "      <th>Unit</th>\n",
       "      <th>Quantity of goods received</th>\n",
       "      <th>Schedule Start Date</th>\n",
       "      <th>Schedule Finish Date</th>\n",
       "      <th>Confirmation Start Date</th>\n",
       "      <th>First Goods Movement Date</th>\n",
       "      <th>Goods Receipt Date</th>\n",
       "      <th>Usage Decision Date</th>\n",
       "      <th>scheduled_duration_nowkend</th>\n",
       "      <th>Duration</th>\n",
       "    </tr>\n",
       "  </thead>\n",
       "  <tbody>\n",
       "    <tr>\n",
       "      <th>41</th>\n",
       "      <td>100113</td>\n",
       "      <td>100000377</td>\n",
       "      <td>B22851</td>\n",
       "      <td>127</td>\n",
       "      <td>7</td>\n",
       "      <td>600000.0</td>\n",
       "      <td>KU</td>\n",
       "      <td>657900.0</td>\n",
       "      <td>2016-11-07</td>\n",
       "      <td>2016-11-23</td>\n",
       "      <td>2017-01-19</td>\n",
       "      <td>2016-11-01</td>\n",
       "      <td>2017-01-12</td>\n",
       "      <td>2017-01-31</td>\n",
       "      <td>13</td>\n",
       "      <td>9.0</td>\n",
       "    </tr>\n",
       "    <tr>\n",
       "      <th>136</th>\n",
       "      <td>100079</td>\n",
       "      <td>100001905</td>\n",
       "      <td>B22897</td>\n",
       "      <td>138</td>\n",
       "      <td>1</td>\n",
       "      <td>600.0</td>\n",
       "      <td>ML</td>\n",
       "      <td>0.0</td>\n",
       "      <td>2016-11-02</td>\n",
       "      <td>2016-11-07</td>\n",
       "      <td>2017-01-27</td>\n",
       "      <td>NaT</td>\n",
       "      <td>2016-10-30</td>\n",
       "      <td>2017-02-07</td>\n",
       "      <td>4</td>\n",
       "      <td>8.0</td>\n",
       "    </tr>\n",
       "    <tr>\n",
       "      <th>140</th>\n",
       "      <td>100711</td>\n",
       "      <td>100001905</td>\n",
       "      <td>B22987</td>\n",
       "      <td>138</td>\n",
       "      <td>1</td>\n",
       "      <td>1200.0</td>\n",
       "      <td>ML</td>\n",
       "      <td>0.0</td>\n",
       "      <td>2016-11-02</td>\n",
       "      <td>2016-11-07</td>\n",
       "      <td>2017-02-08</td>\n",
       "      <td>NaT</td>\n",
       "      <td>2016-10-30</td>\n",
       "      <td>2017-02-24</td>\n",
       "      <td>4</td>\n",
       "      <td>13.0</td>\n",
       "    </tr>\n",
       "    <tr>\n",
       "      <th>151</th>\n",
       "      <td>100712</td>\n",
       "      <td>100001905</td>\n",
       "      <td>B23018</td>\n",
       "      <td>138</td>\n",
       "      <td>1</td>\n",
       "      <td>1200.0</td>\n",
       "      <td>ML</td>\n",
       "      <td>0.0</td>\n",
       "      <td>2016-11-02</td>\n",
       "      <td>2016-11-07</td>\n",
       "      <td>2017-03-09</td>\n",
       "      <td>NaT</td>\n",
       "      <td>2016-10-30</td>\n",
       "      <td>2017-03-10</td>\n",
       "      <td>4</td>\n",
       "      <td>2.0</td>\n",
       "    </tr>\n",
       "    <tr>\n",
       "      <th>230</th>\n",
       "      <td>100258</td>\n",
       "      <td>100000222</td>\n",
       "      <td>B22620</td>\n",
       "      <td>143</td>\n",
       "      <td>12</td>\n",
       "      <td>500.0</td>\n",
       "      <td>ML</td>\n",
       "      <td>0.0</td>\n",
       "      <td>2016-11-11</td>\n",
       "      <td>2016-11-18</td>\n",
       "      <td>2018-05-18</td>\n",
       "      <td>NaT</td>\n",
       "      <td>2016-10-30</td>\n",
       "      <td>2017-01-04</td>\n",
       "      <td>6</td>\n",
       "      <td>0.0</td>\n",
       "    </tr>\n",
       "  </tbody>\n",
       "</table>\n",
       "</div>"
      ],
      "text/plain": [
       "      Order   Material   Batch  Group  MaterialCategory  Total order quantity  \\\n",
       "41   100113  100000377  B22851    127                 7              600000.0   \n",
       "136  100079  100001905  B22897    138                 1                 600.0   \n",
       "140  100711  100001905  B22987    138                 1                1200.0   \n",
       "151  100712  100001905  B23018    138                 1                1200.0   \n",
       "230  100258  100000222  B22620    143                12                 500.0   \n",
       "\n",
       "    Unit  Quantity of goods received Schedule Start Date Schedule Finish Date  \\\n",
       "41    KU                    657900.0          2016-11-07           2016-11-23   \n",
       "136   ML                         0.0          2016-11-02           2016-11-07   \n",
       "140   ML                         0.0          2016-11-02           2016-11-07   \n",
       "151   ML                         0.0          2016-11-02           2016-11-07   \n",
       "230   ML                         0.0          2016-11-11           2016-11-18   \n",
       "\n",
       "    Confirmation Start Date First Goods Movement Date Goods Receipt Date  \\\n",
       "41               2017-01-19                2016-11-01         2017-01-12   \n",
       "136              2017-01-27                       NaT         2016-10-30   \n",
       "140              2017-02-08                       NaT         2016-10-30   \n",
       "151              2017-03-09                       NaT         2016-10-30   \n",
       "230              2018-05-18                       NaT         2016-10-30   \n",
       "\n",
       "    Usage Decision Date  scheduled_duration_nowkend  Duration  \n",
       "41           2017-01-31                          13       9.0  \n",
       "136          2017-02-07                           4       8.0  \n",
       "140          2017-02-24                           4      13.0  \n",
       "151          2017-03-10                           4       2.0  \n",
       "230          2017-01-04                           6       0.0  "
      ]
     },
     "execution_count": 4,
     "metadata": {},
     "output_type": "execute_result"
    }
   ],
   "source": [
    "# Using the Pandas bdate_range function, we calculate number of days taken to complete order (excluding weekends)\n",
    "df['scheduled_duration_nowkend'] = df.apply(lambda row: pd.bdate_range( row['Schedule Start Date'], row['Schedule Finish Date']).shape[0] \\\n",
    "                                            if not pd.isna(row['Schedule Start Date']) and not pd.isna(row['Schedule Finish Date']) else np.nan, axis=1 )\n",
    "df['Duration'] = df.apply(lambda row: pd.bdate_range( row['Confirmation Start Date'], row['Usage Decision Date']).shape[0] \\\n",
    "                                         if not pd.isna(row['Confirmation Start Date']) and not pd.isna(row['Usage Decision Date']) else np.nan, axis=1 )\n",
    "\n",
    "# Drop null values\n",
    "df = df.dropna(subset=['Confirmation Start Date', 'Usage Decision Date'])\n",
    "\n",
    "# Drop dates before 2016\n",
    "orders = df[df['Confirmation Start Date'] < pd.Timestamp(2017,1,1)]['Order'].unique()\n",
    "df = df[~df['Order'].isin(orders)]\n",
    "\n",
    "df.head()"
   ]
  },
  {
   "cell_type": "code",
   "execution_count": 5,
   "metadata": {},
   "outputs": [
    {
     "name": "stdout",
     "output_type": "stream",
     "text": [
      "<class 'pandas.core.frame.DataFrame'>\n",
      "Int64Index: 31912 entries, 41 to 34506\n",
      "Data columns (total 16 columns):\n",
      " #   Column                      Non-Null Count  Dtype         \n",
      "---  ------                      --------------  -----         \n",
      " 0   Order                       31912 non-null  int64         \n",
      " 1   Material                    31912 non-null  int64         \n",
      " 2   Batch                       31912 non-null  object        \n",
      " 3   Group                       31912 non-null  int64         \n",
      " 4   MaterialCategory            31912 non-null  int64         \n",
      " 5   Total order quantity        31912 non-null  float64       \n",
      " 6   Unit                        31912 non-null  object        \n",
      " 7   Quantity of goods received  31912 non-null  float64       \n",
      " 8   Schedule Start Date         31912 non-null  datetime64[ns]\n",
      " 9   Schedule Finish Date        31912 non-null  datetime64[ns]\n",
      " 10  Confirmation Start Date     31912 non-null  datetime64[ns]\n",
      " 11  First Goods Movement Date   31907 non-null  datetime64[ns]\n",
      " 12  Goods Receipt Date          31502 non-null  datetime64[ns]\n",
      " 13  Usage Decision Date         31912 non-null  datetime64[ns]\n",
      " 14  scheduled_duration_nowkend  31912 non-null  int64         \n",
      " 15  Duration                    31912 non-null  float64       \n",
      "dtypes: datetime64[ns](6), float64(3), int64(5), object(2)\n",
      "memory usage: 4.1+ MB\n"
     ]
    },
    {
     "data": {
      "text/html": [
       "<div>\n",
       "<style scoped>\n",
       "    .dataframe tbody tr th:only-of-type {\n",
       "        vertical-align: middle;\n",
       "    }\n",
       "\n",
       "    .dataframe tbody tr th {\n",
       "        vertical-align: top;\n",
       "    }\n",
       "\n",
       "    .dataframe thead th {\n",
       "        text-align: right;\n",
       "    }\n",
       "</style>\n",
       "<table border=\"1\" class=\"dataframe\">\n",
       "  <thead>\n",
       "    <tr style=\"text-align: right;\">\n",
       "      <th></th>\n",
       "      <th>Order</th>\n",
       "      <th>Material</th>\n",
       "      <th>Group</th>\n",
       "      <th>MaterialCategory</th>\n",
       "      <th>Total order quantity</th>\n",
       "      <th>Quantity of goods received</th>\n",
       "      <th>scheduled_duration_nowkend</th>\n",
       "      <th>Duration</th>\n",
       "    </tr>\n",
       "  </thead>\n",
       "  <tbody>\n",
       "    <tr>\n",
       "      <th>count</th>\n",
       "      <td>31912.000000</td>\n",
       "      <td>3.191200e+04</td>\n",
       "      <td>31912.000000</td>\n",
       "      <td>31912.000000</td>\n",
       "      <td>3.191200e+04</td>\n",
       "      <td>3.191200e+04</td>\n",
       "      <td>31912.000000</td>\n",
       "      <td>31912.00000</td>\n",
       "    </tr>\n",
       "    <tr>\n",
       "      <th>mean</th>\n",
       "      <td>118227.631142</td>\n",
       "      <td>1.000012e+08</td>\n",
       "      <td>128.876410</td>\n",
       "      <td>7.215499</td>\n",
       "      <td>3.244659e+05</td>\n",
       "      <td>7.982269e+03</td>\n",
       "      <td>8.453967</td>\n",
       "      <td>20.51266</td>\n",
       "    </tr>\n",
       "    <tr>\n",
       "      <th>std</th>\n",
       "      <td>9321.972545</td>\n",
       "      <td>7.061117e+02</td>\n",
       "      <td>15.551736</td>\n",
       "      <td>5.251510</td>\n",
       "      <td>1.587757e+06</td>\n",
       "      <td>4.235909e+04</td>\n",
       "      <td>5.611157</td>\n",
       "      <td>38.59567</td>\n",
       "    </tr>\n",
       "    <tr>\n",
       "      <th>min</th>\n",
       "      <td>100018.000000</td>\n",
       "      <td>1.000000e+08</td>\n",
       "      <td>100.000000</td>\n",
       "      <td>1.000000</td>\n",
       "      <td>1.000000e+00</td>\n",
       "      <td>0.000000e+00</td>\n",
       "      <td>1.000000</td>\n",
       "      <td>1.00000</td>\n",
       "    </tr>\n",
       "    <tr>\n",
       "      <th>25%</th>\n",
       "      <td>110274.750000</td>\n",
       "      <td>1.000006e+08</td>\n",
       "      <td>115.000000</td>\n",
       "      <td>1.000000</td>\n",
       "      <td>3.070000e+02</td>\n",
       "      <td>7.030000e+01</td>\n",
       "      <td>5.000000</td>\n",
       "      <td>7.00000</td>\n",
       "    </tr>\n",
       "    <tr>\n",
       "      <th>50%</th>\n",
       "      <td>118276.500000</td>\n",
       "      <td>1.000011e+08</td>\n",
       "      <td>131.000000</td>\n",
       "      <td>9.000000</td>\n",
       "      <td>1.885000e+03</td>\n",
       "      <td>6.020000e+02</td>\n",
       "      <td>7.000000</td>\n",
       "      <td>12.00000</td>\n",
       "    </tr>\n",
       "    <tr>\n",
       "      <th>75%</th>\n",
       "      <td>126259.250000</td>\n",
       "      <td>1.000018e+08</td>\n",
       "      <td>138.000000</td>\n",
       "      <td>12.000000</td>\n",
       "      <td>1.300000e+04</td>\n",
       "      <td>3.000000e+03</td>\n",
       "      <td>10.000000</td>\n",
       "      <td>19.00000</td>\n",
       "    </tr>\n",
       "    <tr>\n",
       "      <th>max</th>\n",
       "      <td>134479.000000</td>\n",
       "      <td>1.000027e+08</td>\n",
       "      <td>173.000000</td>\n",
       "      <td>15.000000</td>\n",
       "      <td>1.000000e+07</td>\n",
       "      <td>1.825670e+06</td>\n",
       "      <td>110.000000</td>\n",
       "      <td>711.00000</td>\n",
       "    </tr>\n",
       "  </tbody>\n",
       "</table>\n",
       "</div>"
      ],
      "text/plain": [
       "               Order      Material         Group  MaterialCategory  \\\n",
       "count   31912.000000  3.191200e+04  31912.000000      31912.000000   \n",
       "mean   118227.631142  1.000012e+08    128.876410          7.215499   \n",
       "std      9321.972545  7.061117e+02     15.551736          5.251510   \n",
       "min    100018.000000  1.000000e+08    100.000000          1.000000   \n",
       "25%    110274.750000  1.000006e+08    115.000000          1.000000   \n",
       "50%    118276.500000  1.000011e+08    131.000000          9.000000   \n",
       "75%    126259.250000  1.000018e+08    138.000000         12.000000   \n",
       "max    134479.000000  1.000027e+08    173.000000         15.000000   \n",
       "\n",
       "       Total order quantity  Quantity of goods received  \\\n",
       "count          3.191200e+04                3.191200e+04   \n",
       "mean           3.244659e+05                7.982269e+03   \n",
       "std            1.587757e+06                4.235909e+04   \n",
       "min            1.000000e+00                0.000000e+00   \n",
       "25%            3.070000e+02                7.030000e+01   \n",
       "50%            1.885000e+03                6.020000e+02   \n",
       "75%            1.300000e+04                3.000000e+03   \n",
       "max            1.000000e+07                1.825670e+06   \n",
       "\n",
       "       scheduled_duration_nowkend     Duration  \n",
       "count                31912.000000  31912.00000  \n",
       "mean                     8.453967     20.51266  \n",
       "std                      5.611157     38.59567  \n",
       "min                      1.000000      1.00000  \n",
       "25%                      5.000000      7.00000  \n",
       "50%                      7.000000     12.00000  \n",
       "75%                     10.000000     19.00000  \n",
       "max                    110.000000    711.00000  "
      ]
     },
     "metadata": {},
     "output_type": "display_data"
    }
   ],
   "source": [
    "df = df[df[\"Duration\"] > 0]\n",
    "df.sort_values(\"Confirmation Start Date\")\n",
    "df.info()\n",
    "display(df.describe())"
   ]
  },
  {
   "cell_type": "code",
   "execution_count": null,
   "metadata": {},
   "outputs": [],
   "source": [
    "#df[\"Duration\"] = (df[ud] - df[fncf]).dt.days\n",
    "#df[\"Scheduled_Duration\"] = (df[\"Schedule Finish Date\"] - df[\"Schedule Start Date\"]).dt.days\n",
    "\n",
    "# df = df[df[\"Duration\"] > 0]\n",
    "# df.sort_values(\"Confirmation Start Date\")\n",
    "\n",
    "# orders = df[df[\"Confirmation Start Date\"] < pd.Timestamp(2017, 1, 1)][\"Order\"].unique()\n",
    "# df = df[~df[\"Order\"].isin(orders)]\n",
    "# df.sort_values(\"Confirmation Start Date\")\n",
    "\n",
    "\n",
    "#df.to_csv(\"With Duration.csv\")"
   ]
  },
  {
   "cell_type": "markdown",
   "metadata": {},
   "source": [
    "# New Data Set for FB prophet"
   ]
  },
  {
   "cell_type": "code",
   "execution_count": null,
   "metadata": {},
   "outputs": [],
   "source": [
    "# Creating New Data Set for FBProphet\n",
    "\n",
    "unique_group = pd.unique(df[\"Group\"])\n",
    "unique_group.sort()\n",
    "unique_group\n",
    "unit_type = \"PC\"\n",
    "newDataSet = pd.DataFrame()\n",
    "\n",
    "for value in unique_group:\n",
    "    group = df.loc[(df[\"Group\"] == value) & (df[\"Unit\"] == unit_type)] #group == 106, 100001064, 100001522, 100001520\n",
    "    group = group[[\"Duration\", \"Confirmation Start Date\", \"Total order quantity\"]]\n",
    "    group.set_index(\"Confirmation Start Date\", inplace = True)\n",
    "    group = group.loc[group[\"Duration\"] > 0]\n",
    "    group = group.sort_values(\"Confirmation Start Date\")\n",
    "    group[\"per\"] = group.index.to_period(\"M\")\n",
    "    \n",
    "    \n",
    "    dates = pd.unique(group[\"per\"])\n",
    "    # empty is an empty dataframe that I am adding rows to at the end of the for-loop\n",
    "    \n",
    "    for month in dates:\n",
    "        df_month = group.loc[group[\"per\"] == month]\n",
    "\n",
    "        #Looking at Outliers\n",
    "        q1 = df_month.quantile(0.25)[0]\n",
    "        q2 = df_month.quantile(0.50)[0]\n",
    "        q3 = df_month.quantile(0.75)[0]\n",
    "\n",
    "        IQR = q3 - q1\n",
    "        lower = q1 - 1.5*IQR\n",
    "        upper = q3 + 1.5*IQR\n",
    "\n",
    "        temp = df_month[(df_month[\"Duration\"] < upper)]\n",
    "        newDataSet = newDataSet.append(temp)"
   ]
  },
  {
   "cell_type": "markdown",
   "metadata": {},
   "source": [
    "# 2 FUNCTIONS FOR SHOWING MATERIAL AND GROUP RELATIONSHIP"
   ]
  },
  {
   "cell_type": "code",
   "execution_count": null,
   "metadata": {},
   "outputs": [],
   "source": [
    "# one = df.loc[df[\"MaterialCategory\"] == 1]\n",
    "# one.shape"
   ]
  },
  {
   "cell_type": "code",
   "execution_count": null,
   "metadata": {},
   "outputs": [],
   "source": [
    "\n",
    "#MatCat1.groupby([\"Order, Confirmation Start Date\"]).MatCat1[\"Confirmation Start Date\"].count()"
   ]
  },
  {
   "cell_type": "code",
   "execution_count": null,
   "metadata": {},
   "outputs": [],
   "source": [
    "matcat_id = 2\n",
    "group_id = 123\n",
    "material_id = 100000699\n",
    "value = \"M\"\n",
    "\n",
    "\n",
    "def graphAll(matcat_id, group_id, material_id, value):\n",
    "    df_a, df_b = df.shape\n",
    "    MatCat = df.loc[df[\"MaterialCategory\"] == matcat_id]\n",
    "    MatCat.set_index(\"Confirmation Start Date\", inplace = True)\n",
    "    MatCat_a, MatCat_b = MatCat.shape\n",
    "\n",
    "    Group = MatCat.loc[MatCat[\"Group\"] == group_id]\n",
    "    (Group_a, Group_b) = Group.shape\n",
    "    \n",
    "    Material = Group.loc[Group[\"Material\"] == material_id]\n",
    "    (Material_a, Material_b) = Material.shape\n",
    "    \n",
    "    MatCat_percent = MatCat_a / df_a * 100\n",
    "\n",
    "    # Material[\"Duration\"].resample(value).mean().plot(figsize=(15, 10), label = \"Material\")\n",
    "    #MatCat1[\"Order\"].resample(value).count().plot(figsize=(15, 10), label = \"Number of Orders\")\n",
    "\n",
    "\n",
    "    fig, ax1 = plt.subplots(figsize=(20, 15))\n",
    "\n",
    "    MatCat_average = MatCat[\"Duration\"].resample(value).mean()\n",
    "    Group_average = Group[\"Duration\"].resample(value).mean()\n",
    "    Material_average = Material[\"Duration\"].resample(value).mean()\n",
    "    \n",
    "    ax1.set_xlabel(\"Date\", fontsize = 20)\n",
    "    ax1.set_ylabel(\"Duration in Days\", fontsize = 20)\n",
    "    ax1.plot(MatCat[\"Duration\"].resample(value).mean(), color = \"magenta\", label = \"MatCat duration\")\n",
    "    #ax1.plot(MatCat[\"Duration\"].resample(value).std(), color = \"purple\", label = \"MatCat std\")\n",
    "\n",
    "    ax1.plot(Group[\"Duration\"].resample(value).mean(), color = \"blue\", label = \"Group duration\")\n",
    "    ax1.plot(Material[\"Duration\"].resample(value).mean(), color = \"green\", label = \"Material duration\")\n",
    "    ax1.legend(loc = 1)\n",
    "    #ax1.xaxis.set_major_locator(mdates.YearLocator())\n",
    "    ax1.grid()\n",
    "\n",
    "    # ax1.suptitle(\"hi\")\n",
    "\n",
    "\n",
    "    ax2 = ax1.twinx()\n",
    "    ax2.set_ylabel(\"Number or Orders\", fontsize = 20)\n",
    "    #ax2.plot(MatCat[\"Order\"].resample(value).count(), color = \"red\", label = \"MatCat Order\")\n",
    "    ax2.plot(Group[\"Order\"].resample(value).count(), color = \"black\", label = \"Group Order\")\n",
    "    #ax2.plot(Material[\"Order\"].resample(value).count(), color = \"yellow\", label = \"Material Order\")\n",
    "\n",
    "    ax2.legend(loc = 2)\n",
    "    #ax2.grid()\n",
    "    image_name = f\"Material Category = {matcat_id}, Group = {group_id}, Material = {material_id}, sampled every {value}\"\n",
    "    fig.suptitle(image_name, fontsize = 20)\n",
    "    plt.savefig(\"Durations and Orders/\" + image_name + \".png\")\n",
    "    \n",
    "graphAll(1, 130, 100000341, \"BM\")"
   ]
  },
  {
   "cell_type": "code",
   "execution_count": null,
   "metadata": {},
   "outputs": [],
   "source": [
    "#color = \"tab:blue\"\n",
    "#ax2.set_xlabel()\n",
    "# # Create some mock data\n",
    "# t = np.arange(0.01, 10.0, 0.01)\n",
    "# data1 = np.exp(t)\n",
    "# data2 = np.sin(2 * np.pi * t)\n",
    "\n",
    "# fig, ax1 = plt.subplots()\n",
    "\n",
    "# color = 'tab:red'\n",
    "# ax1.set_xlabel('time (s)')\n",
    "# ax1.set_ylabel('exp', color=color)\n",
    "# ax1.plot(t, data1, color=color)\n",
    "# ax1.tick_params(axis='y', labelcolor=color)\n",
    "\n",
    "# ax2 = ax1.twinx()  # instantiate a second axes that shares the same x-axis\n",
    "\n",
    "# color = 'tab:blue'\n",
    "# ax2.set_ylabel('sin', color=color)  # we already handled the x-label with ax1\n",
    "# ax2.plot(t, data2, color=color)\n",
    "# ax2.tick_params(axis='y', labelcolor=color)\n",
    "\n",
    "# fig.tight_layout()  # otherwise the right y-label is slightly clipped\n",
    "# plt.show()"
   ]
  },
  {
   "cell_type": "code",
   "execution_count": null,
   "metadata": {},
   "outputs": [],
   "source": [
    "matcat_id = 2\n",
    "group_id = 123\n",
    "material_id = 100000699\n",
    "value = \"M\"\n",
    "\n",
    "\n",
    "def graphGroup(group_id, material_id, value):\n",
    "    df_a, df_b = df.shape\n",
    "#     MatCat = df.loc[df[\"MaterialCategory\"] == matcat_id]\n",
    "#     MatCat.set_index(\"Confirmation Start Date\", inplace = True)\n",
    "#     MatCat_a, MatCat_b = MatCat.shape\n",
    "\n",
    "    Group = df.loc[df[\"Group\"] == group_id]\n",
    "    Group.set_index(\"Confirmation Start Date\", inplace = True)\n",
    "    (Group_a, Group_b) = Group.shape\n",
    "    \n",
    "    \n",
    "    Material = Group.loc[Group[\"Material\"] == material_id]\n",
    "    (Material_a, Material_b) = Material.shape\n",
    "    \n",
    "    #MatCat_percent = MatCat_a / df_a * 100\n",
    "\n",
    "    # Material[\"Duration\"].resample(value).mean().plot(figsize=(15, 10), label = \"Material\")\n",
    "    #MatCat1[\"Order\"].resample(value).count().plot(figsize=(15, 10), label = \"Number of Orders\")\n",
    "\n",
    "\n",
    "    fig, ax1 = plt.subplots(figsize=(20, 15))\n",
    "\n",
    "    #MatCat_average = MatCat[\"Duration\"].resample(value).mean()\n",
    "    Group_average = Group[\"Duration\"].resample(value).mean()\n",
    "    Material_average = Material[\"Duration\"].resample(value).mean()\n",
    "    \n",
    "    ax1.set_xlabel(\"Date\", fontsize = 20)\n",
    "    ax1.set_ylabel(\"Duration in Days\", fontsize = 20)\n",
    "    #ax1.plot(MatCat[\"Duration\"].resample(value).mean(), color = \"magenta\", label = \"MatCat duration\")\n",
    "    #ax1.plot(MatCat[\"Duration\"].resample(value).std(), color = \"purple\", label = \"MatCat std\")\n",
    "\n",
    "    ax1.plot(Group[\"Duration\"].resample(value).mean(), color = \"blue\", label = \"Group duration\")\n",
    "    ax1.plot(Material[\"Duration\"].resample(value).mean(), color = \"green\", label = \"Material duration\")\n",
    "    ax1.legend(loc = 1)\n",
    "    #ax1.xaxis.set_major_locator(mdates.YearLocator())\n",
    "    ax1.grid()\n",
    "\n",
    "    # ax1.suptitle(\"hi\")\n",
    "\n",
    "\n",
    "    ax2 = ax1.twinx()\n",
    "    ax2.set_ylabel(\"Number or Orders\", fontsize = 20)\n",
    "    #ax2.plot(MatCat[\"Order\"].resample(value).count(), color = \"red\", label = \"MatCat Order\")\n",
    "    ax2.plot(Group[\"Order\"].resample(value).count(), color = \"black\", label = \"Group Order\")\n",
    "    ax2.plot(Material[\"Order\"].resample(value).count(), color = \"yellow\", label = \"Material Order\")\n",
    "\n",
    "    ax2.legend(loc = 2)\n",
    "    #ax2.grid()\n",
    "    image_name = f\"Group = {group_id}, Material = {material_id}, sampled every {value}\"\n",
    "    fig.suptitle(image_name, fontsize = 20)\n",
    "    plt.savefig(\"Durations and Orders/\" + image_name + \".png\")\n",
    "    \n",
    "graphGroup(137, 100000197, \"BM\")"
   ]
  },
  {
   "cell_type": "markdown",
   "metadata": {},
   "source": [
    "# Data Testing For Myself"
   ]
  },
  {
   "cell_type": "code",
   "execution_count": null,
   "metadata": {},
   "outputs": [],
   "source": [
    "material = df.loc[df[\"Material\"] == 100000028]\n",
    "group = df.loc[df[\"Group\"] == 102]\n",
    "group = group[[\"Duration\", \"Confirmation Start Date\"]]\n",
    "#group.set_index(\"Confirmation Start Date\", inplace = True)\n",
    "display(group.describe())\n",
    "display(group.plot(x = \"Confirmation Start Date\", y = \"Duration\", kind = \"scatter\"))\n",
    "\n",
    "unique"
   ]
  },
  {
   "cell_type": "markdown",
   "metadata": {},
   "source": [
    "# Printing group for Prophet"
   ]
  },
  {
   "cell_type": "code",
   "execution_count": null,
   "metadata": {},
   "outputs": [],
   "source": [
    "unique_group = pd.unique(df[\"Group\"])\n",
    "unique_group.sort()\n",
    "# unique_material = pd.unique(df[\"Material\"])\n",
    "# unique_material.sort()\n",
    "\n",
    "smallSet = pd.DataFrame()\n",
    "new_df = pd.DataFrame()\n",
    "\n",
    "for value in unique_group:\n",
    "    \n",
    "    group = df.loc[df[\"Group\"] == value]\n",
    "    group = group[[\"Duration\", \"Confirmation Start Date\", \"Total order quantity\"]]\n",
    "    group = group.loc[group[\"Duration\"] > 0]\n",
    "    group = group.sort_values(\"Confirmation Start Date\")\n",
    "    group[\"month\"] = group[\"Confirmation Start Date\"].dt.to_period(\"M\")\n",
    "    group[\"quarter\"] = group[\"Confirmation Start Date\"].dt.to_period(\"Q\")\n",
    "    \n",
    "#     material = df.loc[df[\"Group\"] == value]\n",
    "#     #material = material[[\"Duration\", \"Confirmation Start Date\", \"Total order quantity\"]]\n",
    "#     material.set_index(\"Confirmation Start Date\", inplace = True)\n",
    "#     material = material.loc[material[\"Duration\"] > 0]\n",
    "#     material = material.sort_values(\"Confirmation Start Date\")\n",
    "    \n",
    "#     material[\"month\"] = material.index.to_period(\"M\")\n",
    "#     material[\"quarter\"] = material.index.to_period(\"Q\")\n",
    "\n",
    "    month_values = pd.unique(group[\"month\"])\n",
    "    quarter_values = pd.unique(group[\"quarter\"])\n",
    "    group_size = group.shape[0]\n",
    "    \n",
    "    if group.shape[0] > 50:\n",
    "        \n",
    "        for quarter in quarter_values:\n",
    "            df_month = group.loc[group[\"quarter\"] == quarter]\n",
    "\n",
    "\n",
    "            #Looking at Outliers\n",
    "            q1 = df_month.quantile(0.25)[0]\n",
    "            q2 = df_month.quantile(0.50)[0]\n",
    "            q3 = df_month.quantile(0.75)[0]\n",
    "\n",
    "            IQR = q3 - q1\n",
    "            lower = q1 - 1.5*IQR\n",
    "            upper = q3 + 1.5*IQR\n",
    "\n",
    "            temp = df_month[(df_month[\"Duration\"] < upper)]\n",
    "            smallSet = smallSet.append(temp)\n",
    "        \n",
    "#         for month in month_values:\n",
    "#             df_month = group.loc[group[\"month\"] == month]\n",
    "\n",
    "\n",
    "#             #Looking at Outliers\n",
    "#             q1 = df_month.quantile(0.25)[0]\n",
    "#             q2 = df_month.quantile(0.50)[0]\n",
    "#             q3 = df_month.quantile(0.75)[0]\n",
    "\n",
    "#             IQR = q3 - q1\n",
    "#             lower = q1 - 1.5*IQR\n",
    "#             upper = q3 + 1.5*IQR\n",
    "\n",
    "#             temp = df_month[(df_month[\"Duration\"] < upper)]\n",
    "#             smallSet = smallSet.append(temp)\n",
    "\n",
    "\n",
    "        for quarter in quarter_values:\n",
    "            df_quarter = smallSet.loc[smallSet[\"quarter\"] == quarter]\n",
    "\n",
    "            std = df_quarter[\"Duration\"].std()\n",
    "            mean = df_quarter[\"Duration\"].mean()\n",
    "\n",
    "            lower = mean - std*3\n",
    "            upper = mean + std*3 \n",
    "\n",
    "\n",
    "            temp = df_quarter[(df_quarter[\"Duration\"] < upper)]\n",
    "            new_df = new_df.append(temp)\n",
    "    \n",
    "        #reseting smallSet to empty\n",
    "        smallSet = pd.DataFrame()\n",
    "\n",
    "\n",
    "        new_df.set_index(\"Confirmation Start Date\", inplace = True)\n",
    "        group_resample = new_df.resample(\"W\").mean()\n",
    "        group_resample[\"Duration\"] = group_resample[\"Duration\"].fillna(method = \"ffill\")\n",
    "        group_resample[\"Total order quantity\"] = group_resample[\"Total order quantity\"].fillna(method = \"ffill\")\n",
    "        group_resample[\"Copy date\"] = group_resample.index\n",
    "\n",
    "\n",
    "        # Training Data for prophet\n",
    "\n",
    "        pro_df = pd.DataFrame()\n",
    "        pro_df[\"ds\"] = group_resample[\"Copy date\"]\n",
    "        pro_df[\"y\"] = group_resample[\"Duration\"]\n",
    "\n",
    "        #Adding a regressor\n",
    "\n",
    "        pro_df[\"Total order quantity\"] = group_resample[\"Total order quantity\"]\n",
    "\n",
    "        ratio = 0.8\n",
    "        length = group_resample.shape[0]\n",
    "        pivot = int(ratio * length)\n",
    "\n",
    "        train = pro_df[:pivot]\n",
    "        test = pro_df[pivot:]\n",
    "\n",
    "        train_size = train.shape[0]\n",
    "        test_size = test.shape[0]\n",
    "        group_resample_size = group_resample.shape[0]\n",
    "\n",
    "        test.plot(x = \"ds\", y = \"y\")\n",
    "\n",
    "        r = Prophet(yearly_seasonality = True)\n",
    "        r.add_regressor(\"Total order quantity\")\n",
    "        r.fit(train)\n",
    "\n",
    "\n",
    "        forecast_r = r.predict(test)\n",
    "        fig3 = r.plot(forecast_r)\n",
    "\n",
    "        plt.plot(forecast_r[\"ds\"], forecast_r[\"yhat\"], label = \"forecast\")\n",
    "        plt.plot(test[\"ds\"], test[\"y\"], label = \"real value\")\n",
    "        name = \"Group Number is \" + str(value)\n",
    "        error = mean_squared_error(forecast_r[\"yhat\"], test[\"y\"])\n",
    "       # display(error)    \n",
    "        plt.suptitle(name + \", \" + \"number of points \" + str(group_size) + \", MSE is \\n\" + str(error))\n",
    "        plt.legend()\n",
    "\n",
    "        plt.savefig(f\"Prophet Groups quarter/\" + name + \".png\")\n",
    "\n",
    "        new_df = pd.DataFrame()\n"
   ]
  },
  {
   "cell_type": "code",
   "execution_count": null,
   "metadata": {},
   "outputs": [],
   "source": [
    "new_df.shape"
   ]
  },
  {
   "cell_type": "code",
   "execution_count": null,
   "metadata": {},
   "outputs": [],
   "source": [
    "unique_group = pd.unique(df[\"Group\"])\n",
    "unique_group.sort()\n",
    "\n",
    "for value in unique_group:\n",
    "    group = new_df[new_df[\"Group\"] == value]\n",
    "    if len(group) > 0:\n",
    "        group.boxplot(column = \"Duration\", by = \"month\", figsize = (20, 10), rot = 90)\n",
    "        plt.title(f\"Group Numer: {value}\")\n",
    "        name = str(value)\n",
    "        plt.savefig(f\"Removed Outliers group/\" + name + \".png\")\n",
    "    "
   ]
  },
  {
   "cell_type": "markdown",
   "metadata": {},
   "source": [
    "# Testing with FB Prophet Start"
   ]
  },
  {
   "cell_type": "code",
   "execution_count": 6,
   "metadata": {},
   "outputs": [
    {
     "name": "stderr",
     "output_type": "stream",
     "text": [
      "Importing plotly failed. Interactive plots will not work.\n"
     ]
    }
   ],
   "source": [
    "import fbprophet\n",
    "from fbprophet import Prophet\n",
    "#dir(fbprophet)"
   ]
  },
  {
   "cell_type": "code",
   "execution_count": 7,
   "metadata": {},
   "outputs": [],
   "source": [
    "group = df.loc[df[\"Group\"] == 110]\n",
    "#group = df.loc[df[\"Material\"] == 100001520]\n",
    "group = group[[\"Duration\", \"Confirmation Start Date\", \"Total order quantity\"]]\n",
    "#group.set_index(\"Confirmation Start Date\", inplace = True)\n",
    "group = group.loc[group[\"Duration\"] > 0]\n",
    "group = group.sort_values(\"Confirmation Start Date\")\n",
    "#group[\"month\"] = group.index.to_period(\"M\")\n",
    "#group[\"quarter\"] = group.index.to_period(\"Q\")\n",
    "group[\"month\"] = group[\"Confirmation Start Date\"].dt.to_period(\"M\")\n",
    "group[\"quarter\"] = group[\"Confirmation Start Date\"].dt.to_period(\"Q\")"
   ]
  },
  {
   "cell_type": "code",
   "execution_count": null,
   "metadata": {},
   "outputs": [],
   "source": [
    "group.loc[group[\"Duration\"] > 40]\n"
   ]
  },
  {
   "cell_type": "code",
   "execution_count": null,
   "metadata": {},
   "outputs": [],
   "source": [
    "#This shows that our data is not normally distributed\n",
    "# import scipy.stats\n",
    "# import pylab\n",
    "\n",
    "# scipy.stats.probplot(group[\"Duration\"], plot = pylab)\n",
    "# pylab.show()"
   ]
  },
  {
   "cell_type": "code",
   "execution_count": null,
   "metadata": {
    "scrolled": true
   },
   "outputs": [],
   "source": [
    "#W\n",
    "# train_start, train_end = \"2016-10-02\", \"2019-09-08\"\n",
    "# test_start, test_end = \"2019-09-15\", \"2020-06-07\"\n",
    "\n",
    "#BM\n",
    "# train_start, train_end = \"2016-09-30\", \"2019-08-30\"\n",
    "# test_start, test_end = \"2019-09-30\", \"2020-06-30\""
   ]
  },
  {
   "cell_type": "code",
   "execution_count": null,
   "metadata": {},
   "outputs": [],
   "source": [
    "display(group.describe().transpose())\n",
    "group.boxplot(column = \"Duration\", by = \"month\", figsize = (20, 10), rot = 90)\n",
    "group.shape\n",
    "\n",
    "#plt.savefig(\"With outliers\" + \".png\")"
   ]
  },
  {
   "cell_type": "code",
   "execution_count": null,
   "metadata": {},
   "outputs": [],
   "source": [
    "# STD\n",
    "\n",
    "# dates = pd.unique(group[\"per\"])\n",
    "# # empty is an empty dataframe that I am adding rows to at the end of the for-loop\n",
    "# empty = pd.DataFrame()\n",
    "\n",
    "# std = group[\"Duration\"].std()\n",
    "# mean = group[\"Duration\"].mean()\n",
    "\n",
    "# lower = mean - std*3\n",
    "# upper = mean + std*3\n",
    "\n",
    "# for month in dates:\n",
    "#     df_quarter = group.loc[group[\"per\"] == month]\n",
    "    \n",
    "#     #Looking at Outliers \n",
    "   \n",
    "\n",
    "#     temp = df_quarter[(df_quarter[\"Duration\"] < upper)]\n",
    "#     empty = empty.append(temp)"
   ]
  },
  {
   "cell_type": "code",
   "execution_count": 8,
   "metadata": {},
   "outputs": [
    {
     "data": {
      "text/html": [
       "<div>\n",
       "<style scoped>\n",
       "    .dataframe tbody tr th:only-of-type {\n",
       "        vertical-align: middle;\n",
       "    }\n",
       "\n",
       "    .dataframe tbody tr th {\n",
       "        vertical-align: top;\n",
       "    }\n",
       "\n",
       "    .dataframe thead th {\n",
       "        text-align: right;\n",
       "    }\n",
       "</style>\n",
       "<table border=\"1\" class=\"dataframe\">\n",
       "  <thead>\n",
       "    <tr style=\"text-align: right;\">\n",
       "      <th></th>\n",
       "      <th>Duration</th>\n",
       "      <th>Total order quantity</th>\n",
       "    </tr>\n",
       "  </thead>\n",
       "  <tbody>\n",
       "    <tr>\n",
       "      <th>count</th>\n",
       "      <td>785.000000</td>\n",
       "      <td>785.000000</td>\n",
       "    </tr>\n",
       "    <tr>\n",
       "      <th>mean</th>\n",
       "      <td>22.379618</td>\n",
       "      <td>20653.549045</td>\n",
       "    </tr>\n",
       "    <tr>\n",
       "      <th>std</th>\n",
       "      <td>44.720402</td>\n",
       "      <td>15552.115036</td>\n",
       "    </tr>\n",
       "    <tr>\n",
       "      <th>min</th>\n",
       "      <td>4.000000</td>\n",
       "      <td>200.000000</td>\n",
       "    </tr>\n",
       "    <tr>\n",
       "      <th>25%</th>\n",
       "      <td>11.000000</td>\n",
       "      <td>6993.000000</td>\n",
       "    </tr>\n",
       "    <tr>\n",
       "      <th>50%</th>\n",
       "      <td>16.000000</td>\n",
       "      <td>17500.000000</td>\n",
       "    </tr>\n",
       "    <tr>\n",
       "      <th>75%</th>\n",
       "      <td>23.000000</td>\n",
       "      <td>32585.000000</td>\n",
       "    </tr>\n",
       "    <tr>\n",
       "      <th>max</th>\n",
       "      <td>557.000000</td>\n",
       "      <td>66254.000000</td>\n",
       "    </tr>\n",
       "  </tbody>\n",
       "</table>\n",
       "</div>"
      ],
      "text/plain": [
       "         Duration  Total order quantity\n",
       "count  785.000000            785.000000\n",
       "mean    22.379618          20653.549045\n",
       "std     44.720402          15552.115036\n",
       "min      4.000000            200.000000\n",
       "25%     11.000000           6993.000000\n",
       "50%     16.000000          17500.000000\n",
       "75%     23.000000          32585.000000\n",
       "max    557.000000          66254.000000"
      ]
     },
     "metadata": {},
     "output_type": "display_data"
    },
    {
     "data": {
      "text/plain": [
       "(785, 5)"
      ]
     },
     "metadata": {},
     "output_type": "display_data"
    },
    {
     "data": {
      "image/png": "[encoded data removed]",
      "text/plain": [
       "<Figure size 1440x720 with 1 Axes>"
      ]
     },
     "metadata": {
      "needs_background": "light"
     },
     "output_type": "display_data"
    }
   ],
   "source": [
    "# IQR\n",
    "\n",
    "quarters = pd.unique(group[\"quarter\"])\n",
    "dates = pd.unique(group[\"month\"])\n",
    "\n",
    "empty = pd.DataFrame()\n",
    "for month in dates:\n",
    "    \n",
    "#     df_quarter = group.loc[group[\"quarter\"] == month]\n",
    "    df_quarter = group.loc[group[\"month\"] == month]\n",
    "\n",
    "    \n",
    "    #Looking at Outliers\n",
    "    q1 = df_quarter.quantile(0.25)[0]\n",
    "    q2 = df_quarter.quantile(0.50)[0]\n",
    "    q3 = df_quarter.quantile(0.75)[0]\n",
    "\n",
    "    IQR = q3 - q1\n",
    "    lower = q1 - 1.5*IQR\n",
    "    upper = q3 + 1.5*IQR\n",
    "\n",
    "    temp = df_quarter[(df_quarter[\"Duration\"] < upper)]\n",
    "    empty = empty.append(temp)\n",
    "    \n",
    "display(empty.describe())\n",
    "empty.boxplot(column = \"Duration\", by = \"month\", figsize = (20, 10), rot = 90)\n",
    "display(empty.shape)\n",
    "\n",
    "#plt.savefig(\"Without outlier\" + \".png\")"
   ]
  },
  {
   "cell_type": "code",
   "execution_count": 9,
   "metadata": {},
   "outputs": [
    {
     "data": {
      "text/html": [
       "<div>\n",
       "<style scoped>\n",
       "    .dataframe tbody tr th:only-of-type {\n",
       "        vertical-align: middle;\n",
       "    }\n",
       "\n",
       "    .dataframe tbody tr th {\n",
       "        vertical-align: top;\n",
       "    }\n",
       "\n",
       "    .dataframe thead th {\n",
       "        text-align: right;\n",
       "    }\n",
       "</style>\n",
       "<table border=\"1\" class=\"dataframe\">\n",
       "  <thead>\n",
       "    <tr style=\"text-align: right;\">\n",
       "      <th></th>\n",
       "      <th>Duration</th>\n",
       "      <th>Total order quantity</th>\n",
       "    </tr>\n",
       "  </thead>\n",
       "  <tbody>\n",
       "    <tr>\n",
       "      <th>count</th>\n",
       "      <td>778.000000</td>\n",
       "      <td>778.000000</td>\n",
       "    </tr>\n",
       "    <tr>\n",
       "      <th>mean</th>\n",
       "      <td>20.881748</td>\n",
       "      <td>20710.943445</td>\n",
       "    </tr>\n",
       "    <tr>\n",
       "      <th>std</th>\n",
       "      <td>35.724045</td>\n",
       "      <td>15557.433096</td>\n",
       "    </tr>\n",
       "    <tr>\n",
       "      <th>min</th>\n",
       "      <td>4.000000</td>\n",
       "      <td>200.000000</td>\n",
       "    </tr>\n",
       "    <tr>\n",
       "      <th>25%</th>\n",
       "      <td>11.000000</td>\n",
       "      <td>7073.750000</td>\n",
       "    </tr>\n",
       "    <tr>\n",
       "      <th>50%</th>\n",
       "      <td>16.000000</td>\n",
       "      <td>17500.000000</td>\n",
       "    </tr>\n",
       "    <tr>\n",
       "      <th>75%</th>\n",
       "      <td>23.000000</td>\n",
       "      <td>32626.250000</td>\n",
       "    </tr>\n",
       "    <tr>\n",
       "      <th>max</th>\n",
       "      <td>387.000000</td>\n",
       "      <td>66254.000000</td>\n",
       "    </tr>\n",
       "  </tbody>\n",
       "</table>\n",
       "</div>"
      ],
      "text/plain": [
       "         Duration  Total order quantity\n",
       "count  778.000000            778.000000\n",
       "mean    20.881748          20710.943445\n",
       "std     35.724045          15557.433096\n",
       "min      4.000000            200.000000\n",
       "25%     11.000000           7073.750000\n",
       "50%     16.000000          17500.000000\n",
       "75%     23.000000          32626.250000\n",
       "max    387.000000          66254.000000"
      ]
     },
     "metadata": {},
     "output_type": "display_data"
    },
    {
     "data": {
      "text/plain": [
       "(778, 5)"
      ]
     },
     "metadata": {},
     "output_type": "display_data"
    },
    {
     "data": {
      "image/png": "[encoded data removed]",
      "text/plain": [
       "<Figure size 1440x720 with 1 Axes>"
      ]
     },
     "metadata": {
      "needs_background": "light"
     },
     "output_type": "display_data"
    }
   ],
   "source": [
    "# STD\n",
    "\n",
    "dates = pd.unique(group[\"quarter\"])\n",
    "# empty is an empty dataframe that I am adding rows to at the end of the for-loop\n",
    "empty2 = pd.DataFrame()\n",
    "\n",
    "\n",
    "\n",
    "for quarter in dates:\n",
    "    df_quarter = empty.loc[empty[\"quarter\"] == quarter]\n",
    "    \n",
    "    std = df_quarter[\"Duration\"].std()\n",
    "    mean = df_quarter[\"Duration\"].mean()\n",
    "\n",
    "    lower = mean - std*3\n",
    "    upper = mean + std*3 \n",
    "   \n",
    "\n",
    "    temp = df_quarter[(df_quarter[\"Duration\"] < upper)]\n",
    "    empty2 = empty2.append(temp)\n",
    "    \n",
    "\n",
    "#display(empty2.head())\n",
    "display(empty2.describe())\n",
    "empty2.boxplot(column = \"Duration\", by = \"month\", figsize = (20, 10), rot = 90)\n",
    "display(empty2.shape)\n",
    "\n",
    "#plt.savefig(\"Without outlier\" + \".png\")"
   ]
  },
  {
   "cell_type": "code",
   "execution_count": 10,
   "metadata": {},
   "outputs": [
    {
     "data": {
      "text/html": [
       "<div>\n",
       "<style scoped>\n",
       "    .dataframe tbody tr th:only-of-type {\n",
       "        vertical-align: middle;\n",
       "    }\n",
       "\n",
       "    .dataframe tbody tr th {\n",
       "        vertical-align: top;\n",
       "    }\n",
       "\n",
       "    .dataframe thead th {\n",
       "        text-align: right;\n",
       "    }\n",
       "</style>\n",
       "<table border=\"1\" class=\"dataframe\">\n",
       "  <thead>\n",
       "    <tr style=\"text-align: right;\">\n",
       "      <th></th>\n",
       "      <th>Duration</th>\n",
       "      <th>Total order quantity</th>\n",
       "      <th>Copy date</th>\n",
       "    </tr>\n",
       "    <tr>\n",
       "      <th>Confirmation Start Date</th>\n",
       "      <th></th>\n",
       "      <th></th>\n",
       "      <th></th>\n",
       "    </tr>\n",
       "  </thead>\n",
       "  <tbody>\n",
       "    <tr>\n",
       "      <th>2017-01-08</th>\n",
       "      <td>9.200000</td>\n",
       "      <td>26446.400000</td>\n",
       "      <td>2017-01-08</td>\n",
       "    </tr>\n",
       "    <tr>\n",
       "      <th>2017-01-15</th>\n",
       "      <td>17.750000</td>\n",
       "      <td>10000.500000</td>\n",
       "      <td>2017-01-15</td>\n",
       "    </tr>\n",
       "    <tr>\n",
       "      <th>2017-01-22</th>\n",
       "      <td>17.000000</td>\n",
       "      <td>18000.000000</td>\n",
       "      <td>2017-01-22</td>\n",
       "    </tr>\n",
       "    <tr>\n",
       "      <th>2017-01-29</th>\n",
       "      <td>17.600000</td>\n",
       "      <td>21075.200000</td>\n",
       "      <td>2017-01-29</td>\n",
       "    </tr>\n",
       "    <tr>\n",
       "      <th>2017-02-05</th>\n",
       "      <td>14.714286</td>\n",
       "      <td>17016.571429</td>\n",
       "      <td>2017-02-05</td>\n",
       "    </tr>\n",
       "    <tr>\n",
       "      <th>...</th>\n",
       "      <td>...</td>\n",
       "      <td>...</td>\n",
       "      <td>...</td>\n",
       "    </tr>\n",
       "    <tr>\n",
       "      <th>2020-04-19</th>\n",
       "      <td>16.500000</td>\n",
       "      <td>27753.000000</td>\n",
       "      <td>2020-04-19</td>\n",
       "    </tr>\n",
       "    <tr>\n",
       "      <th>2020-04-26</th>\n",
       "      <td>18.250000</td>\n",
       "      <td>35866.000000</td>\n",
       "      <td>2020-04-26</td>\n",
       "    </tr>\n",
       "    <tr>\n",
       "      <th>2020-05-03</th>\n",
       "      <td>9.500000</td>\n",
       "      <td>12120.250000</td>\n",
       "      <td>2020-05-03</td>\n",
       "    </tr>\n",
       "    <tr>\n",
       "      <th>2020-05-10</th>\n",
       "      <td>16.250000</td>\n",
       "      <td>31837.500000</td>\n",
       "      <td>2020-05-10</td>\n",
       "    </tr>\n",
       "    <tr>\n",
       "      <th>2020-05-17</th>\n",
       "      <td>9.000000</td>\n",
       "      <td>25655.000000</td>\n",
       "      <td>2020-05-17</td>\n",
       "    </tr>\n",
       "  </tbody>\n",
       "</table>\n",
       "<p>176 rows × 3 columns</p>\n",
       "</div>"
      ],
      "text/plain": [
       "                          Duration  Total order quantity  Copy date\n",
       "Confirmation Start Date                                            \n",
       "2017-01-08                9.200000          26446.400000 2017-01-08\n",
       "2017-01-15               17.750000          10000.500000 2017-01-15\n",
       "2017-01-22               17.000000          18000.000000 2017-01-22\n",
       "2017-01-29               17.600000          21075.200000 2017-01-29\n",
       "2017-02-05               14.714286          17016.571429 2017-02-05\n",
       "...                            ...                   ...        ...\n",
       "2020-04-19               16.500000          27753.000000 2020-04-19\n",
       "2020-04-26               18.250000          35866.000000 2020-04-26\n",
       "2020-05-03                9.500000          12120.250000 2020-05-03\n",
       "2020-05-10               16.250000          31837.500000 2020-05-10\n",
       "2020-05-17                9.000000          25655.000000 2020-05-17\n",
       "\n",
       "[176 rows x 3 columns]"
      ]
     },
     "metadata": {},
     "output_type": "display_data"
    }
   ],
   "source": [
    "# group_resample has the moving average for every month\n",
    "#empty2[\"copy dates\"] = empty2[\"Confirmation Start Date\"]\n",
    "\n",
    "empty2.set_index(\"Confirmation Start Date\", inplace = True)\n",
    "\n",
    "group_resample = empty2.resample(\"W\").mean()\n",
    "group_resample[\"Duration\"] = group_resample[\"Duration\"].fillna(method = \"ffill\")\n",
    "group_resample[\"Total order quantity\"] = group_resample[\"Total order quantity\"].fillna(method = \"ffill\")\n",
    "group_resample[\"Copy date\"] = group_resample.index\n",
    "\n",
    "\n",
    "#group_resample[\"Total order quantity\"] = group_resample[\"Total order quantity\"].fillna(method = \"ffill\")\n",
    "#group_resample[\"returns\"] = group_resample[\"Duration\"].pct_change(1)\n",
    "#group_resample = group_resample.dropna()\n",
    "\n",
    "# ratio = 0.8\n",
    "# length = group_resample.shape[0]\n",
    "# pivot = int(ratio * length)\n",
    "\n",
    "# train = group_resample[:pivot]\n",
    "# test = group_resample[pivot:]\n",
    "\n",
    "# train_size = train.shape[0]\n",
    "# test_size = test.shape[0]\n",
    "# group_resample_size = group_resample.shape[0]\n",
    "\n",
    "\n",
    "# display(train_size)\n",
    "# display(test_size)\n",
    "# display(group_resample_size)\n",
    "display(group_resample)\n",
    "# display(test)"
   ]
  },
  {
   "cell_type": "code",
   "execution_count": 11,
   "metadata": {},
   "outputs": [
    {
     "data": {
      "text/plain": [
       "140"
      ]
     },
     "metadata": {},
     "output_type": "display_data"
    },
    {
     "data": {
      "text/plain": [
       "36"
      ]
     },
     "metadata": {},
     "output_type": "display_data"
    },
    {
     "data": {
      "text/plain": [
       "176"
      ]
     },
     "metadata": {},
     "output_type": "display_data"
    },
    {
     "data": {
      "image/png": "[encoded data removed]",
      "text/plain": [
       "<Figure size 432x288 with 1 Axes>"
      ]
     },
     "metadata": {
      "needs_background": "light"
     },
     "output_type": "display_data"
    }
   ],
   "source": [
    "# Training Data for prophet\n",
    "\n",
    "pro_df = pd.DataFrame()\n",
    "pro_df[\"ds\"] = group_resample[\"Copy date\"]\n",
    "pro_df[\"y\"] = group_resample[\"Duration\"]\n",
    "\n",
    "#Adding a regressor\n",
    "\n",
    "pro_df[\"Total order quantity\"] = group_resample[\"Total order quantity\"]\n",
    "\n",
    "ratio = 0.8\n",
    "length = group_resample.shape[0]\n",
    "pivot = int(ratio * length)\n",
    "\n",
    "train = pro_df[:pivot]\n",
    "test = pro_df[pivot:]\n",
    "\n",
    "train_size = train.shape[0]\n",
    "test_size = test.shape[0]\n",
    "group_resample_size = group_resample.shape[0]\n",
    "\n",
    "test.plot(x = \"ds\", y = \"y\")\n",
    "display(train_size)\n",
    "display(test_size)\n",
    "display(group_resample_size)\n"
   ]
  },
  {
   "cell_type": "code",
   "execution_count": 12,
   "metadata": {},
   "outputs": [
    {
     "name": "stderr",
     "output_type": "stream",
     "text": [
      "INFO:fbprophet:Disabling weekly seasonality. Run prophet with weekly_seasonality=True to override this.\n",
      "INFO:fbprophet:Disabling daily seasonality. Run prophet with daily_seasonality=True to override this.\n"
     ]
    },
    {
     "data": {
      "text/plain": [
       "<fbprophet.forecaster.Prophet at 0x14c3f038760>"
      ]
     },
     "execution_count": 12,
     "metadata": {},
     "output_type": "execute_result"
    }
   ],
   "source": [
    "r = Prophet(yearly_seasonality = True)\n",
    "r.add_regressor(\"Total order quantity\")\n",
    "\n",
    "r.fit(train)"
   ]
  },
  {
   "cell_type": "code",
   "execution_count": null,
   "metadata": {},
   "outputs": [],
   "source": [
    "# future_dates = r.make_future_dataframe(periods = test_size)\n",
    "# future_dates\n",
    "\n",
    "\n",
    "# prediction = r.predict(future_dates)"
   ]
  },
  {
   "cell_type": "code",
   "execution_count": 13,
   "metadata": {},
   "outputs": [
    {
     "data": {
      "text/plain": [
       "186.30851726609808"
      ]
     },
     "metadata": {},
     "output_type": "display_data"
    },
    {
     "data": {
      "image/png": "[encoded data removed]",
      "text/plain": [
       "<Figure size 720x432 with 1 Axes>"
      ]
     },
     "metadata": {},
     "output_type": "display_data"
    }
   ],
   "source": [
    "forecast_r = r.predict(test)\n",
    "fig3 = r.plot(forecast_r)\n",
    "#r.plot_components(forecast_r)\n",
    "\n",
    "#display(forecast_r)\n",
    "\n",
    "# forecast_r.plot(x = \"ds\", y = \"yhat\")\n",
    "# test.plot(x = \"ds\", y = \"y\")\n",
    "\n",
    "\n",
    "\n",
    "plt.plot(forecast_r[\"ds\"], forecast_r[\"yhat\"], label = \"forcast\")\n",
    "plt.plot(test[\"ds\"], test[\"y\"], label = \"real value\")\n",
    "# name = f\"Group Number is {group}\"\n",
    "group_number = 106\n",
    "plt.suptitle(\"Group Number is \" + str(group_number))\n",
    "plt.legend()\n",
    "error = mean_squared_error(forecast_r[\"yhat\"], test[\"y\"])\n",
    "display(error)                   \n",
    "#plt.savefig(f\"Removed Outliers group/\" + name + \".png\")"
   ]
  },
  {
   "cell_type": "code",
   "execution_count": null,
   "metadata": {},
   "outputs": [],
   "source": [
    "from sklearn import metrics"
   ]
  },
  {
   "cell_type": "code",
   "execution_count": null,
   "metadata": {},
   "outputs": [],
   "source": []
  },
  {
   "cell_type": "code",
   "execution_count": null,
   "metadata": {},
   "outputs": [],
   "source": []
  },
  {
   "cell_type": "code",
   "execution_count": null,
   "metadata": {},
   "outputs": [],
   "source": [
    "test.head()"
   ]
  },
  {
   "cell_type": "code",
   "execution_count": null,
   "metadata": {},
   "outputs": [],
   "source": [
    "res = sm.tsa.seasonal_decompose(train[\"Duration\"], model = \"additive\")\n",
    "fig = res.plot()\n",
    "fig.set_figheight(10)\n",
    "fig.set_figwidth(15)\n",
    "plt.show()"
   ]
  },
  {
   "cell_type": "code",
   "execution_count": null,
   "metadata": {},
   "outputs": [],
   "source": [
    "#including returns and normalized data\n",
    "\n",
    "# group_resample[\"returns\"] = group_resample[\"Duration\"].pct_change(1)\n",
    "# group_resample[\"returns\"].plot()\n",
    "\n",
    "# benchmark = group_resample[\"Duration\"].iloc[0]\n",
    "# group_resample[\"norm\"] = group_resample[\"Duration\"].div(benchmark)\n",
    "\n",
    "# group_resample[\"norm\"].plot()\n",
    "# display(adfuller(group_resample[\"returns\"].dropna()))"
   ]
  },
  {
   "cell_type": "code",
   "execution_count": null,
   "metadata": {},
   "outputs": [],
   "source": [
    "#Normalizing values\n",
    "\n",
    "# bench_ret = group_resample[\"returns\"].dropna().iloc[0]\n",
    "# group_resample[\"norm_ret\"] = group_resample[\"returns\"].div(bench_ret).mul(100)\n",
    "# group_resample.head()"
   ]
  },
  {
   "cell_type": "code",
   "execution_count": null,
   "metadata": {},
   "outputs": [],
   "source": [
    "# Doing ACF and PACF on returns \n",
    "\n",
    "# from statsmodels.graphics.tsaplots import plot_acf, plot_pacf\n",
    "\n",
    "# fig, ax = plt.subplots(2, 1, figsize=(20, 15))\n",
    "# fig = sm.graphics.tsa.plot_acf(train.returns.dropna(), lags = 25, ax=ax[0], zero = False)\n",
    "\n",
    "# fig = sm.graphics.tsa.plot_pacf(train.returns.dropna(), lags = 25, ax=ax[1], zero = False, method = \"ols\")\n",
    "# plt.show()\n",
    "\n",
    "#p is 1, 2\n",
    "#d is 1\n",
    "#q is 1, 2"
   ]
  },
  {
   "cell_type": "code",
   "execution_count": null,
   "metadata": {},
   "outputs": [],
   "source": [
    "def adf_check(time_series):\n",
    "    \n",
    "    result = adfuller(time_series)\n",
    "    print('Augmented Dickey-Fuller Test')\n",
    "    labels = ['ADF Test Statistic', 'p-value', '# of lags', 'Num of Obs used']\n",
    "    \n",
    "    print('Critical values:')\n",
    "    for key,value in result[4].items():\n",
    "        print('\\t{}: {}'.format(key, value) )\n",
    "    \n",
    "    for value, label in zip(result,labels):\n",
    "        print(label+ ' : '+str(value))\n",
    "    \n",
    "    if ((result[1] <= 0.05 and  result[0] <= result[4]['1%']) or\n",
    "    (result[1] <= 0.05 and  result[0] <= result[4]['5%']) or\n",
    "        (result[1] <= 0.05 and  result[0] <= result[4]['10%'])):\n",
    "        print('Reject null hypothesis')\n",
    "        print ('Data has no unit root and is stationary')\n",
    "   \n",
    "    else:\n",
    "        print('Fail to reject null hypothesis')\n",
    "        print('Data has a unit root and it is non-stationary')\n",
    "\n",
    "result = adf_check(group_resample[\"Duration\"])"
   ]
  },
  {
   "cell_type": "code",
   "execution_count": null,
   "metadata": {},
   "outputs": [],
   "source": [
    "#Beginning of indian YouTube Tutorial "
   ]
  },
  {
   "cell_type": "code",
   "execution_count": null,
   "metadata": {},
   "outputs": [],
   "source": [
    "# group_resample.shape"
   ]
  },
  {
   "cell_type": "code",
   "execution_count": null,
   "metadata": {},
   "outputs": [],
   "source": [
    "# group_resample[\"Seasonal_First_Difference\"] = group_resample[\"Duration\"] - group_resample[\"Duration\"].shift(12)"
   ]
  },
  {
   "cell_type": "code",
   "execution_count": null,
   "metadata": {},
   "outputs": [],
   "source": [
    "# adf_check(group_resample[\"Seasonal_First_Difference\"].dropna())\n",
    "# group_resample[\"Seasonal_First_Difference\"].plot()"
   ]
  },
  {
   "cell_type": "code",
   "execution_count": null,
   "metadata": {},
   "outputs": [],
   "source": [
    "# from pandas.plotting import autocorrelation_plot\n",
    "# autocorrelation_plot(group_resample[\"Duration\"])\n",
    "# plt.show()"
   ]
  },
  {
   "cell_type": "code",
   "execution_count": null,
   "metadata": {},
   "outputs": [],
   "source": [
    "from statsmodels.graphics.tsaplots import plot_acf, plot_pacf\n",
    "\n",
    "fig, ax = plt.subplots(2, 1, figsize=(20, 15))\n",
    "fig = sm.graphics.tsa.plot_acf(train.Duration.dropna(), lags = 20, ax=ax[0])\n",
    "\n",
    "fig = sm.graphics.tsa.plot_pacf(train.Duration.dropna(), lags = 20, ax=ax[1])\n",
    "plt.show()\n",
    "\n",
    "#p is 1, 2\n",
    "#d is 1\n",
    "#q is 1, 2"
   ]
  },
  {
   "cell_type": "code",
   "execution_count": null,
   "metadata": {},
   "outputs": [],
   "source": []
  },
  {
   "cell_type": "code",
   "execution_count": null,
   "metadata": {},
   "outputs": [],
   "source": [
    "# ARIMA model\n",
    "\n",
    "#Not such a good approach because the data we have is seasonal\n",
    "# model = ARIMA(group_resample[\"Duration\"], order = (1, 1, 1), exog = train[\"Total order quantity\"])\n",
    "# results = model.fit()\n",
    "# results.summary()"
   ]
  },
  {
   "cell_type": "code",
   "execution_count": null,
   "metadata": {},
   "outputs": [],
   "source": [
    "# SARIMA model\n",
    "\n",
    "model = sm.tsa.statespace.SARIMAX(train[\"Duration\"], order = (1, 1, 1), seasonal_order=(1, 1, 1, 12), exog = train[\"Total order quantity\"])\n",
    "results = model.fit()\n",
    "results.summary()"
   ]
  },
  {
   "cell_type": "code",
   "execution_count": null,
   "metadata": {},
   "outputs": [],
   "source": [
    "#AUTO ARIMA MODEl\n",
    "\n",
    "\n",
    "# model_auto = pm.auto_arima(group_resample[\"Duration\"].dropna(), m = 12, max_order = None, max_p = 5, max_q = 7, max_d = 2, \n",
    "#                               max_P = 4, max_Q = 4, max_D = 2, start_p = 3, trend = \"ct\", \n",
    "#                                 exogenous = group_resample[[\"Total order quantity\"]])\n",
    "\n",
    "\n",
    "\n",
    "\n",
    "# model_auto = pm.auto_arima(train[\"Duration\"], m = 12, max_p = 5, max_q = 7, max_d = 2, max_P = 5, \n",
    "#                            max_Q = 4, start_p = 1, trend = \"ct\", exogenous = train[[\"Total order quantity\"]],\n",
    "#                            information_criterion = \"aic\", d = 1, D = 1, trace = True, suppress_warnings = True, \n",
    "#                           seasonal = True)\n",
    "\n",
    "# model_auto = pm.auto_arima(group_resample[\"Duration\"], m = 12, max_p = 5, max_q = 7, max_d = 2, max_P = 5, \n",
    "#                            max_Q = 4, start_p = 1, trend = \"ct\", exogenous = group_resample[[\"Total order quantity\"]],\n",
    "#                            information_criterion = \"aic\", d = 1, trace = True, suppress_warnings = True, \n",
    "#                           seasonal = True)\n",
    "\n",
    "# model_auto = pm.auto_arima(train[\"Duration\"], exogenous = train[[\"Total order quantity\"]], d = 1,\n",
    "#                           trace = True, suppress_warnings = True, information_criterion = \"aic\", start_p = 1, \n",
    "#                            start_q = 1, scoring = \"mse\")\n",
    "\n",
    "model_auto = pm.auto_arima(train[\"Duration\"], exogenous = train[[\"Total order quantity\"]], start_p = 0, start_q = 0, \n",
    "                           start_Q = 0, max_p = 10, max_q = 10, max_Q = 10, stepwise = True, d = 1, \n",
    "                           suppress_warnings = True, D=1, max_D = 10, error_action = \"ignore\", approximation = False, \n",
    "                         trace = True, seasonal = True)\n",
    "\n",
    "\n",
    "# model_auto = pm.auto_arima(train[\"Duration\"], error_action='ignore', trace=True, trend = \"ct\",\n",
    "#                       suppress_warnings=True, maxiter=100, D=1,\n",
    "#                       seasonal=True)\n",
    "\n",
    "#exogenous = train[[\"Total order quantity\"]], \n",
    "\n",
    "model_auto.summary()"
   ]
  },
  {
   "cell_type": "code",
   "execution_count": null,
   "metadata": {},
   "outputs": [],
   "source": [
    "# Auto Arima model forcasting check Without Exogenous variables\n",
    "\n",
    "# Without exogenous variables\n",
    "\n",
    "model_auto.fit(train[\"Duration\"])\n",
    "future_forecast = model_auto.predict(n_periods=test_size)\n",
    "future_forecast\n",
    "\n",
    "#---------------------------------------------------------------------------------------------------------------------------\n",
    "\n",
    "# Predicting without exogenous\n",
    "\n",
    "df_auto_pred = pd.DataFrame(model_auto.predict(n_periods = test_size), index = test.index)\n",
    "\n",
    "#---------------------------------------------------------------------------------------------------------------------------\n",
    "\n",
    "\n",
    "# Putting forecasted and predicted into one table, plotting it, and showing it's error\n",
    "\n",
    "df_auto_pred[\"test\"] = test[\"Duration\"]\n",
    "df_auto_pred.columns = [\"predict\", \"test\"]\n",
    "display(df_auto_pred)\n",
    "display(df_auto_pred.plot())\n",
    "error = mean_squared_error(df_auto_pred[\"predict\"], df_auto_pred[\"test\"])\n",
    "display(f\"mean squared error: {error}\")"
   ]
  },
  {
   "cell_type": "code",
   "execution_count": null,
   "metadata": {},
   "outputs": [],
   "source": [
    "# Auto Arima model forcasting check with Exogenous variables\n",
    "\n",
    "# With exogenous variables\n",
    "\n",
    "model_auto.fit(train[\"Duration\"], exogenous = train[[\"Total order quantity\"]])\n",
    "future_forecast = model_auto.predict(n_periods=test_size, exogenous = test[[\"Total order quantity\"]])\n",
    "future_forecast\n",
    "\n",
    "#---------------------------------------------------------------------------------------------------------------------------\n",
    "\n",
    "# Predicting with exogenous\n",
    "\n",
    "\n",
    "df_auto_pred = pd.DataFrame(model_auto.predict(n_periods = test_size, exogenous = test[[\"Total order quantity\"]]), \n",
    "                                             index = test.index)\n",
    "\n",
    "#---------------------------------------------------------------------------------------------------------------------------\n",
    "\n",
    "\n",
    "# Putting forecasted and predicted into one table, plotting it, and showing it's error\n",
    "\n",
    "\n",
    "df_auto_pred[\"test\"] = test[\"Duration\"]\n",
    "df_auto_pred.columns = [\"predict\", \"test\"]\n",
    "\n",
    "\n",
    "#trying to plot the data\n",
    "# plt.plot(group_resample[\"Duration\"], c = \"blue\")\n",
    "# plt.plot(df_auto_pred[\"predict\"], c = \"red\")\n",
    "\n",
    "\n",
    "#Trying to copy Kenar's Code\n",
    "# x = np.arange(group_resample_size)\n",
    "# plt.plot(group_resample[\"Duration\"], c='blue')\n",
    "# plt.plot(df_auto_pred[\"test\"], c = \"red\")\n",
    "# plt.plot(x[:], df_auto_pred[\"predict\"], c = \"pink\")\n",
    "\n",
    "#display(df_auto_pred)\n",
    "# display(group_resample[\"Duration\"].plot())\n",
    "# display(df_auto_pred.plot())\n",
    "error = mean_squared_error(df_auto_pred[\"predict\"], df_auto_pred[\"test\"])\n",
    "display(f\"mean squared error: {error}\")"
   ]
  },
  {
   "cell_type": "code",
   "execution_count": null,
   "metadata": {},
   "outputs": [],
   "source": [
    "group_resample.head()"
   ]
  },
  {
   "cell_type": "code",
   "execution_count": null,
   "metadata": {},
   "outputs": [],
   "source": [
    "# group_resample[\"forecast\"] = model_auto.predict(start = train_size, end = group_resample_size - 1, dynamic = True, exog = test[\"Total order quantity\"])\n",
    "# group_resample[[\"Duration\", \"forecast\"]].plot(figsize = (12, 8))\n",
    "# # group_resample[\"forecast\"].plot(figsize = (12, 8))\n",
    "# # test[\"Duration\"].plot()\n",
    "\n",
    "# a = group_resample[\"forecast\"].dropna()\n",
    "# b = test[\"Duration\"].dropna()\n",
    "# display(type(a))\n",
    "# display(type(b))\n",
    "# newDf = a.to_frame().join(b)\n",
    "# newDf = newDf.dropna()\n",
    "# display(newDf)\n",
    "# error = mean_squared_error(newDf[\"forecast\"], newDf[\"Duration\"])\n",
    "# display(f\"mean squared error: {error}\")\n"
   ]
  },
  {
   "cell_type": "code",
   "execution_count": null,
   "metadata": {},
   "outputs": [],
   "source": [
    "# Predicting with exogenous\n",
    "df_auto_pred = pd.DataFrame(model_auto.predict(n_periods = test_size, exogenous = test[[\"Total order quantity\"]]), \n",
    "                                               index = test.index)\n",
    "\n",
    "# Predicting without exogenous\n",
    "df_auto_pred = pd.DataFrame(model_auto.predict(n_periods = test_size), index = test.index)\n",
    "\n",
    "# Putting forecasted and predicted into one table, plotting it, and showing it's residual\n",
    "df_auto_pred[\"test\"] = test[\"Duration\"]\n",
    "df_auto_pred.columns = [\"predict\", \"test\"]\n",
    "display(df_auto_pred)\n",
    "display(df_auto_pred.plot())\n",
    "error = mean_squared_error(df_auto_pred[\"predict\"], df_auto_pred[\"test\"])\n",
    "display(f\"mean squared error: {error}\")"
   ]
  },
  {
   "cell_type": "code",
   "execution_count": null,
   "metadata": {},
   "outputs": [],
   "source": [
    "# future_forecast = pd.DataFrame(future_forecast, index = test.index, columns = [\"Prediction\"])\n",
    "# # pd.concat([test, future_forecast], axis = 1)\n",
    "# # future_forecast\n",
    "# newDf = test[\"Duration\"].to_frame().join(future_forecast)\n",
    "# newDf = newDf.dropna()\n",
    "# display(newDf)\n",
    "# display(newDf.plot())"
   ]
  },
  {
   "cell_type": "code",
   "execution_count": null,
   "metadata": {},
   "outputs": [],
   "source": [
    "# (mean_squared_error(newDf[\"Duration\"], newDf[\"Prediction\"]))"
   ]
  },
  {
   "cell_type": "markdown",
   "metadata": {},
   "source": [
    "# Break of Code"
   ]
  },
  {
   "cell_type": "code",
   "execution_count": null,
   "metadata": {},
   "outputs": [],
   "source": [
    "residuals = results.resid\n",
    "residuals.describe()"
   ]
  },
  {
   "cell_type": "code",
   "execution_count": null,
   "metadata": {},
   "outputs": [],
   "source": [
    "group_resample[\"forecast\"] = results.predict(start = train_size, end = group_resample_size - 1, dynamic = True, exog = test[\"Total order quantity\"])\n",
    "group_resample[[\"Duration\", \"forecast\"]].plot(figsize = (12, 8))\n",
    "# group_resample[\"forecast\"].plot(figsize = (12, 8))\n",
    "# test[\"Duration\"].plot()\n",
    "\n",
    "a = group_resample[\"forecast\"].dropna()\n",
    "b = test[\"Duration\"].dropna()\n",
    "display(type(a))\n",
    "display(type(b))\n",
    "newDf = a.to_frame().join(b)\n",
    "newDf = newDf.dropna()\n",
    "display(newDf)\n",
    "error = mean_squared_error(newDf[\"forecast\"], newDf[\"Duration\"])\n",
    "display(f\"mean squared error: {error}\")\n"
   ]
  },
  {
   "cell_type": "code",
   "execution_count": null,
   "metadata": {},
   "outputs": [],
   "source": [
    "test"
   ]
  },
  {
   "cell_type": "code",
   "execution_count": null,
   "metadata": {},
   "outputs": [],
   "source": []
  },
  {
   "cell_type": "code",
   "execution_count": null,
   "metadata": {},
   "outputs": [],
   "source": []
  },
  {
   "cell_type": "code",
   "execution_count": null,
   "metadata": {},
   "outputs": [],
   "source": []
  },
  {
   "cell_type": "code",
   "execution_count": null,
   "metadata": {},
   "outputs": [],
   "source": [
    "#end of indian video"
   ]
  },
  {
   "cell_type": "code",
   "execution_count": null,
   "metadata": {},
   "outputs": [],
   "source": [
    "group_resample[\"Dif_1\"] = group_resample[\"Duration\"] - group_resample[\"Duration\"].shift(1)\n",
    "group_resample[\"Dif_1\"].plot()\n",
    "adf_check(group_resample[\"Dif_1\"].dropna())"
   ]
  },
  {
   "cell_type": "code",
   "execution_count": null,
   "metadata": {},
   "outputs": [],
   "source": [
    "group_resample[\"Dif_Season\"] = group_resample[\"Duration\"] - group_resample[\"Duration\"].shift(12)\n",
    "group_resample[\"Dif_Season\"].plot(rot = 80, figsize=(14, 8))\n",
    "adf_check(group_resample[\"Dif_Season\"].dropna())"
   ]
  },
  {
   "cell_type": "code",
   "execution_count": null,
   "metadata": {},
   "outputs": [],
   "source": [
    "group_resample[\"Dif_Season_1\"] = group_resample[\"Dif_1\"] - group_resample[\"Dif_1\"].shift(12)\n",
    "group_resample[\"Dif_Season_1\"].plot()\n",
    "adf_check(group_resample[\"Dif_Season_1\"].dropna())"
   ]
  },
  {
   "cell_type": "code",
   "execution_count": null,
   "metadata": {},
   "outputs": [],
   "source": [
    "group_resample[\"Dif_mean\"] = group_resample[\"Duration\"] - group_resample[\"Duration\"].rolling(12).mean()\n",
    "adf_check(group_resample[\"Dif_mean\"].dropna())"
   ]
  },
  {
   "cell_type": "code",
   "execution_count": null,
   "metadata": {},
   "outputs": [],
   "source": [
    "group_resample"
   ]
  },
  {
   "cell_type": "code",
   "execution_count": null,
   "metadata": {},
   "outputs": [],
   "source": [
    "group_resample[\"Dif_Season_1\"]"
   ]
  },
  {
   "cell_type": "code",
   "execution_count": null,
   "metadata": {},
   "outputs": [],
   "source": [
    "decomp = sm.tsa.seasonal_decompose(group_resample[\"Duration\"], freq = 23)\n",
    "fig = decomp.plot()\n",
    "fig.set_size_inches(15, 15)"
   ]
  },
  {
   "cell_type": "code",
   "execution_count": null,
   "metadata": {},
   "outputs": [],
   "source": [
    "group_resample[\"Dif_Season_1\"].dropna().size"
   ]
  },
  {
   "cell_type": "code",
   "execution_count": null,
   "metadata": {},
   "outputs": [],
   "source": [
    "from statsmodels.graphics.tsaplots import plot_acf, plot_pacf\n",
    "\n",
    "fig, ax = plt.subplots(2, 1, figsize=(20, 15))\n",
    "fig = sm.graphics.tsa.plot_acf(group_resample.Duration.dropna(), lags = 40, ax=ax[0])\n",
    "\n",
    "fig = sm.graphics.tsa.plot_pacf(group_resample.Duration.dropna(), lags = 30, ax=ax[1])\n",
    "plt.show()"
   ]
  },
  {
   "cell_type": "code",
   "execution_count": null,
   "metadata": {},
   "outputs": [],
   "source": [
    "model = sm.tsa.statespace.SARIMAX(train[\"Duration\"], order = (2, 1, 2), seasonal_order = (2, 1, 2, 12))\n",
    "model_result = model.fit()\n",
    "print(model_result.summary())"
   ]
  },
  {
   "cell_type": "code",
   "execution_count": null,
   "metadata": {},
   "outputs": [],
   "source": [
    "model_resid = resid.plot(rot = 80)\n",
    "# res = model_result.resid\n",
    "# fig, ax = plt.subplots(2, 1, figsize=(15, 8))\n",
    "# fig = sm.graphics.tsa.plot_acf(res, lags = 50, ax = ax[0])\n",
    "# fig = sm.graphics.tsa.plot_pacf(res, lags = 50, ax = ax[1])\n",
    "# plt.show()"
   ]
  },
  {
   "cell_type": "code",
   "execution_count": null,
   "metadata": {},
   "outputs": [],
   "source": [
    "from pandas.tseries.offsets import DateOffset\n",
    "forecast_dates = [group_resample.index[-1] + DateOffset(months = x) for x in range(1, 24)]\n",
    "df_future = pd.DataFrame(index = forecast_dates, columns = group_resample.columns)\n",
    "df_final = pd.concat([group_resample, df_future])"
   ]
  },
  {
   "cell_type": "code",
   "execution_count": null,
   "metadata": {},
   "outputs": [],
   "source": [
    "df_final[\"Forecast\"] = model_result.predict(start = 40, end = 50, alpha = 0.5)\n",
    "df_final[[\"Duration\", \"Forecast\"]].plot(figsize=(12,8))"
   ]
  },
  {
   "cell_type": "markdown",
   "metadata": {},
   "source": [
    "# END OF WORKBOOK ABHI GAVE ME"
   ]
  },
  {
   "cell_type": "code",
   "execution_count": null,
   "metadata": {},
   "outputs": [],
   "source": [
    "from statsmodels.graphics.tsaplots import plot_acf, plot_pacf\n",
    "\n",
    "fig, ax = plt.subplots(2, 1, figsize=(20, 10))\n",
    "fig = sm.graphics.tsa.plot_acf(group.Duration.diff().dropna(), lags = 50, ax=ax[0])\n",
    "\n",
    "fig = sm.graphics.tsa.plot_pacf(group.Duration.diff().dropna(), lags = 50, ax=ax[1])\n",
    "plt.show()"
   ]
  },
  {
   "cell_type": "code",
   "execution_count": null,
   "metadata": {},
   "outputs": [],
   "source": [
    "# p = 11 or 12\n",
    "# d = 1\n",
    "\n",
    "resDiff = sm.tsa.arma_order_select_ic(train, max_ar = 13, max_ma = 7, ic=\"aic\", trend = \"c\")\n",
    "print('ARMA(p,q) =', resDiff['aic_min_order'],'is the best.')\n",
    "# 5, 7"
   ]
  },
  {
   "cell_type": "code",
   "execution_count": null,
   "metadata": {},
   "outputs": [],
   "source": []
  },
  {
   "cell_type": "code",
   "execution_count": null,
   "metadata": {},
   "outputs": [],
   "source": [
    "# ARIMA MODEL\n",
    "arima = sm.tsa.statespace.SARIMAX(train, order = (2, 1, 2), seasonal_order=(0, 0, 0, 0), enforce_stationarity = False, enforce_invertibility = False,).fit()\n",
    "arima.summary()"
   ]
  },
  {
   "cell_type": "code",
   "execution_count": null,
   "metadata": {},
   "outputs": [],
   "source": [
    "## SARIMA MODEL\n",
    "# sarima = sm.tsa.statespace.SARIMAX(train, order = (12, 1, 7), seasonal_order=(1, 1, 1, 4), enforce_stationarity = False, enforce_invertibility = False).fit()\n",
    "# sarima.summary()\n",
    "#12, 1, 7"
   ]
  },
  {
   "cell_type": "code",
   "execution_count": null,
   "metadata": {
    "scrolled": true
   },
   "outputs": [],
   "source": [
    "res = sarima.resid\n",
    "fig, ax = plt.subplots(2, 1, figsize=(15, 8))\n",
    "fig = sm.graphics.tsa.plot_acf(res, lags = 50, ax = ax[0])\n",
    "fig = sm.graphics.tsa.plot_pacf(res, lags = 50, ax = ax[1])\n",
    "plt.show()"
   ]
  },
  {
   "cell_type": "code",
   "execution_count": null,
   "metadata": {},
   "outputs": [],
   "source": []
  },
  {
   "cell_type": "code",
   "execution_count": null,
   "metadata": {},
   "outputs": [],
   "source": [
    "\n",
    "#pred = arima.forecast(steps = 10)\n",
    "pred = arima.predict(test_start, test_end).resample(\"BM\").mean()\n",
    "#print(f\"arima model MSE\".format(mean_squared_error(test, pred)))\n",
    "pred"
   ]
  },
  {
   "cell_type": "code",
   "execution_count": null,
   "metadata": {},
   "outputs": [],
   "source": [
    "test.shape\n",
    "# pd.DataFrame({\"test\": test[\"Duration\"], \"pred\": pred})\n",
    "# plt.show()"
   ]
  },
  {
   "cell_type": "code",
   "execution_count": null,
   "metadata": {},
   "outputs": [],
   "source": [
    "train.plot()\n",
    "test.plot()\n",
    "pred.plot()"
   ]
  },
  {
   "cell_type": "code",
   "execution_count": null,
   "metadata": {},
   "outputs": [],
   "source": []
  },
  {
   "cell_type": "code",
   "execution_count": null,
   "metadata": {},
   "outputs": [],
   "source": [
    "import itertools\n",
    "p = d = q = range(0, 2)\n",
    "pdq = list(itertools.product(p, d, q))\n",
    "seasonal_pdq = [(x[0], x[1], x[2], 12) for x in list(itertools.product(p, d, q))]\n",
    "for param in pdq:\n",
    "    for param_seasonal in seasonal_pdq:\n",
    "        try:\n",
    "            mod = sm.tsa.statespace.SARIMAX(group, order = param, seasonal_order = param_seasonal, enforce_stationarity = False, enforce_invertibility=False)\n",
    "            results = mod.fit()\n",
    "            print(\"ARIMA{}x{}12 - AIC:{}\".format(param, param_seasonal, results.aic))\n",
    "        except:\n",
    "            continue"
   ]
  },
  {
   "cell_type": "code",
   "execution_count": null,
   "metadata": {},
   "outputs": [],
   "source": [
    "mod = sm.tsa.statespace.SARIMAX(group, order = (1, 1, 1), seasonal_order = (1, 1, 1, 12), enforce_stationarity=False, enforce_invertibility=False)\n",
    "results = mod.fit()\n",
    "print(results.summary().tables[1])"
   ]
  },
  {
   "cell_type": "code",
   "execution_count": null,
   "metadata": {},
   "outputs": [],
   "source": []
  },
  {
   "cell_type": "code",
   "execution_count": null,
   "metadata": {},
   "outputs": [],
   "source": []
  },
  {
   "cell_type": "code",
   "execution_count": null,
   "metadata": {},
   "outputs": [],
   "source": []
  },
  {
   "cell_type": "code",
   "execution_count": null,
   "metadata": {},
   "outputs": [],
   "source": [
    "res = sm.tsa.adfuller(group[\"Duration\"], regression = \"ct\")\n",
    "print(res[1])\n",
    "# test_result = adfuller(group[\"Duration\"])\n",
    "# test_result"
   ]
  },
  {
   "cell_type": "code",
   "execution_count": null,
   "metadata": {},
   "outputs": [],
   "source": [
    "# group[\"Seasonal Difference\"] = group[\"Duration\"] - group[\"Duration\"].shift(12)\n",
    "# group.dropna()\n",
    "\n",
    "group_diff = group.diff(periods= 12)\n",
    "#integrated of order 1\n",
    "\n",
    "group_diff.dropna()"
   ]
  },
  {
   "cell_type": "code",
   "execution_count": null,
   "metadata": {},
   "outputs": [],
   "source": [
    "group_diff.plot(figsize=(30, 10))"
   ]
  },
  {
   "cell_type": "code",
   "execution_count": null,
   "metadata": {},
   "outputs": [],
   "source": [
    "from statsmodels.graphics.tsaplots import plot_acf, plot_pacf\n",
    "\n",
    "plot_acf(group)\n",
    "plot_pacf(group)"
   ]
  },
  {
   "cell_type": "code",
   "execution_count": null,
   "metadata": {},
   "outputs": [],
   "source": [
    "#from statsmodels.graphics.tsaplots import plot_acf, plot_pacf\n",
    "\n",
    "fig, ax = plt.subplots(2, 1, figsize=(20, 10))\n",
    "fig = sm.graphics.tsa.plot_acf(group[\"Duration\"], lags = 50, ax=ax[0])\n",
    "\n",
    "fig = sm.graphics.tsa.plot_pacf(group[\"Duration\"], lags = 50, ax=ax[1])\n",
    "plt.show()"
   ]
  },
  {
   "cell_type": "code",
   "execution_count": null,
   "metadata": {},
   "outputs": [],
   "source": [
    "from statsmodels.tsa.arima_model import ARIMA\n",
    "model = ARIMA(group[\"Duration\"], order = (1, 1, 1))\n",
    "model_fit = model.fit()"
   ]
  },
  {
   "cell_type": "code",
   "execution_count": null,
   "metadata": {},
   "outputs": [],
   "source": [
    "model_fit.summary()"
   ]
  },
  {
   "cell_type": "code",
   "execution_count": null,
   "metadata": {},
   "outputs": [],
   "source": [
    "model = sm.tsa.statespace.SARIMAX(group[\"Duration\"], order = (1, 1, 1), seasonal_order = (1, 1, 1, 12))\n",
    "results = model.fit()"
   ]
  },
  {
   "cell_type": "code",
   "execution_count": null,
   "metadata": {},
   "outputs": [],
   "source": [
    "group[\"forecast\"] = results.predict(start = 90, end = 103, dynamic = True)\n",
    "group[[\"Duration\", \"forecast\"]].plot(figsize=(12, 8))"
   ]
  },
  {
   "cell_type": "code",
   "execution_count": null,
   "metadata": {},
   "outputs": [],
   "source": [
    "def adfuller_test(duration):\n",
    "    result = adfuller(duration)\n",
    "    labels = [\"ADF test statistic\", \"Pvalue\", \"#lags used\", \"Number of observations used\"]\n",
    "    for value, label in zip(result, labels):\n",
    "        print (label + \": \" + str(value))\n",
    "    if result[1] <= 0.5:\n",
    "        print(\"reject null\")\n",
    "    else:\n",
    "        print(\"fail to reject null\")\n",
    "        \n",
    "test = adfuller_test(group[\"Duration\"])"
   ]
  },
  {
   "cell_type": "code",
   "execution_count": null,
   "metadata": {},
   "outputs": [],
   "source": [
    "time_series = group[\"Duration\"]\n",
    "time_series.rolling(12).mean().plot(label = \"mean\")\n",
    "time_series.rolling(12).std().plot(label = \"std\")\n",
    "time_series.plot(label = \"actual\")\n",
    "plt.legend()"
   ]
  },
  {
   "cell_type": "code",
   "execution_count": null,
   "metadata": {},
   "outputs": [],
   "source": [
    "from statsmodels.tsa.seasonal import seasonal_decompose\n",
    "decomp = seasonal_decompose(x = time_series)\n",
    "decomp.plot()"
   ]
  },
  {
   "cell_type": "code",
   "execution_count": null,
   "metadata": {},
   "outputs": [],
   "source": [
    "type(time_series)"
   ]
  },
  {
   "cell_type": "code",
   "execution_count": null,
   "metadata": {},
   "outputs": [],
   "source": []
  },
  {
   "cell_type": "code",
   "execution_count": null,
   "metadata": {},
   "outputs": [],
   "source": []
  },
  {
   "cell_type": "code",
   "execution_count": null,
   "metadata": {},
   "outputs": [],
   "source": []
  },
  {
   "cell_type": "markdown",
   "metadata": {},
   "source": [
    "# THIS IS WHERE CODE STARTS FOR GRAPHING ORDER QUANITY"
   ]
  },
  {
   "cell_type": "code",
   "execution_count": null,
   "metadata": {},
   "outputs": [],
   "source": [
    "units = [\"µL\", \"L\", \"ML\"]\n",
    "one = df.loc[df[\"MaterialCategory\"] == 1 & ((df[\"Unit\"] == \"µL\") | (df[\"Unit\"] == \"L\") | (df[\"Unit\"] == \"ML\"))]\n",
    "#one_other = df.loc[df[\"MaterialCategory\"] == 1 & ((df[\"Unit\"] == \"PC\") | (df[\"Unit\"] == \"G\"))]\n",
    "#one.to_csv(\"MaterialOne.csv\")\n",
    "#one_other"
   ]
  },
  {
   "cell_type": "code",
   "execution_count": null,
   "metadata": {},
   "outputs": [],
   "source": [
    "one.loc[one[\"Unit\"] == \"µL\", \"Total order quantity\"] = one[\"Total order quantity\"]/1000\n",
    "one.loc[one[\"Unit\"] == \"L\", \"Total order quantity\"] = one[\"Total order quantity\"] * 1000\n",
    "one[\"Unit\"] = \"ML\""
   ]
  },
  {
   "cell_type": "code",
   "execution_count": null,
   "metadata": {},
   "outputs": [],
   "source": [
    "one\n",
    "#one.to_csv(\"MaterialOne.csv\")"
   ]
  },
  {
   "cell_type": "code",
   "execution_count": null,
   "metadata": {},
   "outputs": [],
   "source": [
    "one[\"Color\"] = \"red\"\n",
    "one.loc[one[\"Total order quantity\"] > 5000, \"Color\"] = \"blue\"\n",
    "one.loc[one[\"Total order quantity\"] > 10000, \"Color\"] = \"green\"\n",
    "one.loc[one[\"Total order quantity\"] > 50000, \"Color\"] = \"magenta\"\n",
    "one.loc[one[\"Total order quantity\"] > 100000, \"Color\"] = \"pink\"\n",
    "one.loc[one[\"Total order quantity\"] > 500000, \"Color\"] = \"cyan\"\n",
    "one.loc[one[\"Total order quantity\"] > 750000, \"Color\"] = \"yellow\"\n",
    "one.loc[one[\"Total order quantity\"] > 1000000, \"Color\"] = \"black\"\n",
    "\n",
    "# one.loc[one[\"Unit\"] == \"PC\", \"Color\"] = \"purple\"\n",
    "# one.loc[one[\"Unit\"] == \"G\", \"Color\"] = \"orange\""
   ]
  },
  {
   "cell_type": "code",
   "execution_count": null,
   "metadata": {},
   "outputs": [],
   "source": [
    "one"
   ]
  },
  {
   "cell_type": "code",
   "execution_count": null,
   "metadata": {},
   "outputs": [],
   "source": [
    "one.set_index(\"Confirmation Start Date\", inplace = True)\n",
    "one"
   ]
  },
  {
   "cell_type": "code",
   "execution_count": null,
   "metadata": {},
   "outputs": [],
   "source": [
    "#one[\"Total order quantity\"].resample(\"M\").mean().plot(color = \"blue\")"
   ]
  },
  {
   "cell_type": "code",
   "execution_count": null,
   "metadata": {},
   "outputs": [],
   "source": [
    "#one.plot(title = \"Material 1\", figsize = (20, 20), kind = \"scatter\",  x = \"Confirmation Start Date\", y = \"Duration\", color = one[\"Color\"], grid = True, legend = True)"
   ]
  },
  {
   "cell_type": "code",
   "execution_count": null,
   "metadata": {},
   "outputs": [],
   "source": [
    "black = one.loc[one[\"Color\"] == \"black\"]\n",
    "green = one.loc[one[\"Color\"] == \"green\"]\n",
    "blue = one.loc[one[\"Color\"] == \"blue\"]\n",
    "red = one.loc[one[\"Color\"] == \"red\"]\n",
    "magenta = one.loc[one[\"Color\"] == \"magenta\"]\n",
    "cyan = one.loc[one[\"Color\"] == \"cyan\"]\n",
    "pink = one.loc[one[\"Color\"] == \"pink\"]\n",
    "yellow = one.loc[one[\"Color\"] == \"yellow\"]\n",
    "\n",
    "# PC = one.loc[one[\"Unit\"] == \"PC\"]\n",
    "# G = one.loc[one[\"Unit\"] == \"G\"]\n",
    "# G.shape\n",
    "#black.to_csv(\"Black.csv\")"
   ]
  },
  {
   "cell_type": "code",
   "execution_count": null,
   "metadata": {},
   "outputs": [],
   "source": [
    "d = \"Duration\"\n",
    "frequency = \"BM\"\n",
    "kind_value = \"line\"\n",
    "\n",
    "red[d].resample(frequency).mean().plot(kind = kind_value, color = \"red\", label = \"under 5k\")\n",
    "blue[d].resample(frequency).mean().plot(kind = kind_value, color = \"blue\", label = \"5k-10k\")\n",
    "green[d].resample(frequency).mean().plot(kind = kind_value, color = \"green\", label = \"10k-50k\")\n",
    "magenta[d].resample(frequency).mean().plot(kind = kind_value, color = \"magenta\", label = \"50k-100k\")\n",
    "pink[d].resample(frequency).mean().plot(kind = kind_value, color = \"pink\", label = \"100k-500k\")\n",
    "cyan[d].resample(frequency).mean().plot(kind = kind_value, color = \"cyan\", label = \"500k-750k\")\n",
    "yellow[d].resample(frequency).mean().plot(kind = kind_value, color = \"yellow\", label = \"750k-1M\")\n",
    "black[d].resample(frequency).mean().plot(kind = kind_value, color = \"black\", figsize=(20,10), label = \"Over 1M\")\n",
    "\n",
    "#PC[d].resample(\"Q\").mean().plot(kind = kind_value, color = \"purple\", label = \"PC\")\n",
    "#G[d].resample(\"M\").mean().plot(kind = kind_value, color = \"orange\", label = \"G\")\n",
    "\n",
    "#one[\"Order\"].resample(frequency).count().plot(kind = kind_value, color = \"black\", label = \"Order Count\")\n",
    "\n",
    "plt.title(\"Material Category 1 - Duration vs Confirmation Start every \" + frequency + \" - most units are in ML\")\n",
    "plt.legend()\n",
    "plt.ylabel(\"Duration in Days\")\n",
    "plt.grid(True)\n",
    "plt.savefig(\"Material Category and Order Quanity break down.png\")"
   ]
  },
  {
   "cell_type": "markdown",
   "metadata": {},
   "source": [
    "# WHERE CODE ENDS FOR GRAPHING ALL ORDER QUANTITIES"
   ]
  },
  {
   "cell_type": "code",
   "execution_count": null,
   "metadata": {},
   "outputs": [],
   "source": [
    "# Being able to graph all the Material Categories using a for loop and saving them as png\n",
    "for i in range(1, df.MaterialCategory.nunique() + 1):\n",
    "    graph = df.loc[df[\"MaterialCategory\"] == i]\n",
    "    image_name = f\"MaterialCategory {i} - Duration vs Confirmation Start Date\"\n",
    "    graph.plot(title = image_name, figsize = (30, 20), kind = \"scatter\",  x = \"Confirmation Start Date\", y = \"Duration\", color = \"blue\", grid = True, legend = True, xscale = 40)\n",
    "#     plt.title(f\"MaterialCategory: {i} - Duration vs Confirmation Start Date\")\n",
    "    plt.savefig(image_name + \".png\")"
   ]
  },
  {
   "cell_type": "code",
   "execution_count": null,
   "metadata": {},
   "outputs": [],
   "source": [
    "df"
   ]
  },
  {
   "cell_type": "code",
   "execution_count": null,
   "metadata": {},
   "outputs": [],
   "source": [
    "#path = \"C/Users/hersh/Jupyter Notebook proejcts new/Mareana_Data/Mareana Data/Group graphs\"\n",
    "#my_path = os.path.abspath(__file__)\n",
    "for i in range(100, 100 + 2 ): #+ df.Group.nunique()\n",
    "    graph = df.loc[df[\"Group\"] == i]\n",
    "    \n",
    "    total_number_of_graphs = 0 \n",
    "    \n",
    "    PC = graph.loc[graph[\"Unit\"] == \"PC\"]\n",
    "    PC_resample = PC.set_index(\"Confirmation Start Date\")\n",
    "    PC_a, PC_b = PC.shape\n",
    "    if PC_a > 0:\n",
    "        total_number_of_graphs += 1\n",
    "        \n",
    "    fluid = graph.loc[(graph[\"Unit\"] == \"µL\") | (graph[\"Unit\"] == \"L\") | (graph[\"Unit\"] == \"ML\")]\n",
    "    fluid_resample = fluid.set_index(\"Confirmation Start Date\")\n",
    "    fluid_a, fluid_b = fluid.shape\n",
    "    if fluid_a > 0:\n",
    "        total_number_of_graphs += 1\n",
    "    \n",
    "    mass = graph.loc[(graph[\"Unit\"] == \"G\") | graph[\"Unit\"] == \"µg\"]\n",
    "    mass_resample = mass.set_index(\"Confirmation Start Date\")\n",
    "    mass_a, mass_b = mass.shape\n",
    "    if mass_a > 0:\n",
    "        total_number_of_graphs += 1\n",
    "    #print(total_number_of_graphs)\n",
    "    \n",
    "    \n",
    "\n",
    "#     plt.figure()\n",
    "#     plt.subplot(1, 2, 1)\n",
    "#     plt.plot(graph[\"Confirmation Start Date\"], graph[\"Duration\"], \"ro\")\n",
    "#     plt.subplot(1, 2, 2)\n",
    "#     plt.plot(PC[\"Confirmation Start Date\"], PC[\"Duration\"], \"bo\")\n",
    "    \n",
    "    image_name = f\"Group {i} - Duration vs Confirmation Start Date\"\n",
    "    fig, axes = plt.subplots(3, 1)\n",
    "    fig.set_figheight(20)\n",
    "    fig.set_figwidth(20)\n",
    "    fig.suptitle(image_name)\n",
    "#     plt.set_ylabel(\"Duration\")\n",
    "#     plt.set_xlabel(\"Confirmation Start Date\")\n",
    "# red[d].resample(frequency).mean().plot(kind = kind_value, color = \"red\", label = \"under 5k\")\n",
    "\n",
    "#     axes[0] = PC_resample[\"Duration\"].resample(\"M\").mean().plot()#color = \"red\", label = \"PC\")\n",
    "#     axes[1] = fluid_resample[\"Duration\"].resample(\"M\").mean().plot(color = \"green\", label = \"fluid\")\n",
    "#     axes[2] = mass_resample[\"Duration\"].resample(\"M\").mean().plot(color = \"blue\", label = \"mass\")\n",
    "    \n",
    "    axes[0].plot(fluid[\"Confirmation Start Date\"], fluid[\"Duration\"], \"ro\", label = \"fluid µL, ML, L\")\n",
    "    axes[1].plot(PC[\"Confirmation Start Date\"], PC[\"Duration\"], \"bo\", label = \"PC\")\n",
    "    axes[2].plot(mass[\"Confirmation Start Date\"], mass[\"Duration\"], \"go\", label = \"mass µg, G\")\n",
    "    fig.legend()\n",
    "    \n",
    "    fig.savefig(\"Segregated Groups/\" +  image_name + \".png\")\n",
    "    axes[0].grid()\n",
    "    axes[1].grid()\n",
    "    axes[2].grid()\n",
    "    \n",
    "    ylabel = \"Duration in Days\"\n",
    "    axes[0].set_ylabel(ylabel)\n",
    "    axes[1].set_ylabel(ylabel)\n",
    "    axes[2].set_ylabel(ylabel)\n",
    "    \n",
    "    xlabel = \"Confirmation Start Date\"\n",
    "    axes[0].set_xlabel(xlabel)\n",
    "    axes[1].set_xlabel(xlabel)\n",
    "    axes[2].set_xlabel(xlabel)\n",
    "\n",
    "    #plt.savefig(\"Group graphs/\" + image_name + \".png\")\n",
    "    \n",
    "    \n",
    "\n",
    "    #graph.plot(title = image_name, figsize = (30, 20), kind = \"scatter\",  x = \"Confirmation Start Date\", y = \"Duration\", color = \"blue\", grid = True, legend = True)\n",
    "    #ax = plt.gca()\n",
    "    #ax.set_ylim([-100, 800])\n",
    "    #ax.axes.set_xscale(20, \"linear\")\n",
    "    #     plt.title(f\"MaterialCategory: {i} - Duration vs Confirmation Start Date\")\n",
    "    "
   ]
  },
  {
   "cell_type": "code",
   "execution_count": null,
   "metadata": {},
   "outputs": [],
   "source": [
    "#path = \"C/Users/hersh/Jupyter Notebook proejcts new/Mareana_Data/Mareana Data/Group graphs\"\n",
    "#my_path = os.path.abspath(__file__)\n",
    "for i in range(1, 1 + df[\"MaterialCategory\"].nunique()): #+ df.Group.nunique()\n",
    "    graph = df.loc[df[\"MaterialCategory\"] == i]\n",
    "    \n",
    "    total_number_of_graphs = 0 \n",
    "    \n",
    "    PC = graph.loc[graph[\"Unit\"] == \"PC\"]\n",
    "    PC_resample = PC.set_index(\"Confirmation Start Date\")\n",
    "#     PC_a, PC_b = PC.shape\n",
    "#     if PC_a > 0:\n",
    "#         total_number_of_graphs += 1\n",
    "        \n",
    "    fluid = graph.loc[(graph[\"Unit\"] == \"µL\") | (graph[\"Unit\"] == \"L\") | (graph[\"Unit\"] == \"ML\")]\n",
    "    fluid_resample = fluid.set_index(\"Confirmation Start Date\")\n",
    "    fluid.loc[fluid[\"Unit\"] == \"µL\", \"Total order quantity\"] = fluid[\"Total order quantity\"]/1000\n",
    "    fluid.loc[fluid[\"Unit\"] == \"L\", \"Total order quantity\"] = fluid[\"Total order quantity\"] * 1000\n",
    "    #one[\"Unit\"] = \"ML\"\n",
    "#     fluid_a, fluid_b = fluid.shape\n",
    "#     if fluid_a > 0:\n",
    "#         total_number_of_graphs += 1\n",
    "    \n",
    "    mass = graph.loc[(graph[\"Unit\"] == \"G\") | graph[\"Unit\"] == \"µg\"]\n",
    "    mass.loc[mass[\"Unit\"] == \"G\", \"Total order quantity\"] = mass[\"Total order quantity\"] * 1000000\n",
    "    mass_resample = mass.set_index(\"Confirmation Start Date\")\n",
    "#     mass_a, mass_b = mass.shape\n",
    "#     if mass_a > 0:\n",
    "#         total_number_of_graphs += 1\n",
    "    #print(total_number_of_graphs)\n",
    "    \n",
    "    \n",
    "\n",
    "#     plt.figure()\n",
    "#     plt.subplot(1, 2, 1)\n",
    "#     plt.plot(graph[\"Confirmation Start Date\"], graph[\"Duration\"], \"ro\")\n",
    "#     plt.subplot(1, 2, 2)\n",
    "#     plt.plot(PC[\"Confirmation Start Date\"], PC[\"Duration\"], \"bo\")\n",
    "    \n",
    "    image_name = f\"MaterialCategory {i} - Duration vs Order Quantity\"\n",
    "    fig, axes = plt.subplots(3, 1)\n",
    "    fig.set_figheight(20)\n",
    "    fig.set_figwidth(20)\n",
    "    fig.suptitle(image_name)\n",
    "#     plt.set_ylabel(\"Duration\")\n",
    "#     plt.set_xlabel(\"Confirmation Start Date\")\n",
    "# red[d].resample(frequency).mean().plot(kind = kind_value, color = \"red\", label = \"under 5k\")\n",
    "\n",
    "#     axes[0] = PC_resample[\"Duration\"].resample(\"M\").mean().plot()#color = \"red\", label = \"PC\")\n",
    "#     axes[1] = fluid_resample[\"Duration\"].resample(\"M\").mean().plot(color = \"green\", label = \"fluid\")\n",
    "#     axes[2] = mass_resample[\"Duration\"].resample(\"M\").mean().plot(color = \"blue\", label = \"mass\")\n",
    "    \n",
    "    axes[0].plot(fluid[\"Total order quantity\"], fluid[\"Duration\"], \"ro\", label = \"fluid ML\")\n",
    "    axes[1].plot(PC[\"Total order quantity\"], PC[\"Duration\"], \"bo\", label = \"PC\")\n",
    "    axes[2].plot(mass[\"Total order quantity\"], mass[\"Duration\"], \"go\", label = \"mass µg\")\n",
    "    fig.legend()\n",
    "    \n",
    "    #fig.savefig(\"Segregated Groups/\" +  image_name + \".png\")\n",
    "    axes[0].grid()\n",
    "    axes[1].grid()\n",
    "    axes[2].grid()\n",
    "    \n",
    "    ylabel = \"Duration in Days\"\n",
    "    axes[0].set_ylabel(ylabel)\n",
    "    axes[1].set_ylabel(ylabel)\n",
    "    axes[2].set_ylabel(ylabel)\n",
    "    \n",
    "    xlabel = \"Total order quantity\"\n",
    "    axes[0].set_xlabel(xlabel)\n",
    "    axes[1].set_xlabel(xlabel)\n",
    "    axes[2].set_xlabel(xlabel)\n",
    "\n",
    "    plt.savefig(\"MatCat (Duration vs Order Quantity)/\" + image_name + \".png\")\n",
    "    \n",
    "    \n",
    "\n",
    "    #graph.plot(title = image_name, figsize = (30, 20), kind = \"scatter\",  x = \"Confirmation Start Date\", y = \"Duration\", color = \"blue\", grid = True, legend = True)\n",
    "    #ax = plt.gca()\n",
    "    #ax.set_ylim([-100, 800])\n",
    "    #ax.axes.set_xscale(20, \"linear\")\n",
    "    #     plt.title(f\"MaterialCategory: {i} - Duration vs Confirmation Start Date\")\n",
    "    "
   ]
  },
  {
   "cell_type": "code",
   "execution_count": null,
   "metadata": {},
   "outputs": [],
   "source": []
  },
  {
   "cell_type": "code",
   "execution_count": null,
   "metadata": {},
   "outputs": [],
   "source": []
  },
  {
   "cell_type": "code",
   "execution_count": null,
   "metadata": {},
   "outputs": [],
   "source": []
  },
  {
   "cell_type": "code",
   "execution_count": null,
   "metadata": {},
   "outputs": [],
   "source": [
    "df.info()"
   ]
  },
  {
   "cell_type": "code",
   "execution_count": null,
   "metadata": {},
   "outputs": [],
   "source": [
    "def colorFunction():\n",
    "    \n",
    "    if ((df[\"Total order quantity\"]) > 6000.0) == True:\n",
    "        green = \"green\"\n",
    "        return green\n",
    "    else:\n",
    "        pink = \"pink\"\n",
    "        return pink\n",
    "#    np.where(df[\"Total order quantity\"] > 4000, 'k')\n",
    "\n",
    "\n",
    "one = df.loc[df[\"MaterialCategory\"] == 1]\n",
    "one.plot(title = \"ajdjfdf\", figsize = (20, 10), kind = \"scatter\",  x = \"Confirmation Start Date\", y = \"Duration\", c = colorFunction(), grid = True, legend = True)"
   ]
  },
  {
   "cell_type": "code",
   "execution_count": null,
   "metadata": {},
   "outputs": [],
   "source": [
    "#path = \"C\\Users\\hersh\\Jupyter Notebook proejcts new\\Mareana_Data\\Mareana Data\\Graphs\"\n",
    "\n",
    "    \n",
    "    \n",
    "    \n",
    "#     graph = df.loc[df[\"MaterialCategory\"] == 1]\n",
    "# i = 1\n",
    "# image_name = f\"MaterialCategory {i} - Duration vs Confirmation Start Date\"\n",
    "# print(image_name)\n",
    "# graph.plot(title = image_name, figsize = (20, 10), kind = \"scatter\",  x = \"Confirmation Start Date\", y = \"Duration\", color = \"blue\", grid = True, legend = True)\n",
    "# plt.savefig(image_name + \".png\")"
   ]
  },
  {
   "cell_type": "code",
   "execution_count": null,
   "metadata": {
    "scrolled": true
   },
   "outputs": [],
   "source": [
    "df = df.drop(df.loc[df[\"Duration\"] < 0].index)\n",
    "df"
   ]
  },
  {
   "cell_type": "code",
   "execution_count": null,
   "metadata": {},
   "outputs": [],
   "source": [
    "# print(df.loc[95][ud])\n",
    "# print(df.loc[95][fncf])\n",
    "# (df.loc[95][ud] - df.loc[95][fncf]).days\n",
    "# type((df.loc[95][ud] - df.loc[95][fncf]).days)"
   ]
  },
  {
   "cell_type": "code",
   "execution_count": null,
   "metadata": {},
   "outputs": [],
   "source": [
    "df.plot(figsize = (20, 10), kind = \"scatter\",  x = \"MaterialCategory\", y = \"Duration\", color = \"red\", grid = True, legend = True)\n",
    "# plt.xlabel(\"Confirmation Start Date\")\n",
    "# plt.ylabel(\"Duration\")\n",
    "# plt.title(\"Duration vs Confirmation Start Date\")\n",
    "plot.show()"
   ]
  },
  {
   "cell_type": "code",
   "execution_count": null,
   "metadata": {},
   "outputs": [],
   "source": [
    "numbers = [i for i in range(1, df.MaterialCategory.nunique() + 1)]"
   ]
  },
  {
   "cell_type": "code",
   "execution_count": null,
   "metadata": {},
   "outputs": [],
   "source": [
    "numbers"
   ]
  },
  {
   "cell_type": "code",
   "execution_count": null,
   "metadata": {},
   "outputs": [],
   "source": [
    "axes = df[\"MaterialCategory\"][numbers].plot(marker = \".\", alpha = 0.5, linestyle = \"None\", figsize=(11,9), subplots = True)\n",
    "for ax in axes:\n",
    "    ax.set_ylabel(\"Daily\")\n",
    "    \n"
   ]
  },
  {
   "cell_type": "code",
   "execution_count": null,
   "metadata": {},
   "outputs": [],
   "source": [
    "for number in range(1, df.MaterialCategory.nunique() + 1):\n",
    "    newNum = df.loc[df[\"MaterialCategory\"] == number]\n",
    "    newNum.plot(figsize = (20, 10), kind = \"scatter\",  x = \"Confirmation Start Date\", y = \"Duration\", color = \"red\", grid = True, subplots = True)\n",
    "    plt.xlabel(\"Confirmation Start Date\")\n",
    "    plt.ylabel(\"Duration\")\n",
    "    plt.title(f\"{number}Duration vs Confirmation Start Date\")\n",
    "    plot.show()"
   ]
  },
  {
   "cell_type": "code",
   "execution_count": null,
   "metadata": {},
   "outputs": [],
   "source": []
  },
  {
   "cell_type": "code",
   "execution_count": null,
   "metadata": {},
   "outputs": [],
   "source": []
  },
  {
   "cell_type": "code",
   "execution_count": null,
   "metadata": {},
   "outputs": [],
   "source": [
    "df.plot(figsize = (20, 20), kind = \"scatter\",  x = \"Material\", y = \"Duration\", color = \"red\", grid = True, legend = True)\n",
    "# plt.xlabel(\"Confirmation Start Date\")\n",
    "# plt.ylabel(\"Duration\")\n",
    "# plt.title(\"Duration vs Confirmation Start Date\")\n",
    "plot.show()"
   ]
  },
  {
   "cell_type": "code",
   "execution_count": null,
   "metadata": {},
   "outputs": [],
   "source": []
  },
  {
   "cell_type": "code",
   "execution_count": null,
   "metadata": {},
   "outputs": [],
   "source": [
    "df = df.pivot(index = \"Confirmation Start Date\", columns = \"MaterialCategory\")\n",
    "df"
   ]
  },
  {
   "cell_type": "code",
   "execution_count": null,
   "metadata": {},
   "outputs": [],
   "source": []
  },
  {
   "cell_type": "code",
   "execution_count": null,
   "metadata": {},
   "outputs": [],
   "source": []
  },
  {
   "cell_type": "code",
   "execution_count": null,
   "metadata": {},
   "outputs": [],
   "source": []
  },
  {
   "cell_type": "code",
   "execution_count": null,
   "metadata": {},
   "outputs": [],
   "source": [
    "df.plot(kind = \"scatter\",  x = \"MaterialCategory\", y = \"Duration\", color = \"red\")\n",
    "plt.xlabel(\"MaterialCategory\")\n",
    "plt.ylabel(\"Duration\")\n",
    "plt.title(\"MaterialCategory vs Duration\")\n",
    "plot.show()"
   ]
  },
  {
   "cell_type": "code",
   "execution_count": null,
   "metadata": {},
   "outputs": [],
   "source": [
    "df[\"Group\"].nunique()"
   ]
  },
  {
   "cell_type": "code",
   "execution_count": null,
   "metadata": {},
   "outputs": [],
   "source": []
  },
  {
   "cell_type": "code",
   "execution_count": null,
   "metadata": {},
   "outputs": [],
   "source": []
  },
  {
   "cell_type": "code",
   "execution_count": null,
   "metadata": {},
   "outputs": [],
   "source": [
    "\n",
    "# Array of external variables\n",
    "exog_df = pd.DataFrame(df[['Group', 'MaterialCategory', 'Total order quantity']])\n",
    "\"\"\"\n",
    "# Disregard \n",
    "# Mapping units to numbers\n",
    "units = ['G', 'KU', 'L', 'ML', 'PC', 'µL', 'µMO', 'µg']\n",
    "for ind, item in enumerate(units):\n",
    "    exog_df.replace(item, ind)\n",
    "print(exog_df)\n",
    "\"\"\"\n",
    "# Convert to values for arima model\n",
    "exog_arr = exog_df.values"
   ]
  },
  {
   "cell_type": "code",
   "execution_count": null,
   "metadata": {},
   "outputs": [],
   "source": [
    "exog_df.values"
   ]
  },
  {
   "cell_type": "code",
   "execution_count": null,
   "metadata": {},
   "outputs": [],
   "source": [
    "\n",
    "# Series of stamped time-series data\n",
    "dates = df['Usage Decision Date']\n",
    "ts = pd.Series( df['Duration'].values, index=dates)\n",
    "\n",
    "# Just visualizing data\n",
    "dfmod = ts.to_frame()\n",
    "dfmod.reset_index(inplace=True)\n",
    "dfmod.columns = ['date','dur']\n",
    "dfmod.plot(kind='scatter',x='date',y='dur')\n",
    "plt.show()"
   ]
  },
  {
   "cell_type": "code",
   "execution_count": null,
   "metadata": {},
   "outputs": [],
   "source": []
  },
  {
   "cell_type": "code",
   "execution_count": null,
   "metadata": {},
   "outputs": [],
   "source": []
  }
 ],
 "metadata": {
  "kernelspec": {
   "display_name": "Python 3",
   "language": "python",
   "name": "python3"
  },
  "language_info": {
   "codemirror_mode": {
    "name": "ipython",
    "version": 3
   },
   "file_extension": ".py",
   "mimetype": "text/x-python",
   "name": "python",
   "nbconvert_exporter": "python",
   "pygments_lexer": "ipython3",
   "version": "3.8.3"
  },
  "widgets": {
   "application/vnd.jupyter.widget-state+json": {
    "state": {},
    "version_major": 2,
    "version_minor": 0
   }
  }
 },
 "nbformat": 4,
 "nbformat_minor": 4
}

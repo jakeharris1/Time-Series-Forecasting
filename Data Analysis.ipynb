{
 "cells": [
  {
   "cell_type": "code",
   "execution_count": 1,
   "metadata": {},
   "outputs": [],
   "source": [
    "import pandas as pd\n",
    "import warnings\n",
    "warnings.filterwarnings('ignore')\n",
    "from datetime import datetime, date, timedelta\n",
    "from matplotlib import pyplot as plt\n",
    "import matplotlib.pyplot as plt\n",
    "%matplotlib inline\n",
    "import numpy as np\n",
    "import os\n",
    "#import seaborn as sns\n",
    "import statsmodels.api as sm\n",
    "import pmdarima as pm\n",
    "#from pmdarima.model_selection import train_test_split\n",
    "from statsmodels.tsa.statespace.sarimax import SARIMAX\n",
    "from statsmodels.tsa.arima_model import ARIMA\n",
    "from statsmodels.tsa.stattools import adfuller\n",
    "from sklearn.metrics import mean_squared_error\n",
    "#from pandas import DataFrame"
   ]
  },
  {
   "cell_type": "code",
   "execution_count": 2,
   "metadata": {},
   "outputs": [
    {
     "data": {
      "text/plain": [
       "(34507, 14)"
      ]
     },
     "execution_count": 2,
     "metadata": {},
     "output_type": "execute_result"
    }
   ],
   "source": [
    "file = \"SupplyChain_TimeSeriesData.xlsx\"\n",
    "df = pd.read_excel(file) #index_col = \"Schedule Start Date\"\n",
    "df.shape"
   ]
  },
  {
   "cell_type": "code",
   "execution_count": 3,
   "metadata": {},
   "outputs": [],
   "source": [
    "fncf = \"Confirmation Start Date\"\n",
    "ud = \"Usage Decision Date\"\n",
    "df = df[df[fncf].notna() & df[ud].notna()]"
   ]
  },
  {
   "cell_type": "code",
   "execution_count": 4,
   "metadata": {},
   "outputs": [
    {
     "name": "stdout",
     "output_type": "stream",
     "text": [
      "<class 'pandas.core.frame.DataFrame'>\n",
      "Int64Index: 31961 entries, 41 to 34506\n",
      "Data columns (total 16 columns):\n",
      " #   Column                      Non-Null Count  Dtype         \n",
      "---  ------                      --------------  -----         \n",
      " 0   Order                       31961 non-null  int64         \n",
      " 1   Material                    31961 non-null  int64         \n",
      " 2   Batch                       31961 non-null  object        \n",
      " 3   Group                       31961 non-null  int64         \n",
      " 4   MaterialCategory            31961 non-null  int64         \n",
      " 5   Total order quantity        31961 non-null  float64       \n",
      " 6   Unit                        31961 non-null  object        \n",
      " 7   Quantity of goods received  31961 non-null  float64       \n",
      " 8   Schedule Start Date         31961 non-null  datetime64[ns]\n",
      " 9   Schedule Finish Date        31961 non-null  datetime64[ns]\n",
      " 10  Confirmation Start Date     31961 non-null  datetime64[ns]\n",
      " 11  First Goods Movement Date   31954 non-null  datetime64[ns]\n",
      " 12  Goods Receipt Date          31551 non-null  datetime64[ns]\n",
      " 13  Usage Decision Date         31961 non-null  datetime64[ns]\n",
      " 14  Duration                    31961 non-null  int64         \n",
      " 15  Scheduled_Duration          31961 non-null  int64         \n",
      "dtypes: datetime64[ns](6), float64(2), int64(6), object(2)\n",
      "memory usage: 4.1+ MB\n"
     ]
    },
    {
     "data": {
      "text/html": [
       "<div>\n",
       "<style scoped>\n",
       "    .dataframe tbody tr th:only-of-type {\n",
       "        vertical-align: middle;\n",
       "    }\n",
       "\n",
       "    .dataframe tbody tr th {\n",
       "        vertical-align: top;\n",
       "    }\n",
       "\n",
       "    .dataframe thead th {\n",
       "        text-align: right;\n",
       "    }\n",
       "</style>\n",
       "<table border=\"1\" class=\"dataframe\">\n",
       "  <thead>\n",
       "    <tr style=\"text-align: right;\">\n",
       "      <th></th>\n",
       "      <th>Order</th>\n",
       "      <th>Material</th>\n",
       "      <th>Group</th>\n",
       "      <th>MaterialCategory</th>\n",
       "      <th>Total order quantity</th>\n",
       "      <th>Quantity of goods received</th>\n",
       "      <th>Duration</th>\n",
       "      <th>Scheduled_Duration</th>\n",
       "    </tr>\n",
       "  </thead>\n",
       "  <tbody>\n",
       "    <tr>\n",
       "      <th>count</th>\n",
       "      <td>31961.000000</td>\n",
       "      <td>3.196100e+04</td>\n",
       "      <td>31961.000000</td>\n",
       "      <td>31961.000000</td>\n",
       "      <td>31961.00000</td>\n",
       "      <td>3.196100e+04</td>\n",
       "      <td>31961.000000</td>\n",
       "      <td>31961.000000</td>\n",
       "    </tr>\n",
       "    <tr>\n",
       "      <th>mean</th>\n",
       "      <td>118210.619724</td>\n",
       "      <td>1.000012e+08</td>\n",
       "      <td>128.887238</td>\n",
       "      <td>7.222052</td>\n",
       "      <td>8264.82940</td>\n",
       "      <td>7.978856e+03</td>\n",
       "      <td>27.136760</td>\n",
       "      <td>10.340603</td>\n",
       "    </tr>\n",
       "    <tr>\n",
       "      <th>std</th>\n",
       "      <td>9329.604415</td>\n",
       "      <td>7.061568e+02</td>\n",
       "      <td>15.544435</td>\n",
       "      <td>5.252668</td>\n",
       "      <td>42071.86317</td>\n",
       "      <td>4.233043e+04</td>\n",
       "      <td>54.323965</td>\n",
       "      <td>7.940325</td>\n",
       "    </tr>\n",
       "    <tr>\n",
       "      <th>min</th>\n",
       "      <td>100018.000000</td>\n",
       "      <td>1.000000e+08</td>\n",
       "      <td>100.000000</td>\n",
       "      <td>1.000000</td>\n",
       "      <td>0.05000</td>\n",
       "      <td>0.000000e+00</td>\n",
       "      <td>-520.000000</td>\n",
       "      <td>0.000000</td>\n",
       "    </tr>\n",
       "    <tr>\n",
       "      <th>25%</th>\n",
       "      <td>110241.000000</td>\n",
       "      <td>1.000006e+08</td>\n",
       "      <td>115.000000</td>\n",
       "      <td>1.000000</td>\n",
       "      <td>76.00000</td>\n",
       "      <td>7.000000e+01</td>\n",
       "      <td>8.000000</td>\n",
       "      <td>6.000000</td>\n",
       "    </tr>\n",
       "    <tr>\n",
       "      <th>50%</th>\n",
       "      <td>118256.000000</td>\n",
       "      <td>1.000011e+08</td>\n",
       "      <td>131.000000</td>\n",
       "      <td>9.000000</td>\n",
       "      <td>625.00000</td>\n",
       "      <td>6.000000e+02</td>\n",
       "      <td>15.000000</td>\n",
       "      <td>8.000000</td>\n",
       "    </tr>\n",
       "    <tr>\n",
       "      <th>75%</th>\n",
       "      <td>126250.000000</td>\n",
       "      <td>1.000018e+08</td>\n",
       "      <td>138.000000</td>\n",
       "      <td>12.000000</td>\n",
       "      <td>3000.00000</td>\n",
       "      <td>3.000000e+03</td>\n",
       "      <td>25.000000</td>\n",
       "      <td>13.000000</td>\n",
       "    </tr>\n",
       "    <tr>\n",
       "      <th>max</th>\n",
       "      <td>134479.000000</td>\n",
       "      <td>1.000027e+08</td>\n",
       "      <td>173.000000</td>\n",
       "      <td>15.000000</td>\n",
       "      <td>950000.00000</td>\n",
       "      <td>1.825670e+06</td>\n",
       "      <td>994.000000</td>\n",
       "      <td>153.000000</td>\n",
       "    </tr>\n",
       "  </tbody>\n",
       "</table>\n",
       "</div>"
      ],
      "text/plain": [
       "               Order      Material         Group  MaterialCategory  \\\n",
       "count   31961.000000  3.196100e+04  31961.000000      31961.000000   \n",
       "mean   118210.619724  1.000012e+08    128.887238          7.222052   \n",
       "std      9329.604415  7.061568e+02     15.544435          5.252668   \n",
       "min    100018.000000  1.000000e+08    100.000000          1.000000   \n",
       "25%    110241.000000  1.000006e+08    115.000000          1.000000   \n",
       "50%    118256.000000  1.000011e+08    131.000000          9.000000   \n",
       "75%    126250.000000  1.000018e+08    138.000000         12.000000   \n",
       "max    134479.000000  1.000027e+08    173.000000         15.000000   \n",
       "\n",
       "       Total order quantity  Quantity of goods received      Duration  \\\n",
       "count           31961.00000                3.196100e+04  31961.000000   \n",
       "mean             8264.82940                7.978856e+03     27.136760   \n",
       "std             42071.86317                4.233043e+04     54.323965   \n",
       "min                 0.05000                0.000000e+00   -520.000000   \n",
       "25%                76.00000                7.000000e+01      8.000000   \n",
       "50%               625.00000                6.000000e+02     15.000000   \n",
       "75%              3000.00000                3.000000e+03     25.000000   \n",
       "max            950000.00000                1.825670e+06    994.000000   \n",
       "\n",
       "       Scheduled_Duration  \n",
       "count        31961.000000  \n",
       "mean            10.340603  \n",
       "std              7.940325  \n",
       "min              0.000000  \n",
       "25%              6.000000  \n",
       "50%              8.000000  \n",
       "75%             13.000000  \n",
       "max            153.000000  "
      ]
     },
     "metadata": {},
     "output_type": "display_data"
    }
   ],
   "source": [
    "df[\"Duration\"] = (df[ud] - df[fncf]).dt.days\n",
    "df[\"Scheduled_Duration\"] = (df[\"Schedule Finish Date\"] - df[\"Schedule Start Date\"]).dt.days\n",
    "df.sort_values(\"Confirmation Start Date\")\n",
    "orders = df[df[\"Confirmation Start Date\"] < pd.Timestamp(2017, 1, 1)][\"Order\"].unique()\n",
    "df = df[~df[\"Order\"].isin(orders)]\n",
    "df.sort_values(\"Confirmation Start Date\")\n",
    "df.info()\n",
    "display(df.describe())\n",
    "#df.to_csv(\"With Duration.csv\")"
   ]
  },
  {
   "cell_type": "code",
   "execution_count": 126,
   "metadata": {},
   "outputs": [
    {
     "data": {
      "text/plain": [
       "array([100, 101, 102, 103, 104, 105, 106, 107, 108, 109, 110, 111, 112,\n",
       "       113, 114, 115, 116, 117, 118, 119, 120, 121, 122, 123, 124, 125,\n",
       "       126, 127, 128, 129, 130, 131, 132, 133, 134, 135, 136, 137, 138,\n",
       "       139, 140, 141, 142, 143, 144, 145, 146, 147, 148, 149, 150, 151,\n",
       "       152, 153, 154, 155, 156, 157, 158, 159, 160, 161, 162, 163, 164,\n",
       "       165, 166, 167, 168, 169, 170, 171, 172, 173], dtype=int64)"
      ]
     },
     "execution_count": 126,
     "metadata": {},
     "output_type": "execute_result"
    }
   ],
   "source": [
    "# Creating New Data Set for FBProphet\n",
    "\n",
    "unique_group = pd.unique(df[\"Group\"])\n",
    "unique_group.sort()\n",
    "unique_group\n",
    "unit_type = \"PC\"\n",
    "newDataSet = pd.DataFrame()\n",
    "\n",
    "for value in unique_group:\n",
    "    group = df.loc[(df[\"Group\"] == value) & (df[\"Unit\"] == unit_type)] #group == 106, 100001064, 100001522, 100001520\n",
    "    group = group[[\"Duration\", \"Confirmation Start Date\", \"Total order quantity\"]]\n",
    "    group.set_index(\"Confirmation Start Date\", inplace = True)\n",
    "    group = group.loc[group[\"Duration\"] > 0]\n",
    "    group = group.sort_values(\"Confirmation Start Date\")\n",
    "    group[\"per\"] = group.index.to_period(\"M\")\n",
    "    \n",
    "    \n",
    "    dates = pd.unique(group[\"per\"])\n",
    "    # empty is an empty dataframe that I am adding rows to at the end of the for-loop\n",
    "    \n",
    "    for month in dates:\n",
    "        df_month = group.loc[group[\"per\"] == month]\n",
    "\n",
    "        #Looking at Outliers\n",
    "        q1 = df_month.quantile(0.25)[0]\n",
    "        q2 = df_month.quantile(0.50)[0]\n",
    "        q3 = df_month.quantile(0.75)[0]\n",
    "\n",
    "        IQR = q3 - q1\n",
    "        lower = q1 - 1.5*IQR\n",
    "        upper = q3 + 1.5*IQR\n",
    "\n",
    "        temp = df_month[(df_month[\"Duration\"] < upper)]\n",
    "        newDataSet = newDataSet.append(temp)"
   ]
  },
  {
   "cell_type": "markdown",
   "metadata": {},
   "source": [
    "# 2 FUNCTIONS FOR SHOWING MATERIAL AND GROUP RELATIONSHIP"
   ]
  },
  {
   "cell_type": "code",
   "execution_count": null,
   "metadata": {},
   "outputs": [],
   "source": [
    "# one = df.loc[df[\"MaterialCategory\"] == 1]\n",
    "# one.shape"
   ]
  },
  {
   "cell_type": "code",
   "execution_count": null,
   "metadata": {},
   "outputs": [],
   "source": [
    "\n",
    "#MatCat1.groupby([\"Order, Confirmation Start Date\"]).MatCat1[\"Confirmation Start Date\"].count()"
   ]
  },
  {
   "cell_type": "code",
   "execution_count": null,
   "metadata": {},
   "outputs": [],
   "source": [
    "matcat_id = 2\n",
    "group_id = 123\n",
    "material_id = 100000699\n",
    "value = \"M\"\n",
    "\n",
    "\n",
    "def graphAll(matcat_id, group_id, material_id, value):\n",
    "    df_a, df_b = df.shape\n",
    "    MatCat = df.loc[df[\"MaterialCategory\"] == matcat_id]\n",
    "    MatCat.set_index(\"Confirmation Start Date\", inplace = True)\n",
    "    MatCat_a, MatCat_b = MatCat.shape\n",
    "\n",
    "    Group = MatCat.loc[MatCat[\"Group\"] == group_id]\n",
    "    (Group_a, Group_b) = Group.shape\n",
    "    \n",
    "    Material = Group.loc[Group[\"Material\"] == material_id]\n",
    "    (Material_a, Material_b) = Material.shape\n",
    "    \n",
    "    MatCat_percent = MatCat_a / df_a * 100\n",
    "\n",
    "    # Material[\"Duration\"].resample(value).mean().plot(figsize=(15, 10), label = \"Material\")\n",
    "    #MatCat1[\"Order\"].resample(value).count().plot(figsize=(15, 10), label = \"Number of Orders\")\n",
    "\n",
    "\n",
    "    fig, ax1 = plt.subplots(figsize=(20, 15))\n",
    "\n",
    "    MatCat_average = MatCat[\"Duration\"].resample(value).mean()\n",
    "    Group_average = Group[\"Duration\"].resample(value).mean()\n",
    "    Material_average = Material[\"Duration\"].resample(value).mean()\n",
    "    \n",
    "    ax1.set_xlabel(\"Date\", fontsize = 20)\n",
    "    ax1.set_ylabel(\"Duration in Days\", fontsize = 20)\n",
    "    ax1.plot(MatCat[\"Duration\"].resample(value).mean(), color = \"magenta\", label = \"MatCat duration\")\n",
    "    #ax1.plot(MatCat[\"Duration\"].resample(value).std(), color = \"purple\", label = \"MatCat std\")\n",
    "\n",
    "    ax1.plot(Group[\"Duration\"].resample(value).mean(), color = \"blue\", label = \"Group duration\")\n",
    "    ax1.plot(Material[\"Duration\"].resample(value).mean(), color = \"green\", label = \"Material duration\")\n",
    "    ax1.legend(loc = 1)\n",
    "    #ax1.xaxis.set_major_locator(mdates.YearLocator())\n",
    "    ax1.grid()\n",
    "\n",
    "    # ax1.suptitle(\"hi\")\n",
    "\n",
    "\n",
    "    ax2 = ax1.twinx()\n",
    "    ax2.set_ylabel(\"Number or Orders\", fontsize = 20)\n",
    "    #ax2.plot(MatCat[\"Order\"].resample(value).count(), color = \"red\", label = \"MatCat Order\")\n",
    "    ax2.plot(Group[\"Order\"].resample(value).count(), color = \"black\", label = \"Group Order\")\n",
    "    #ax2.plot(Material[\"Order\"].resample(value).count(), color = \"yellow\", label = \"Material Order\")\n",
    "\n",
    "    ax2.legend(loc = 2)\n",
    "    #ax2.grid()\n",
    "    image_name = f\"Material Category = {matcat_id}, Group = {group_id}, Material = {material_id}, sampled every {value}\"\n",
    "    fig.suptitle(image_name, fontsize = 20)\n",
    "    plt.savefig(\"Durations and Orders/\" + image_name + \".png\")\n",
    "    \n",
    "graphAll(1, 130, 100000341, \"BM\")"
   ]
  },
  {
   "cell_type": "code",
   "execution_count": null,
   "metadata": {},
   "outputs": [],
   "source": [
    "#color = \"tab:blue\"\n",
    "#ax2.set_xlabel()\n",
    "# # Create some mock data\n",
    "# t = np.arange(0.01, 10.0, 0.01)\n",
    "# data1 = np.exp(t)\n",
    "# data2 = np.sin(2 * np.pi * t)\n",
    "\n",
    "# fig, ax1 = plt.subplots()\n",
    "\n",
    "# color = 'tab:red'\n",
    "# ax1.set_xlabel('time (s)')\n",
    "# ax1.set_ylabel('exp', color=color)\n",
    "# ax1.plot(t, data1, color=color)\n",
    "# ax1.tick_params(axis='y', labelcolor=color)\n",
    "\n",
    "# ax2 = ax1.twinx()  # instantiate a second axes that shares the same x-axis\n",
    "\n",
    "# color = 'tab:blue'\n",
    "# ax2.set_ylabel('sin', color=color)  # we already handled the x-label with ax1\n",
    "# ax2.plot(t, data2, color=color)\n",
    "# ax2.tick_params(axis='y', labelcolor=color)\n",
    "\n",
    "# fig.tight_layout()  # otherwise the right y-label is slightly clipped\n",
    "# plt.show()"
   ]
  },
  {
   "cell_type": "code",
   "execution_count": null,
   "metadata": {},
   "outputs": [],
   "source": [
    "matcat_id = 2\n",
    "group_id = 123\n",
    "material_id = 100000699\n",
    "value = \"M\"\n",
    "\n",
    "\n",
    "def graphGroup(group_id, material_id, value):\n",
    "    df_a, df_b = df.shape\n",
    "#     MatCat = df.loc[df[\"MaterialCategory\"] == matcat_id]\n",
    "#     MatCat.set_index(\"Confirmation Start Date\", inplace = True)\n",
    "#     MatCat_a, MatCat_b = MatCat.shape\n",
    "\n",
    "    Group = df.loc[df[\"Group\"] == group_id]\n",
    "    Group.set_index(\"Confirmation Start Date\", inplace = True)\n",
    "    (Group_a, Group_b) = Group.shape\n",
    "    \n",
    "    \n",
    "    Material = Group.loc[Group[\"Material\"] == material_id]\n",
    "    (Material_a, Material_b) = Material.shape\n",
    "    \n",
    "    #MatCat_percent = MatCat_a / df_a * 100\n",
    "\n",
    "    # Material[\"Duration\"].resample(value).mean().plot(figsize=(15, 10), label = \"Material\")\n",
    "    #MatCat1[\"Order\"].resample(value).count().plot(figsize=(15, 10), label = \"Number of Orders\")\n",
    "\n",
    "\n",
    "    fig, ax1 = plt.subplots(figsize=(20, 15))\n",
    "\n",
    "    #MatCat_average = MatCat[\"Duration\"].resample(value).mean()\n",
    "    Group_average = Group[\"Duration\"].resample(value).mean()\n",
    "    Material_average = Material[\"Duration\"].resample(value).mean()\n",
    "    \n",
    "    ax1.set_xlabel(\"Date\", fontsize = 20)\n",
    "    ax1.set_ylabel(\"Duration in Days\", fontsize = 20)\n",
    "    #ax1.plot(MatCat[\"Duration\"].resample(value).mean(), color = \"magenta\", label = \"MatCat duration\")\n",
    "    #ax1.plot(MatCat[\"Duration\"].resample(value).std(), color = \"purple\", label = \"MatCat std\")\n",
    "\n",
    "    ax1.plot(Group[\"Duration\"].resample(value).mean(), color = \"blue\", label = \"Group duration\")\n",
    "    ax1.plot(Material[\"Duration\"].resample(value).mean(), color = \"green\", label = \"Material duration\")\n",
    "    ax1.legend(loc = 1)\n",
    "    #ax1.xaxis.set_major_locator(mdates.YearLocator())\n",
    "    ax1.grid()\n",
    "\n",
    "    # ax1.suptitle(\"hi\")\n",
    "\n",
    "\n",
    "    ax2 = ax1.twinx()\n",
    "    ax2.set_ylabel(\"Number or Orders\", fontsize = 20)\n",
    "    #ax2.plot(MatCat[\"Order\"].resample(value).count(), color = \"red\", label = \"MatCat Order\")\n",
    "    ax2.plot(Group[\"Order\"].resample(value).count(), color = \"black\", label = \"Group Order\")\n",
    "    ax2.plot(Material[\"Order\"].resample(value).count(), color = \"yellow\", label = \"Material Order\")\n",
    "\n",
    "    ax2.legend(loc = 2)\n",
    "    #ax2.grid()\n",
    "    image_name = f\"Group = {group_id}, Material = {material_id}, sampled every {value}\"\n",
    "    fig.suptitle(image_name, fontsize = 20)\n",
    "    plt.savefig(\"Durations and Orders/\" + image_name + \".png\")\n",
    "    \n",
    "graphGroup(137, 100000197, \"BM\")"
   ]
  },
  {
   "cell_type": "markdown",
   "metadata": {},
   "source": [
    "# Looking at Group"
   ]
  },
  {
   "cell_type": "code",
   "execution_count": 101,
   "metadata": {},
   "outputs": [],
   "source": [
    "group = df.loc[df[\"Material\"] == 100001520] #group == 106, 100001064, 100001522, 100001520\n",
    "group = group[[\"Duration\", \"Confirmation Start Date\", \"Total order quantity\"]]\n",
    "group.set_index(\"Confirmation Start Date\", inplace = True)\n",
    "group = group.loc[group[\"Duration\"] > 0]\n",
    "group = group.sort_values(\"Confirmation Start Date\")\n",
    "group[\"per\"] = group.index.to_period(\"M\")"
   ]
  },
  {
   "cell_type": "code",
   "execution_count": 29,
   "metadata": {},
   "outputs": [
    {
     "data": {
      "text/plain": [
       "(294, 3)"
      ]
     },
     "execution_count": 29,
     "metadata": {},
     "output_type": "execute_result"
    }
   ],
   "source": [
    "group.shape"
   ]
  },
  {
   "cell_type": "code",
   "execution_count": null,
   "metadata": {},
   "outputs": [],
   "source": [
    "#This shows that our data is not normally distributed\n",
    "# import scipy.stats\n",
    "# import pylab\n",
    "\n",
    "# scipy.stats.probplot(group[\"Duration\"], plot = pylab)\n",
    "# pylab.show()"
   ]
  },
  {
   "cell_type": "code",
   "execution_count": null,
   "metadata": {
    "scrolled": true
   },
   "outputs": [],
   "source": [
    "#W\n",
    "# train_start, train_end = \"2016-10-02\", \"2019-09-08\"\n",
    "# test_start, test_end = \"2019-09-15\", \"2020-06-07\"\n",
    "\n",
    "#BM\n",
    "# train_start, train_end = \"2016-09-30\", \"2019-08-30\"\n",
    "# test_start, test_end = \"2019-09-30\", \"2020-06-30\""
   ]
  },
  {
   "cell_type": "code",
   "execution_count": 102,
   "metadata": {},
   "outputs": [
    {
     "data": {
      "text/html": [
       "<div>\n",
       "<style scoped>\n",
       "    .dataframe tbody tr th:only-of-type {\n",
       "        vertical-align: middle;\n",
       "    }\n",
       "\n",
       "    .dataframe tbody tr th {\n",
       "        vertical-align: top;\n",
       "    }\n",
       "\n",
       "    .dataframe thead th {\n",
       "        text-align: right;\n",
       "    }\n",
       "</style>\n",
       "<table border=\"1\" class=\"dataframe\">\n",
       "  <thead>\n",
       "    <tr style=\"text-align: right;\">\n",
       "      <th></th>\n",
       "      <th>count</th>\n",
       "      <th>mean</th>\n",
       "      <th>std</th>\n",
       "      <th>min</th>\n",
       "      <th>25%</th>\n",
       "      <th>50%</th>\n",
       "      <th>75%</th>\n",
       "      <th>max</th>\n",
       "    </tr>\n",
       "  </thead>\n",
       "  <tbody>\n",
       "    <tr>\n",
       "      <th>Duration</th>\n",
       "      <td>294.0</td>\n",
       "      <td>14.064626</td>\n",
       "      <td>9.275049</td>\n",
       "      <td>6.0</td>\n",
       "      <td>9.0</td>\n",
       "      <td>12.0</td>\n",
       "      <td>15.0</td>\n",
       "      <td>98.0</td>\n",
       "    </tr>\n",
       "    <tr>\n",
       "      <th>Total order quantity</th>\n",
       "      <td>294.0</td>\n",
       "      <td>2263.826531</td>\n",
       "      <td>31.515755</td>\n",
       "      <td>2100.0</td>\n",
       "      <td>2270.0</td>\n",
       "      <td>2270.0</td>\n",
       "      <td>2270.0</td>\n",
       "      <td>2270.0</td>\n",
       "    </tr>\n",
       "  </tbody>\n",
       "</table>\n",
       "</div>"
      ],
      "text/plain": [
       "                      count         mean        std     min     25%     50%  \\\n",
       "Duration              294.0    14.064626   9.275049     6.0     9.0    12.0   \n",
       "Total order quantity  294.0  2263.826531  31.515755  2100.0  2270.0  2270.0   \n",
       "\n",
       "                         75%     max  \n",
       "Duration                15.0    98.0  \n",
       "Total order quantity  2270.0  2270.0  "
      ]
     },
     "metadata": {},
     "output_type": "display_data"
    },
    {
     "data": {
      "text/plain": [
       "array([<matplotlib.axes._subplots.AxesSubplot object at 0x00000247FA31DA60>,\n",
       "       <matplotlib.axes._subplots.AxesSubplot object at 0x00000247FAA21A30>],\n",
       "      dtype=object)"
      ]
     },
     "execution_count": 102,
     "metadata": {},
     "output_type": "execute_result"
    },
    {
     "data": {
      "image/png": "[encoded data removed]",
      "text/plain": [
       "<Figure size 1440x720 with 2 Axes>"
      ]
     },
     "metadata": {
      "needs_background": "light"
     },
     "output_type": "display_data"
    }
   ],
   "source": [
    "display(group.describe().transpose())\n",
    "group.boxplot(by = \"per\", figsize = (20, 10), rot = 90)\n",
    "\n",
    "#plt.savefig(\"With outliers\" + \".png\")"
   ]
  },
  {
   "cell_type": "code",
   "execution_count": 103,
   "metadata": {},
   "outputs": [],
   "source": [
    "dates = pd.unique(group[\"per\"])\n",
    "# empty is an empty dataframe that I am adding rows to at the end of the for-loop\n",
    "empty = pd.DataFrame()\n",
    "for month in dates:\n",
    "    df_quarter = group.loc[group[\"per\"] == month]\n",
    "    \n",
    "    #Looking at Outliers\n",
    "    q1 = df_quarter.quantile(0.25)[0]\n",
    "    q2 = df_quarter.quantile(0.50)[0]\n",
    "    q3 = df_quarter.quantile(0.75)[0]\n",
    "\n",
    "    IQR = q3 - q1\n",
    "    lower = q1 - 1.5*IQR\n",
    "    upper = q3 + 1.5*IQR\n",
    "\n",
    "    temp = df_quarter[(df_quarter[\"Duration\"] < upper)]\n",
    "    empty = empty.append(temp)"
   ]
  },
  {
   "cell_type": "code",
   "execution_count": 9,
   "metadata": {},
   "outputs": [
    {
     "data": {
      "text/plain": [
       "(269, 2)"
      ]
     },
     "execution_count": 9,
     "metadata": {},
     "output_type": "execute_result"
    }
   ],
   "source": [
    "empty.shape"
   ]
  },
  {
   "cell_type": "code",
   "execution_count": 32,
   "metadata": {},
   "outputs": [
    {
     "data": {
      "text/plain": [
       "array([<matplotlib.axes._subplots.AxesSubplot object at 0x00000247F5CF3490>,\n",
       "       <matplotlib.axes._subplots.AxesSubplot object at 0x00000247F5CE2C40>],\n",
       "      dtype=object)"
      ]
     },
     "execution_count": 32,
     "metadata": {},
     "output_type": "execute_result"
    },
    {
     "data": {
      "image/png": "[encoded data removed]",
      "text/plain": [
       "<Figure size 1440x720 with 2 Axes>"
      ]
     },
     "metadata": {
      "needs_background": "light"
     },
     "output_type": "display_data"
    }
   ],
   "source": [
    "empty.boxplot(by = \"per\", figsize = (20, 10), rot = 90)\n",
    "\n",
    "#plt.savefig(\"Without outlier\" + \".png\")"
   ]
  },
  {
   "cell_type": "code",
   "execution_count": 104,
   "metadata": {},
   "outputs": [],
   "source": [
    "# group_resample has the moving average for every month\n",
    "group_resample = empty.resample(\"M\").mean()\n",
    "group_resample[\"Duration\"] = group_resample[\"Duration\"].fillna(method = \"ffill\")\n",
    "group_resample[\"Total order quantity\"] = group_resample[\"Total order quantity\"].fillna(method = \"ffill\")\n",
    "\n",
    "\n",
    "#group_resample[\"Total order quantity\"] = group_resample[\"Total order quantity\"].fillna(method = \"ffill\")\n",
    "#group_resample[\"returns\"] = group_resample[\"Duration\"].pct_change(1)\n",
    "#group_resample = group_resample.dropna()\n",
    "\n",
    "ratio = 0.7\n",
    "length = group_resample.shape[0]\n",
    "pivot = int(ratio * length)\n",
    "\n",
    "train = group_resample[:pivot]\n",
    "test = group_resample[pivot:]\n",
    "\n",
    "train_size = train.shape[0]\n",
    "test_size = test.shape[0]\n",
    "group_resample_size = group_resample.shape[0]\n",
    "\n",
    "\n",
    "# display(train_size)\n",
    "# display(test_size)\n",
    "# display(group_resample_size)\n",
    "# display(group_resample)\n",
    "# display(test)"
   ]
  },
  {
   "cell_type": "code",
   "execution_count": 45,
   "metadata": {},
   "outputs": [
    {
     "data": {
      "text/html": [
       "<div>\n",
       "<style scoped>\n",
       "    .dataframe tbody tr th:only-of-type {\n",
       "        vertical-align: middle;\n",
       "    }\n",
       "\n",
       "    .dataframe tbody tr th {\n",
       "        vertical-align: top;\n",
       "    }\n",
       "\n",
       "    .dataframe thead th {\n",
       "        text-align: right;\n",
       "    }\n",
       "</style>\n",
       "<table border=\"1\" class=\"dataframe\">\n",
       "  <thead>\n",
       "    <tr style=\"text-align: right;\">\n",
       "      <th></th>\n",
       "      <th>Duration</th>\n",
       "      <th>Total order quantity</th>\n",
       "      <th>per</th>\n",
       "    </tr>\n",
       "    <tr>\n",
       "      <th>Confirmation Start Date</th>\n",
       "      <th></th>\n",
       "      <th></th>\n",
       "      <th></th>\n",
       "    </tr>\n",
       "  </thead>\n",
       "  <tbody>\n",
       "    <tr>\n",
       "      <th>2020-01-13</th>\n",
       "      <td>10</td>\n",
       "      <td>2270.0</td>\n",
       "      <td>2020-01</td>\n",
       "    </tr>\n",
       "    <tr>\n",
       "      <th>2020-01-15</th>\n",
       "      <td>12</td>\n",
       "      <td>2270.0</td>\n",
       "      <td>2020-01</td>\n",
       "    </tr>\n",
       "    <tr>\n",
       "      <th>2020-01-21</th>\n",
       "      <td>9</td>\n",
       "      <td>2270.0</td>\n",
       "      <td>2020-01</td>\n",
       "    </tr>\n",
       "    <tr>\n",
       "      <th>2020-01-23</th>\n",
       "      <td>7</td>\n",
       "      <td>2270.0</td>\n",
       "      <td>2020-01</td>\n",
       "    </tr>\n",
       "    <tr>\n",
       "      <th>2020-01-24</th>\n",
       "      <td>13</td>\n",
       "      <td>2270.0</td>\n",
       "      <td>2020-01</td>\n",
       "    </tr>\n",
       "    <tr>\n",
       "      <th>...</th>\n",
       "      <td>...</td>\n",
       "      <td>...</td>\n",
       "      <td>...</td>\n",
       "    </tr>\n",
       "    <tr>\n",
       "      <th>2020-05-20</th>\n",
       "      <td>12</td>\n",
       "      <td>2270.0</td>\n",
       "      <td>2020-05</td>\n",
       "    </tr>\n",
       "    <tr>\n",
       "      <th>2020-05-21</th>\n",
       "      <td>7</td>\n",
       "      <td>2270.0</td>\n",
       "      <td>2020-05</td>\n",
       "    </tr>\n",
       "    <tr>\n",
       "      <th>2020-05-21</th>\n",
       "      <td>14</td>\n",
       "      <td>2270.0</td>\n",
       "      <td>2020-05</td>\n",
       "    </tr>\n",
       "    <tr>\n",
       "      <th>2020-05-22</th>\n",
       "      <td>10</td>\n",
       "      <td>2270.0</td>\n",
       "      <td>2020-05</td>\n",
       "    </tr>\n",
       "    <tr>\n",
       "      <th>2020-05-29</th>\n",
       "      <td>10</td>\n",
       "      <td>2270.0</td>\n",
       "      <td>2020-05</td>\n",
       "    </tr>\n",
       "  </tbody>\n",
       "</table>\n",
       "<p>81 rows × 3 columns</p>\n",
       "</div>"
      ],
      "text/plain": [
       "                         Duration  Total order quantity      per\n",
       "Confirmation Start Date                                         \n",
       "2020-01-13                     10                2270.0  2020-01\n",
       "2020-01-15                     12                2270.0  2020-01\n",
       "2020-01-21                      9                2270.0  2020-01\n",
       "2020-01-23                      7                2270.0  2020-01\n",
       "2020-01-24                     13                2270.0  2020-01\n",
       "...                           ...                   ...      ...\n",
       "2020-05-20                     12                2270.0  2020-05\n",
       "2020-05-21                      7                2270.0  2020-05\n",
       "2020-05-21                     14                2270.0  2020-05\n",
       "2020-05-22                     10                2270.0  2020-05\n",
       "2020-05-29                     10                2270.0  2020-05\n",
       "\n",
       "[81 rows x 3 columns]"
      ]
     },
     "metadata": {},
     "output_type": "display_data"
    }
   ],
   "source": [
    "# Not finding moving average\n",
    "\n",
    "# group_resample = empty\n",
    "# group_resample[\"Duration\"] = group_resample[\"Duration\"].fillna(method = \"ffill\")\n",
    "# group_resample[\"Total order quantity\"] = group_resample[\"Total order quantity\"].fillna(method = \"ffill\")\n",
    "\n",
    "\n",
    "# ratio = 0.7\n",
    "# length = group_resample.shape[0]\n",
    "# pivot = int(ratio * length)\n",
    "\n",
    "# train = group_resample[:pivot]\n",
    "# test = group_resample[pivot:]\n",
    "\n",
    "# train_size = train.shape[0]\n",
    "# test_size = test.shape[0]\n",
    "# group_resample_size = group_resample.shape[0]\n",
    "\n",
    "\n",
    "# display(train_size)\n",
    "# display(test_size)\n",
    "# display(group_resample_size)\n",
    "# display(group_resample)\n",
    "# display(test)"
   ]
  },
  {
   "cell_type": "code",
   "execution_count": 61,
   "metadata": {},
   "outputs": [
    {
     "data": {
      "text/html": [
       "<div>\n",
       "<style scoped>\n",
       "    .dataframe tbody tr th:only-of-type {\n",
       "        vertical-align: middle;\n",
       "    }\n",
       "\n",
       "    .dataframe tbody tr th {\n",
       "        vertical-align: top;\n",
       "    }\n",
       "\n",
       "    .dataframe thead th {\n",
       "        text-align: right;\n",
       "    }\n",
       "</style>\n",
       "<table border=\"1\" class=\"dataframe\">\n",
       "  <thead>\n",
       "    <tr style=\"text-align: right;\">\n",
       "      <th></th>\n",
       "      <th>Duration</th>\n",
       "      <th>Total order quantity</th>\n",
       "      <th>per</th>\n",
       "    </tr>\n",
       "    <tr>\n",
       "      <th>Confirmation Start Date</th>\n",
       "      <th></th>\n",
       "      <th></th>\n",
       "      <th></th>\n",
       "    </tr>\n",
       "  </thead>\n",
       "  <tbody>\n",
       "    <tr>\n",
       "      <th>2017-01-17</th>\n",
       "      <td>13</td>\n",
       "      <td>2100.0</td>\n",
       "      <td>2017-01</td>\n",
       "    </tr>\n",
       "    <tr>\n",
       "      <th>2017-01-24</th>\n",
       "      <td>14</td>\n",
       "      <td>2100.0</td>\n",
       "      <td>2017-01</td>\n",
       "    </tr>\n",
       "    <tr>\n",
       "      <th>2017-01-31</th>\n",
       "      <td>13</td>\n",
       "      <td>2100.0</td>\n",
       "      <td>2017-01</td>\n",
       "    </tr>\n",
       "    <tr>\n",
       "      <th>2017-02-07</th>\n",
       "      <td>9</td>\n",
       "      <td>2100.0</td>\n",
       "      <td>2017-02</td>\n",
       "    </tr>\n",
       "    <tr>\n",
       "      <th>2017-02-21</th>\n",
       "      <td>9</td>\n",
       "      <td>2100.0</td>\n",
       "      <td>2017-02</td>\n",
       "    </tr>\n",
       "    <tr>\n",
       "      <th>2017-02-28</th>\n",
       "      <td>13</td>\n",
       "      <td>2100.0</td>\n",
       "      <td>2017-02</td>\n",
       "    </tr>\n",
       "    <tr>\n",
       "      <th>2017-03-21</th>\n",
       "      <td>10</td>\n",
       "      <td>2100.0</td>\n",
       "      <td>2017-03</td>\n",
       "    </tr>\n",
       "    <tr>\n",
       "      <th>2017-03-28</th>\n",
       "      <td>9</td>\n",
       "      <td>2100.0</td>\n",
       "      <td>2017-03</td>\n",
       "    </tr>\n",
       "    <tr>\n",
       "      <th>2017-04-04</th>\n",
       "      <td>8</td>\n",
       "      <td>2100.0</td>\n",
       "      <td>2017-04</td>\n",
       "    </tr>\n",
       "    <tr>\n",
       "      <th>2017-04-19</th>\n",
       "      <td>8</td>\n",
       "      <td>2270.0</td>\n",
       "      <td>2017-04</td>\n",
       "    </tr>\n",
       "    <tr>\n",
       "      <th>2017-04-25</th>\n",
       "      <td>20</td>\n",
       "      <td>2270.0</td>\n",
       "      <td>2017-04</td>\n",
       "    </tr>\n",
       "    <tr>\n",
       "      <th>2017-04-26</th>\n",
       "      <td>19</td>\n",
       "      <td>2270.0</td>\n",
       "      <td>2017-04</td>\n",
       "    </tr>\n",
       "    <tr>\n",
       "      <th>2017-04-27</th>\n",
       "      <td>18</td>\n",
       "      <td>2270.0</td>\n",
       "      <td>2017-04</td>\n",
       "    </tr>\n",
       "    <tr>\n",
       "      <th>2017-05-01</th>\n",
       "      <td>14</td>\n",
       "      <td>2270.0</td>\n",
       "      <td>2017-05</td>\n",
       "    </tr>\n",
       "    <tr>\n",
       "      <th>2017-05-02</th>\n",
       "      <td>14</td>\n",
       "      <td>2270.0</td>\n",
       "      <td>2017-05</td>\n",
       "    </tr>\n",
       "    <tr>\n",
       "      <th>2017-05-03</th>\n",
       "      <td>12</td>\n",
       "      <td>2270.0</td>\n",
       "      <td>2017-05</td>\n",
       "    </tr>\n",
       "    <tr>\n",
       "      <th>2017-05-04</th>\n",
       "      <td>11</td>\n",
       "      <td>2270.0</td>\n",
       "      <td>2017-05</td>\n",
       "    </tr>\n",
       "    <tr>\n",
       "      <th>2017-05-10</th>\n",
       "      <td>13</td>\n",
       "      <td>2270.0</td>\n",
       "      <td>2017-05</td>\n",
       "    </tr>\n",
       "    <tr>\n",
       "      <th>2017-05-11</th>\n",
       "      <td>12</td>\n",
       "      <td>2270.0</td>\n",
       "      <td>2017-05</td>\n",
       "    </tr>\n",
       "    <tr>\n",
       "      <th>2017-05-12</th>\n",
       "      <td>11</td>\n",
       "      <td>2270.0</td>\n",
       "      <td>2017-05</td>\n",
       "    </tr>\n",
       "  </tbody>\n",
       "</table>\n",
       "</div>"
      ],
      "text/plain": [
       "                         Duration  Total order quantity      per\n",
       "Confirmation Start Date                                         \n",
       "2017-01-17                     13                2100.0  2017-01\n",
       "2017-01-24                     14                2100.0  2017-01\n",
       "2017-01-31                     13                2100.0  2017-01\n",
       "2017-02-07                      9                2100.0  2017-02\n",
       "2017-02-21                      9                2100.0  2017-02\n",
       "2017-02-28                     13                2100.0  2017-02\n",
       "2017-03-21                     10                2100.0  2017-03\n",
       "2017-03-28                      9                2100.0  2017-03\n",
       "2017-04-04                      8                2100.0  2017-04\n",
       "2017-04-19                      8                2270.0  2017-04\n",
       "2017-04-25                     20                2270.0  2017-04\n",
       "2017-04-26                     19                2270.0  2017-04\n",
       "2017-04-27                     18                2270.0  2017-04\n",
       "2017-05-01                     14                2270.0  2017-05\n",
       "2017-05-02                     14                2270.0  2017-05\n",
       "2017-05-03                     12                2270.0  2017-05\n",
       "2017-05-04                     11                2270.0  2017-05\n",
       "2017-05-10                     13                2270.0  2017-05\n",
       "2017-05-11                     12                2270.0  2017-05\n",
       "2017-05-12                     11                2270.0  2017-05"
      ]
     },
     "metadata": {},
     "output_type": "display_data"
    },
    {
     "data": {
      "text/html": [
       "<div>\n",
       "<style scoped>\n",
       "    .dataframe tbody tr th:only-of-type {\n",
       "        vertical-align: middle;\n",
       "    }\n",
       "\n",
       "    .dataframe tbody tr th {\n",
       "        vertical-align: top;\n",
       "    }\n",
       "\n",
       "    .dataframe thead th {\n",
       "        text-align: right;\n",
       "    }\n",
       "</style>\n",
       "<table border=\"1\" class=\"dataframe\">\n",
       "  <thead>\n",
       "    <tr style=\"text-align: right;\">\n",
       "      <th></th>\n",
       "      <th>Duration</th>\n",
       "      <th>Total order quantity</th>\n",
       "    </tr>\n",
       "    <tr>\n",
       "      <th>Confirmation Start Date</th>\n",
       "      <th></th>\n",
       "      <th></th>\n",
       "    </tr>\n",
       "  </thead>\n",
       "  <tbody>\n",
       "    <tr>\n",
       "      <th>2017-01-31</th>\n",
       "      <td>13.333333</td>\n",
       "      <td>2100.0</td>\n",
       "    </tr>\n",
       "    <tr>\n",
       "      <th>2017-02-28</th>\n",
       "      <td>10.333333</td>\n",
       "      <td>2100.0</td>\n",
       "    </tr>\n",
       "    <tr>\n",
       "      <th>2017-03-31</th>\n",
       "      <td>9.500000</td>\n",
       "      <td>2100.0</td>\n",
       "    </tr>\n",
       "    <tr>\n",
       "      <th>2017-04-30</th>\n",
       "      <td>14.600000</td>\n",
       "      <td>2236.0</td>\n",
       "    </tr>\n",
       "    <tr>\n",
       "      <th>2017-05-31</th>\n",
       "      <td>11.800000</td>\n",
       "      <td>2270.0</td>\n",
       "    </tr>\n",
       "    <tr>\n",
       "      <th>2017-06-30</th>\n",
       "      <td>16.333333</td>\n",
       "      <td>2270.0</td>\n",
       "    </tr>\n",
       "    <tr>\n",
       "      <th>2017-07-31</th>\n",
       "      <td>12.000000</td>\n",
       "      <td>2270.0</td>\n",
       "    </tr>\n",
       "    <tr>\n",
       "      <th>2017-08-31</th>\n",
       "      <td>19.000000</td>\n",
       "      <td>2270.0</td>\n",
       "    </tr>\n",
       "    <tr>\n",
       "      <th>2017-09-30</th>\n",
       "      <td>16.000000</td>\n",
       "      <td>2270.0</td>\n",
       "    </tr>\n",
       "    <tr>\n",
       "      <th>2017-10-31</th>\n",
       "      <td>11.666667</td>\n",
       "      <td>2270.0</td>\n",
       "    </tr>\n",
       "    <tr>\n",
       "      <th>2017-11-30</th>\n",
       "      <td>13.250000</td>\n",
       "      <td>2270.0</td>\n",
       "    </tr>\n",
       "    <tr>\n",
       "      <th>2017-12-31</th>\n",
       "      <td>13.250000</td>\n",
       "      <td>2270.0</td>\n",
       "    </tr>\n",
       "    <tr>\n",
       "      <th>2018-01-31</th>\n",
       "      <td>10.555556</td>\n",
       "      <td>2270.0</td>\n",
       "    </tr>\n",
       "    <tr>\n",
       "      <th>2018-02-28</th>\n",
       "      <td>14.333333</td>\n",
       "      <td>2270.0</td>\n",
       "    </tr>\n",
       "    <tr>\n",
       "      <th>2018-03-31</th>\n",
       "      <td>17.000000</td>\n",
       "      <td>2270.0</td>\n",
       "    </tr>\n",
       "    <tr>\n",
       "      <th>2018-04-30</th>\n",
       "      <td>15.000000</td>\n",
       "      <td>2270.0</td>\n",
       "    </tr>\n",
       "    <tr>\n",
       "      <th>2018-05-31</th>\n",
       "      <td>15.000000</td>\n",
       "      <td>2270.0</td>\n",
       "    </tr>\n",
       "    <tr>\n",
       "      <th>2018-06-30</th>\n",
       "      <td>15.000000</td>\n",
       "      <td>2270.0</td>\n",
       "    </tr>\n",
       "    <tr>\n",
       "      <th>2018-07-31</th>\n",
       "      <td>12.714286</td>\n",
       "      <td>2270.0</td>\n",
       "    </tr>\n",
       "    <tr>\n",
       "      <th>2018-08-31</th>\n",
       "      <td>14.750000</td>\n",
       "      <td>2270.0</td>\n",
       "    </tr>\n",
       "    <tr>\n",
       "      <th>2018-09-30</th>\n",
       "      <td>12.000000</td>\n",
       "      <td>2270.0</td>\n",
       "    </tr>\n",
       "    <tr>\n",
       "      <th>2018-10-31</th>\n",
       "      <td>17.857143</td>\n",
       "      <td>2270.0</td>\n",
       "    </tr>\n",
       "    <tr>\n",
       "      <th>2018-11-30</th>\n",
       "      <td>16.500000</td>\n",
       "      <td>2270.0</td>\n",
       "    </tr>\n",
       "    <tr>\n",
       "      <th>2018-12-31</th>\n",
       "      <td>18.000000</td>\n",
       "      <td>2270.0</td>\n",
       "    </tr>\n",
       "    <tr>\n",
       "      <th>2019-01-31</th>\n",
       "      <td>10.000000</td>\n",
       "      <td>2270.0</td>\n",
       "    </tr>\n",
       "    <tr>\n",
       "      <th>2019-02-28</th>\n",
       "      <td>10.333333</td>\n",
       "      <td>2270.0</td>\n",
       "    </tr>\n",
       "    <tr>\n",
       "      <th>2019-03-31</th>\n",
       "      <td>12.833333</td>\n",
       "      <td>2270.0</td>\n",
       "    </tr>\n",
       "    <tr>\n",
       "      <th>2019-04-30</th>\n",
       "      <td>13.800000</td>\n",
       "      <td>2270.0</td>\n",
       "    </tr>\n",
       "    <tr>\n",
       "      <th>2019-05-31</th>\n",
       "      <td>16.857143</td>\n",
       "      <td>2270.0</td>\n",
       "    </tr>\n",
       "    <tr>\n",
       "      <th>2019-06-30</th>\n",
       "      <td>15.166667</td>\n",
       "      <td>2270.0</td>\n",
       "    </tr>\n",
       "    <tr>\n",
       "      <th>2019-07-31</th>\n",
       "      <td>17.250000</td>\n",
       "      <td>2270.0</td>\n",
       "    </tr>\n",
       "    <tr>\n",
       "      <th>2019-08-31</th>\n",
       "      <td>17.222222</td>\n",
       "      <td>2270.0</td>\n",
       "    </tr>\n",
       "    <tr>\n",
       "      <th>2019-09-30</th>\n",
       "      <td>19.000000</td>\n",
       "      <td>2270.0</td>\n",
       "    </tr>\n",
       "    <tr>\n",
       "      <th>2019-10-31</th>\n",
       "      <td>10.142857</td>\n",
       "      <td>2270.0</td>\n",
       "    </tr>\n",
       "    <tr>\n",
       "      <th>2019-11-30</th>\n",
       "      <td>9.666667</td>\n",
       "      <td>2270.0</td>\n",
       "    </tr>\n",
       "    <tr>\n",
       "      <th>2019-12-31</th>\n",
       "      <td>12.000000</td>\n",
       "      <td>2270.0</td>\n",
       "    </tr>\n",
       "    <tr>\n",
       "      <th>2020-01-31</th>\n",
       "      <td>11.900000</td>\n",
       "      <td>2270.0</td>\n",
       "    </tr>\n",
       "    <tr>\n",
       "      <th>2020-02-29</th>\n",
       "      <td>16.714286</td>\n",
       "      <td>2270.0</td>\n",
       "    </tr>\n",
       "    <tr>\n",
       "      <th>2020-03-31</th>\n",
       "      <td>9.400000</td>\n",
       "      <td>2270.0</td>\n",
       "    </tr>\n",
       "    <tr>\n",
       "      <th>2020-04-30</th>\n",
       "      <td>7.607143</td>\n",
       "      <td>2270.0</td>\n",
       "    </tr>\n",
       "    <tr>\n",
       "      <th>2020-05-31</th>\n",
       "      <td>9.250000</td>\n",
       "      <td>2270.0</td>\n",
       "    </tr>\n",
       "  </tbody>\n",
       "</table>\n",
       "</div>"
      ],
      "text/plain": [
       "                          Duration  Total order quantity\n",
       "Confirmation Start Date                                 \n",
       "2017-01-31               13.333333                2100.0\n",
       "2017-02-28               10.333333                2100.0\n",
       "2017-03-31                9.500000                2100.0\n",
       "2017-04-30               14.600000                2236.0\n",
       "2017-05-31               11.800000                2270.0\n",
       "2017-06-30               16.333333                2270.0\n",
       "2017-07-31               12.000000                2270.0\n",
       "2017-08-31               19.000000                2270.0\n",
       "2017-09-30               16.000000                2270.0\n",
       "2017-10-31               11.666667                2270.0\n",
       "2017-11-30               13.250000                2270.0\n",
       "2017-12-31               13.250000                2270.0\n",
       "2018-01-31               10.555556                2270.0\n",
       "2018-02-28               14.333333                2270.0\n",
       "2018-03-31               17.000000                2270.0\n",
       "2018-04-30               15.000000                2270.0\n",
       "2018-05-31               15.000000                2270.0\n",
       "2018-06-30               15.000000                2270.0\n",
       "2018-07-31               12.714286                2270.0\n",
       "2018-08-31               14.750000                2270.0\n",
       "2018-09-30               12.000000                2270.0\n",
       "2018-10-31               17.857143                2270.0\n",
       "2018-11-30               16.500000                2270.0\n",
       "2018-12-31               18.000000                2270.0\n",
       "2019-01-31               10.000000                2270.0\n",
       "2019-02-28               10.333333                2270.0\n",
       "2019-03-31               12.833333                2270.0\n",
       "2019-04-30               13.800000                2270.0\n",
       "2019-05-31               16.857143                2270.0\n",
       "2019-06-30               15.166667                2270.0\n",
       "2019-07-31               17.250000                2270.0\n",
       "2019-08-31               17.222222                2270.0\n",
       "2019-09-30               19.000000                2270.0\n",
       "2019-10-31               10.142857                2270.0\n",
       "2019-11-30                9.666667                2270.0\n",
       "2019-12-31               12.000000                2270.0\n",
       "2020-01-31               11.900000                2270.0\n",
       "2020-02-29               16.714286                2270.0\n",
       "2020-03-31                9.400000                2270.0\n",
       "2020-04-30                7.607143                2270.0\n",
       "2020-05-31                9.250000                2270.0"
      ]
     },
     "metadata": {},
     "output_type": "display_data"
    },
    {
     "data": {
      "image/png": "[encoded data removed]",
      "text/plain": [
       "<Figure size 432x288 with 1 Axes>"
      ]
     },
     "metadata": {
      "needs_background": "light"
     },
     "output_type": "display_data"
    }
   ],
   "source": [
    "group_resample.plot()\n",
    "display(empty[:20])\n",
    "display(group_resample)"
   ]
  },
  {
   "cell_type": "code",
   "execution_count": 112,
   "metadata": {},
   "outputs": [
    {
     "data": {
      "image/png": "[encoded data removed]",
      "text/plain": [
       "<Figure size 1080x720 with 4 Axes>"
      ]
     },
     "metadata": {
      "needs_background": "light"
     },
     "output_type": "display_data"
    }
   ],
   "source": [
    "res = sm.tsa.seasonal_decompose(train[\"Duration\"], model = \"additive\")\n",
    "fig = res.plot()\n",
    "fig.set_figheight(10)\n",
    "fig.set_figwidth(15)\n",
    "plt.show()"
   ]
  },
  {
   "cell_type": "code",
   "execution_count": null,
   "metadata": {},
   "outputs": [],
   "source": [
    "#including returns and normalized data\n",
    "\n",
    "# group_resample[\"returns\"] = group_resample[\"Duration\"].pct_change(1)\n",
    "# group_resample[\"returns\"].plot()\n",
    "\n",
    "# benchmark = group_resample[\"Duration\"].iloc[0]\n",
    "# group_resample[\"norm\"] = group_resample[\"Duration\"].div(benchmark)\n",
    "\n",
    "# group_resample[\"norm\"].plot()\n",
    "# display(adfuller(group_resample[\"returns\"].dropna()))"
   ]
  },
  {
   "cell_type": "code",
   "execution_count": null,
   "metadata": {},
   "outputs": [],
   "source": [
    "#Normalizing values\n",
    "\n",
    "# bench_ret = group_resample[\"returns\"].dropna().iloc[0]\n",
    "# group_resample[\"norm_ret\"] = group_resample[\"returns\"].div(bench_ret).mul(100)\n",
    "# group_resample.head()"
   ]
  },
  {
   "cell_type": "code",
   "execution_count": null,
   "metadata": {},
   "outputs": [],
   "source": [
    "# Doing ACF and PACF on returns \n",
    "\n",
    "# from statsmodels.graphics.tsaplots import plot_acf, plot_pacf\n",
    "\n",
    "# fig, ax = plt.subplots(2, 1, figsize=(20, 15))\n",
    "# fig = sm.graphics.tsa.plot_acf(train.returns.dropna(), lags = 25, ax=ax[0], zero = False)\n",
    "\n",
    "# fig = sm.graphics.tsa.plot_pacf(train.returns.dropna(), lags = 25, ax=ax[1], zero = False, method = \"ols\")\n",
    "# plt.show()\n",
    "\n",
    "#p is 1, 2\n",
    "#d is 1\n",
    "#q is 1, 2"
   ]
  },
  {
   "cell_type": "code",
   "execution_count": 62,
   "metadata": {},
   "outputs": [
    {
     "name": "stdout",
     "output_type": "stream",
     "text": [
      "Augmented Dickey-Fuller Test\n",
      "Critical values:\n",
      "\t1%: -3.6055648906249997\n",
      "\t5%: -2.937069375\n",
      "\t10%: -2.606985625\n",
      "ADF Test Statistic : -4.405874043170262\n",
      "p-value : 0.0002898074803232961\n",
      "# of lags : 0\n",
      "Num of Obs used : 40\n",
      "Reject null hypothesis\n",
      "Data has no unit root and is stationary\n"
     ]
    }
   ],
   "source": [
    "def adf_check(time_series):\n",
    "    \n",
    "    result = adfuller(time_series)\n",
    "    print('Augmented Dickey-Fuller Test')\n",
    "    labels = ['ADF Test Statistic', 'p-value', '# of lags', 'Num of Obs used']\n",
    "    \n",
    "    print('Critical values:')\n",
    "    for key,value in result[4].items():\n",
    "        print('\\t{}: {}'.format(key, value) )\n",
    "    \n",
    "    for value, label in zip(result,labels):\n",
    "        print(label+ ' : '+str(value))\n",
    "    \n",
    "    if ((result[1] <= 0.05 and  result[0] <= result[4]['1%']) or\n",
    "    (result[1] <= 0.05 and  result[0] <= result[4]['5%']) or\n",
    "        (result[1] <= 0.05 and  result[0] <= result[4]['10%'])):\n",
    "        print('Reject null hypothesis')\n",
    "        print ('Data has no unit root and is stationary')\n",
    "   \n",
    "    else:\n",
    "        print('Fail to reject null hypothesis')\n",
    "        print('Data has a unit root and it is non-stationary')\n",
    "\n",
    "result = adf_check(group_resample[\"Duration\"])"
   ]
  },
  {
   "cell_type": "code",
   "execution_count": null,
   "metadata": {},
   "outputs": [],
   "source": [
    "#Beginning of indian YouTube Tutorial "
   ]
  },
  {
   "cell_type": "code",
   "execution_count": null,
   "metadata": {},
   "outputs": [],
   "source": [
    "# group_resample.shape"
   ]
  },
  {
   "cell_type": "code",
   "execution_count": null,
   "metadata": {},
   "outputs": [],
   "source": [
    "# group_resample[\"Seasonal_First_Difference\"] = group_resample[\"Duration\"] - group_resample[\"Duration\"].shift(12)"
   ]
  },
  {
   "cell_type": "code",
   "execution_count": null,
   "metadata": {},
   "outputs": [],
   "source": [
    "# adf_check(group_resample[\"Seasonal_First_Difference\"].dropna())\n",
    "# group_resample[\"Seasonal_First_Difference\"].plot()"
   ]
  },
  {
   "cell_type": "code",
   "execution_count": null,
   "metadata": {},
   "outputs": [],
   "source": [
    "# from pandas.plotting import autocorrelation_plot\n",
    "# autocorrelation_plot(group_resample[\"Duration\"])\n",
    "# plt.show()"
   ]
  },
  {
   "cell_type": "code",
   "execution_count": null,
   "metadata": {},
   "outputs": [],
   "source": [
    "from statsmodels.graphics.tsaplots import plot_acf, plot_pacf\n",
    "\n",
    "fig, ax = plt.subplots(2, 1, figsize=(20, 15))\n",
    "fig = sm.graphics.tsa.plot_acf(train.Duration.dropna(), lags = 20, ax=ax[0])\n",
    "\n",
    "fig = sm.graphics.tsa.plot_pacf(train.Duration.dropna(), lags = 20, ax=ax[1])\n",
    "plt.show()\n",
    "\n",
    "#p is 1, 2\n",
    "#d is 1\n",
    "#q is 1, 2"
   ]
  },
  {
   "cell_type": "code",
   "execution_count": null,
   "metadata": {},
   "outputs": [],
   "source": []
  },
  {
   "cell_type": "code",
   "execution_count": null,
   "metadata": {},
   "outputs": [],
   "source": [
    "# ARIMA model\n",
    "\n",
    "#Not such a good approach because the data we have is seasonal\n",
    "# model = ARIMA(group_resample[\"Duration\"], order = (1, 1, 1), exog = train[\"Total order quantity\"])\n",
    "# results = model.fit()\n",
    "# results.summary()"
   ]
  },
  {
   "cell_type": "code",
   "execution_count": 99,
   "metadata": {},
   "outputs": [
    {
     "name": "stderr",
     "output_type": "stream",
     "text": [
      "C:\\Users\\hersh\\anaconda3\\envs\\time_series\\lib\\site-packages\\statsmodels\\base\\model.py:567: ConvergenceWarning: Maximum Likelihood optimization failed to converge. Check mle_retvals\n",
      "  warn(\"Maximum Likelihood optimization failed to converge. \"\n"
     ]
    },
    {
     "data": {
      "text/html": [
       "<table class=\"simpletable\">\n",
       "<caption>SARIMAX Results</caption>\n",
       "<tr>\n",
       "  <th>Dep. Variable:</th>              <td>Duration</td>            <th>  No. Observations:  </th>   <td>28</td>   \n",
       "</tr>\n",
       "<tr>\n",
       "  <th>Model:</th>           <td>SARIMAX(1, 1, 1)x(1, 1, 1, 12)</td> <th>  Log Likelihood     </th> <td>-41.049</td>\n",
       "</tr>\n",
       "<tr>\n",
       "  <th>Date:</th>                   <td>Mon, 06 Jul 2020</td>        <th>  AIC                </th> <td>94.098</td> \n",
       "</tr>\n",
       "<tr>\n",
       "  <th>Time:</th>                       <td>19:55:38</td>            <th>  BIC                </th> <td>98.346</td> \n",
       "</tr>\n",
       "<tr>\n",
       "  <th>Sample:</th>                    <td>01-31-2017</td>           <th>  HQIC               </th> <td>94.052</td> \n",
       "</tr>\n",
       "<tr>\n",
       "  <th></th>                          <td>- 04-30-2019</td>          <th>                     </th>    <td> </td>   \n",
       "</tr>\n",
       "<tr>\n",
       "  <th>Covariance Type:</th>               <td>opg</td>              <th>                     </th>    <td> </td>   \n",
       "</tr>\n",
       "</table>\n",
       "<table class=\"simpletable\">\n",
       "<tr>\n",
       "            <td></td>              <th>coef</th>     <th>std err</th>      <th>z</th>      <th>P>|z|</th>  <th>[0.025</th>    <th>0.975]</th>  \n",
       "</tr>\n",
       "<tr>\n",
       "  <th>Total order quantity</th> <td>    0.0104</td> <td>    0.026</td> <td>    0.407</td> <td> 0.684</td> <td>   -0.040</td> <td>    0.060</td>\n",
       "</tr>\n",
       "<tr>\n",
       "  <th>ar.L1</th>                <td>    0.3042</td> <td>    0.691</td> <td>    0.440</td> <td> 0.660</td> <td>   -1.050</td> <td>    1.658</td>\n",
       "</tr>\n",
       "<tr>\n",
       "  <th>ma.L1</th>                <td>   -0.9955</td> <td>   32.932</td> <td>   -0.030</td> <td> 0.976</td> <td>  -65.541</td> <td>   63.550</td>\n",
       "</tr>\n",
       "<tr>\n",
       "  <th>ar.S.L12</th>             <td>   -0.4603</td> <td>   10.143</td> <td>   -0.045</td> <td> 0.964</td> <td>  -20.341</td> <td>   19.420</td>\n",
       "</tr>\n",
       "<tr>\n",
       "  <th>ma.S.L12</th>             <td>   -0.6229</td> <td>   44.193</td> <td>   -0.014</td> <td> 0.989</td> <td>  -87.240</td> <td>   85.994</td>\n",
       "</tr>\n",
       "<tr>\n",
       "  <th>sigma2</th>               <td>    5.5245</td> <td>   12.156</td> <td>    0.454</td> <td> 0.649</td> <td>  -18.300</td> <td>   29.349</td>\n",
       "</tr>\n",
       "</table>\n",
       "<table class=\"simpletable\">\n",
       "<tr>\n",
       "  <th>Ljung-Box (Q):</th>          <td>12.39</td> <th>  Jarque-Bera (JB):  </th> <td>0.36</td>\n",
       "</tr>\n",
       "<tr>\n",
       "  <th>Prob(Q):</th>                <td>0.58</td>  <th>  Prob(JB):          </th> <td>0.83</td>\n",
       "</tr>\n",
       "<tr>\n",
       "  <th>Heteroskedasticity (H):</th> <td>0.64</td>  <th>  Skew:              </th> <td>0.11</td>\n",
       "</tr>\n",
       "<tr>\n",
       "  <th>Prob(H) (two-sided):</th>    <td>0.63</td>  <th>  Kurtosis:          </th> <td>2.27</td>\n",
       "</tr>\n",
       "</table><br/><br/>Warnings:<br/>[1] Covariance matrix calculated using the outer product of gradients (complex-step).<br/>[2] Covariance matrix is singular or near-singular, with condition number 1.57e+18. Standard errors may be unstable."
      ],
      "text/plain": [
       "<class 'statsmodels.iolib.summary.Summary'>\n",
       "\"\"\"\n",
       "                                     SARIMAX Results                                      \n",
       "==========================================================================================\n",
       "Dep. Variable:                           Duration   No. Observations:                   28\n",
       "Model:             SARIMAX(1, 1, 1)x(1, 1, 1, 12)   Log Likelihood                 -41.049\n",
       "Date:                            Mon, 06 Jul 2020   AIC                             94.098\n",
       "Time:                                    19:55:38   BIC                             98.346\n",
       "Sample:                                01-31-2017   HQIC                            94.052\n",
       "                                     - 04-30-2019                                         \n",
       "Covariance Type:                              opg                                         \n",
       "========================================================================================\n",
       "                           coef    std err          z      P>|z|      [0.025      0.975]\n",
       "----------------------------------------------------------------------------------------\n",
       "Total order quantity     0.0104      0.026      0.407      0.684      -0.040       0.060\n",
       "ar.L1                    0.3042      0.691      0.440      0.660      -1.050       1.658\n",
       "ma.L1                   -0.9955     32.932     -0.030      0.976     -65.541      63.550\n",
       "ar.S.L12                -0.4603     10.143     -0.045      0.964     -20.341      19.420\n",
       "ma.S.L12                -0.6229     44.193     -0.014      0.989     -87.240      85.994\n",
       "sigma2                   5.5245     12.156      0.454      0.649     -18.300      29.349\n",
       "===================================================================================\n",
       "Ljung-Box (Q):                       12.39   Jarque-Bera (JB):                 0.36\n",
       "Prob(Q):                              0.58   Prob(JB):                         0.83\n",
       "Heteroskedasticity (H):               0.64   Skew:                             0.11\n",
       "Prob(H) (two-sided):                  0.63   Kurtosis:                         2.27\n",
       "===================================================================================\n",
       "\n",
       "Warnings:\n",
       "[1] Covariance matrix calculated using the outer product of gradients (complex-step).\n",
       "[2] Covariance matrix is singular or near-singular, with condition number 1.57e+18. Standard errors may be unstable.\n",
       "\"\"\""
      ]
     },
     "execution_count": 99,
     "metadata": {},
     "output_type": "execute_result"
    }
   ],
   "source": [
    "# SARIMA model\n",
    "\n",
    "model = sm.tsa.statespace.SARIMAX(train[\"Duration\"], order = (1, 1, 1), seasonal_order=(1, 1, 1, 12), exog = train[\"Total order quantity\"])\n",
    "results = model.fit()\n",
    "results.summary()"
   ]
  },
  {
   "cell_type": "code",
   "execution_count": 119,
   "metadata": {},
   "outputs": [
    {
     "name": "stdout",
     "output_type": "stream",
     "text": [
      "Performing stepwise search to minimize aic\n",
      "Fit ARIMA(0,0,0)x(1,1,0,12) [intercept=True]; AIC=91.929, BIC=95.019, Time=0.199 seconds\n",
      "Fit ARIMA(0,0,0)x(0,1,0,12) [intercept=True]; AIC=92.414, BIC=94.732, Time=0.042 seconds\n",
      "Fit ARIMA(1,0,0)x(1,1,0,12) [intercept=True]; AIC=93.343, BIC=97.206, Time=0.377 seconds\n",
      "Fit ARIMA(0,0,1)x(0,1,1,12) [intercept=True]; AIC=93.971, BIC=97.834, Time=0.476 seconds\n",
      "Near non-invertible roots for order (0, 0, 1)(0, 1, 1, 12); setting score to inf (at least one inverse root too close to the border of the unit circle: 1.000)\n",
      "Fit ARIMA(0,0,0)x(0,1,0,12) [intercept=False]; AIC=90.429, BIC=91.974, Time=0.078 seconds\n",
      "Fit ARIMA(0,0,0)x(0,1,1,12) [intercept=True]; AIC=92.792, BIC=95.883, Time=0.294 seconds\n",
      "Near non-invertible roots for order (0, 0, 0)(0, 1, 1, 12); setting score to inf (at least one inverse root too close to the border of the unit circle: 0.999)\n",
      "Fit ARIMA(0,0,0)x(1,1,1,12) [intercept=True]; AIC=93.929, BIC=97.792, Time=0.428 seconds\n",
      "Fit ARIMA(1,0,0)x(0,1,0,12) [intercept=True]; AIC=93.780, BIC=96.871, Time=0.214 seconds\n",
      "Fit ARIMA(0,0,1)x(0,1,0,12) [intercept=True]; AIC=93.593, BIC=96.684, Time=0.178 seconds\n",
      "Fit ARIMA(1,0,1)x(0,1,0,12) [intercept=True]; AIC=94.288, BIC=98.151, Time=0.398 seconds\n",
      "Near non-invertible roots for order (1, 0, 1)(0, 1, 0, 12); setting score to inf (at least one inverse root too close to the border of the unit circle: 0.999)\n",
      "Total fit time: 2.701 seconds\n"
     ]
    },
    {
     "data": {
      "text/html": [
       "<table class=\"simpletable\">\n",
       "<caption>SARIMAX Results</caption>\n",
       "<tr>\n",
       "  <th>Dep. Variable:</th>             <td>y</td>          <th>  No. Observations:  </th>   <td>28</td>   \n",
       "</tr>\n",
       "<tr>\n",
       "  <th>Model:</th>           <td>SARIMAX(0, 1, 0, 12)</td> <th>  Log Likelihood     </th> <td>-43.214</td>\n",
       "</tr>\n",
       "<tr>\n",
       "  <th>Date:</th>              <td>Tue, 07 Jul 2020</td>   <th>  AIC                </th> <td>90.429</td> \n",
       "</tr>\n",
       "<tr>\n",
       "  <th>Time:</th>                  <td>13:15:27</td>       <th>  BIC                </th> <td>91.974</td> \n",
       "</tr>\n",
       "<tr>\n",
       "  <th>Sample:</th>               <td>01-31-2017</td>      <th>  HQIC               </th> <td>90.508</td> \n",
       "</tr>\n",
       "<tr>\n",
       "  <th></th>                     <td>- 04-30-2019</td>     <th>                     </th>    <td> </td>   \n",
       "</tr>\n",
       "<tr>\n",
       "  <th>Covariance Type:</th>          <td>opg</td>         <th>                     </th>    <td> </td>   \n",
       "</tr>\n",
       "</table>\n",
       "<table class=\"simpletable\">\n",
       "<tr>\n",
       "            <td></td>              <th>coef</th>     <th>std err</th>      <th>z</th>      <th>P>|z|</th>  <th>[0.025</th>    <th>0.975]</th>  \n",
       "</tr>\n",
       "<tr>\n",
       "  <th>Total order quantity</th> <td>    0.0170</td> <td>    0.011</td> <td>    1.597</td> <td> 0.110</td> <td>   -0.004</td> <td>    0.038</td>\n",
       "</tr>\n",
       "<tr>\n",
       "  <th>sigma2</th>               <td>   12.9866</td> <td>    7.543</td> <td>    1.722</td> <td> 0.085</td> <td>   -1.797</td> <td>   27.770</td>\n",
       "</tr>\n",
       "</table>\n",
       "<table class=\"simpletable\">\n",
       "<tr>\n",
       "  <th>Ljung-Box (Q):</th>          <td>23.10</td> <th>  Jarque-Bera (JB):  </th> <td>1.01</td>\n",
       "</tr>\n",
       "<tr>\n",
       "  <th>Prob(Q):</th>                <td>0.08</td>  <th>  Prob(JB):          </th> <td>0.60</td>\n",
       "</tr>\n",
       "<tr>\n",
       "  <th>Heteroskedasticity (H):</th> <td>0.89</td>  <th>  Skew:              </th> <td>0.14</td>\n",
       "</tr>\n",
       "<tr>\n",
       "  <th>Prob(H) (two-sided):</th>    <td>0.90</td>  <th>  Kurtosis:          </th> <td>1.80</td>\n",
       "</tr>\n",
       "</table><br/><br/>Warnings:<br/>[1] Covariance matrix calculated using the outer product of gradients (complex-step)."
      ],
      "text/plain": [
       "<class 'statsmodels.iolib.summary.Summary'>\n",
       "\"\"\"\n",
       "                                SARIMAX Results                                 \n",
       "================================================================================\n",
       "Dep. Variable:                        y   No. Observations:                   28\n",
       "Model:             SARIMAX(0, 1, 0, 12)   Log Likelihood                 -43.214\n",
       "Date:                  Tue, 07 Jul 2020   AIC                             90.429\n",
       "Time:                          13:15:27   BIC                             91.974\n",
       "Sample:                      01-31-2017   HQIC                            90.508\n",
       "                           - 04-30-2019                                         \n",
       "Covariance Type:                    opg                                         \n",
       "========================================================================================\n",
       "                           coef    std err          z      P>|z|      [0.025      0.975]\n",
       "----------------------------------------------------------------------------------------\n",
       "Total order quantity     0.0170      0.011      1.597      0.110      -0.004       0.038\n",
       "sigma2                  12.9866      7.543      1.722      0.085      -1.797      27.770\n",
       "===================================================================================\n",
       "Ljung-Box (Q):                       23.10   Jarque-Bera (JB):                 1.01\n",
       "Prob(Q):                              0.08   Prob(JB):                         0.60\n",
       "Heteroskedasticity (H):               0.89   Skew:                             0.14\n",
       "Prob(H) (two-sided):                  0.90   Kurtosis:                         1.80\n",
       "===================================================================================\n",
       "\n",
       "Warnings:\n",
       "[1] Covariance matrix calculated using the outer product of gradients (complex-step).\n",
       "\"\"\""
      ]
     },
     "execution_count": 119,
     "metadata": {},
     "output_type": "execute_result"
    }
   ],
   "source": [
    "#AUTO ARIMA MODEl\n",
    "\n",
    "\n",
    "# model_auto = pm.auto_arima(group_resample[\"Duration\"].dropna(), m = 12, max_order = None, max_p = 5, max_q = 7, max_d = 2, \n",
    "#                               max_P = 4, max_Q = 4, max_D = 2, start_p = 3, trend = \"ct\", \n",
    "#                                 exogenous = group_resample[[\"Total order quantity\"]])\n",
    "\n",
    "\n",
    "\n",
    "\n",
    "# model_auto = pm.auto_arima(train[\"Duration\"], m = 12, max_p = 5, max_q = 7, max_d = 2, max_P = 5, \n",
    "#                            max_Q = 4, start_p = 1, trend = \"ct\", exogenous = train[[\"Total order quantity\"]],\n",
    "#                            information_criterion = \"aic\", d = 1, D = 1, trace = True, suppress_warnings = True, \n",
    "#                           seasonal = True)\n",
    "\n",
    "# model_auto = pm.auto_arima(group_resample[\"Duration\"], m = 12, max_p = 5, max_q = 7, max_d = 2, max_P = 5, \n",
    "#                            max_Q = 4, start_p = 1, trend = \"ct\", exogenous = group_resample[[\"Total order quantity\"]],\n",
    "#                            information_criterion = \"aic\", d = 1, trace = True, suppress_warnings = True, \n",
    "#                           seasonal = True)\n",
    "\n",
    "# model_auto = pm.auto_arima(train[\"Duration\"], exogenous = train[[\"Total order quantity\"]], d = 1,\n",
    "#                           trace = True, suppress_warnings = True, information_criterion = \"aic\", start_p = 1, \n",
    "#                            start_q = 1, scoring = \"mse\")\n",
    "\n",
    "model_auto = pm.auto_arima(train[\"Duration\"], exogenous = train[[\"Total order quantity\"]], start_p = 0, start_q = 0, \n",
    "                           start_Q = 0, max_p = 10, max_q = 10, max_Q = 10, seasonal = True, stepwise = True, \n",
    "                           suppress_warnings = True, D=1, max_D = 10, error_action = \"ignore\", approximation = False, \n",
    "                          m = 12, trace = True)\n",
    "\n",
    "#exogenous = train[[\"Total order quantity\"]], \n",
    "\n",
    "model_auto.summary()"
   ]
  },
  {
   "cell_type": "code",
   "execution_count": 86,
   "metadata": {},
   "outputs": [
    {
     "data": {
      "text/html": [
       "<div>\n",
       "<style scoped>\n",
       "    .dataframe tbody tr th:only-of-type {\n",
       "        vertical-align: middle;\n",
       "    }\n",
       "\n",
       "    .dataframe tbody tr th {\n",
       "        vertical-align: top;\n",
       "    }\n",
       "\n",
       "    .dataframe thead th {\n",
       "        text-align: right;\n",
       "    }\n",
       "</style>\n",
       "<table border=\"1\" class=\"dataframe\">\n",
       "  <thead>\n",
       "    <tr style=\"text-align: right;\">\n",
       "      <th></th>\n",
       "      <th>predict</th>\n",
       "      <th>test</th>\n",
       "    </tr>\n",
       "    <tr>\n",
       "      <th>Confirmation Start Date</th>\n",
       "      <th></th>\n",
       "      <th></th>\n",
       "    </tr>\n",
       "  </thead>\n",
       "  <tbody>\n",
       "    <tr>\n",
       "      <th>2019-05-31</th>\n",
       "      <td>14.398829</td>\n",
       "      <td>16.857143</td>\n",
       "    </tr>\n",
       "    <tr>\n",
       "      <th>2019-06-30</th>\n",
       "      <td>14.439282</td>\n",
       "      <td>15.166667</td>\n",
       "    </tr>\n",
       "    <tr>\n",
       "      <th>2019-07-31</th>\n",
       "      <td>14.479734</td>\n",
       "      <td>17.250000</td>\n",
       "    </tr>\n",
       "    <tr>\n",
       "      <th>2019-08-31</th>\n",
       "      <td>14.520187</td>\n",
       "      <td>17.222222</td>\n",
       "    </tr>\n",
       "    <tr>\n",
       "      <th>2019-09-30</th>\n",
       "      <td>14.560639</td>\n",
       "      <td>19.000000</td>\n",
       "    </tr>\n",
       "    <tr>\n",
       "      <th>2019-10-31</th>\n",
       "      <td>14.601092</td>\n",
       "      <td>10.142857</td>\n",
       "    </tr>\n",
       "    <tr>\n",
       "      <th>2019-11-30</th>\n",
       "      <td>14.641545</td>\n",
       "      <td>9.666667</td>\n",
       "    </tr>\n",
       "    <tr>\n",
       "      <th>2019-12-31</th>\n",
       "      <td>14.681997</td>\n",
       "      <td>12.000000</td>\n",
       "    </tr>\n",
       "    <tr>\n",
       "      <th>2020-01-31</th>\n",
       "      <td>14.722450</td>\n",
       "      <td>11.900000</td>\n",
       "    </tr>\n",
       "    <tr>\n",
       "      <th>2020-02-29</th>\n",
       "      <td>14.762902</td>\n",
       "      <td>16.714286</td>\n",
       "    </tr>\n",
       "    <tr>\n",
       "      <th>2020-03-31</th>\n",
       "      <td>14.803355</td>\n",
       "      <td>9.400000</td>\n",
       "    </tr>\n",
       "    <tr>\n",
       "      <th>2020-04-30</th>\n",
       "      <td>14.843808</td>\n",
       "      <td>7.607143</td>\n",
       "    </tr>\n",
       "    <tr>\n",
       "      <th>2020-05-31</th>\n",
       "      <td>14.884260</td>\n",
       "      <td>9.250000</td>\n",
       "    </tr>\n",
       "  </tbody>\n",
       "</table>\n",
       "</div>"
      ],
      "text/plain": [
       "                           predict       test\n",
       "Confirmation Start Date                      \n",
       "2019-05-31               14.398829  16.857143\n",
       "2019-06-30               14.439282  15.166667\n",
       "2019-07-31               14.479734  17.250000\n",
       "2019-08-31               14.520187  17.222222\n",
       "2019-09-30               14.560639  19.000000\n",
       "2019-10-31               14.601092  10.142857\n",
       "2019-11-30               14.641545   9.666667\n",
       "2019-12-31               14.681997  12.000000\n",
       "2020-01-31               14.722450  11.900000\n",
       "2020-02-29               14.762902  16.714286\n",
       "2020-03-31               14.803355   9.400000\n",
       "2020-04-30               14.843808   7.607143\n",
       "2020-05-31               14.884260   9.250000"
      ]
     },
     "metadata": {},
     "output_type": "display_data"
    },
    {
     "data": {
      "text/plain": [
       "<matplotlib.axes._subplots.AxesSubplot at 0x247fa110eb0>"
      ]
     },
     "metadata": {},
     "output_type": "display_data"
    },
    {
     "data": {
      "text/plain": [
       "'mean squared error: 16.781433082054335'"
      ]
     },
     "metadata": {},
     "output_type": "display_data"
    },
    {
     "data": {
      "image/png": "[encoded data removed]",
      "text/plain": [
       "<Figure size 432x288 with 1 Axes>"
      ]
     },
     "metadata": {
      "needs_background": "light"
     },
     "output_type": "display_data"
    }
   ],
   "source": [
    "# Auto Arima model forcasting check Without Exogenous variables\n",
    "\n",
    "# Without exogenous variables\n",
    "\n",
    "model_auto.fit(train[\"Duration\"])\n",
    "future_forecast = model_auto.predict(n_periods=test_size)\n",
    "future_forecast\n",
    "\n",
    "#---------------------------------------------------------------------------------------------------------------------------\n",
    "\n",
    "# Predicting without exogenous\n",
    "\n",
    "df_auto_pred = pd.DataFrame(model_auto.predict(n_periods = test_size), index = test.index)\n",
    "\n",
    "#---------------------------------------------------------------------------------------------------------------------------\n",
    "\n",
    "\n",
    "# Putting forecasted and predicted into one table, plotting it, and showing it's error\n",
    "\n",
    "df_auto_pred[\"test\"] = test[\"Duration\"]\n",
    "df_auto_pred.columns = [\"predict\", \"test\"]\n",
    "display(df_auto_pred)\n",
    "display(df_auto_pred.plot())\n",
    "error = mean_squared_error(df_auto_pred[\"predict\"], df_auto_pred[\"test\"])\n",
    "display(f\"mean squared error: {error}\")"
   ]
  },
  {
   "cell_type": "code",
   "execution_count": 118,
   "metadata": {},
   "outputs": [
    {
     "data": {
      "text/html": [
       "<div>\n",
       "<style scoped>\n",
       "    .dataframe tbody tr th:only-of-type {\n",
       "        vertical-align: middle;\n",
       "    }\n",
       "\n",
       "    .dataframe tbody tr th {\n",
       "        vertical-align: top;\n",
       "    }\n",
       "\n",
       "    .dataframe thead th {\n",
       "        text-align: right;\n",
       "    }\n",
       "</style>\n",
       "<table border=\"1\" class=\"dataframe\">\n",
       "  <thead>\n",
       "    <tr style=\"text-align: right;\">\n",
       "      <th></th>\n",
       "      <th>predict</th>\n",
       "      <th>test</th>\n",
       "    </tr>\n",
       "    <tr>\n",
       "      <th>Confirmation Start Date</th>\n",
       "      <th></th>\n",
       "      <th></th>\n",
       "    </tr>\n",
       "  </thead>\n",
       "  <tbody>\n",
       "    <tr>\n",
       "      <th>2019-05-31</th>\n",
       "      <td>12.462712</td>\n",
       "      <td>16.857143</td>\n",
       "    </tr>\n",
       "    <tr>\n",
       "      <th>2019-06-30</th>\n",
       "      <td>20.327140</td>\n",
       "      <td>15.166667</td>\n",
       "    </tr>\n",
       "    <tr>\n",
       "      <th>2019-07-31</th>\n",
       "      <td>19.325053</td>\n",
       "      <td>17.250000</td>\n",
       "    </tr>\n",
       "    <tr>\n",
       "      <th>2019-08-31</th>\n",
       "      <td>29.656138</td>\n",
       "      <td>17.222222</td>\n",
       "    </tr>\n",
       "    <tr>\n",
       "      <th>2019-09-30</th>\n",
       "      <td>29.987342</td>\n",
       "      <td>19.000000</td>\n",
       "    </tr>\n",
       "    <tr>\n",
       "      <th>2019-10-31</th>\n",
       "      <td>28.985442</td>\n",
       "      <td>10.142857</td>\n",
       "    </tr>\n",
       "    <tr>\n",
       "      <th>2019-11-30</th>\n",
       "      <td>33.899907</td>\n",
       "      <td>9.666667</td>\n",
       "    </tr>\n",
       "    <tr>\n",
       "      <th>2019-12-31</th>\n",
       "      <td>37.231140</td>\n",
       "      <td>12.000000</td>\n",
       "    </tr>\n",
       "    <tr>\n",
       "      <th>2020-01-31</th>\n",
       "      <td>37.867773</td>\n",
       "      <td>11.900000</td>\n",
       "    </tr>\n",
       "    <tr>\n",
       "      <th>2020-02-29</th>\n",
       "      <td>44.976670</td>\n",
       "      <td>16.714286</td>\n",
       "    </tr>\n",
       "    <tr>\n",
       "      <th>2020-03-31</th>\n",
       "      <td>50.974532</td>\n",
       "      <td>9.400000</td>\n",
       "    </tr>\n",
       "    <tr>\n",
       "      <th>2020-04-30</th>\n",
       "      <td>52.305799</td>\n",
       "      <td>7.607143</td>\n",
       "    </tr>\n",
       "    <tr>\n",
       "      <th>2020-05-31</th>\n",
       "      <td>55.636967</td>\n",
       "      <td>9.250000</td>\n",
       "    </tr>\n",
       "  </tbody>\n",
       "</table>\n",
       "</div>"
      ],
      "text/plain": [
       "                           predict       test\n",
       "Confirmation Start Date                      \n",
       "2019-05-31               12.462712  16.857143\n",
       "2019-06-30               20.327140  15.166667\n",
       "2019-07-31               19.325053  17.250000\n",
       "2019-08-31               29.656138  17.222222\n",
       "2019-09-30               29.987342  19.000000\n",
       "2019-10-31               28.985442  10.142857\n",
       "2019-11-30               33.899907   9.666667\n",
       "2019-12-31               37.231140  12.000000\n",
       "2020-01-31               37.867773  11.900000\n",
       "2020-02-29               44.976670  16.714286\n",
       "2020-03-31               50.974532   9.400000\n",
       "2020-04-30               52.305799   7.607143\n",
       "2020-05-31               55.636967   9.250000"
      ]
     },
     "metadata": {},
     "output_type": "display_data"
    },
    {
     "data": {
      "text/plain": [
       "<matplotlib.axes._subplots.AxesSubplot at 0x24796510310>"
      ]
     },
     "metadata": {},
     "output_type": "display_data"
    },
    {
     "data": {
      "text/plain": [
       "'mean squared error: 711.9788115639543'"
      ]
     },
     "metadata": {},
     "output_type": "display_data"
    },
    {
     "data": {
      "image/png": "[encoded data removed]",
      "text/plain": [
       "<Figure size 432x288 with 1 Axes>"
      ]
     },
     "metadata": {
      "needs_background": "light"
     },
     "output_type": "display_data"
    }
   ],
   "source": [
    "# Auto Arima model forcasting check with Exogenous variables\n",
    "\n",
    "# With exogenous variables\n",
    "\n",
    "model_auto.fit(train[\"Duration\"], exogenous = train[[\"Total order quantity\"]])\n",
    "future_forecast = model_auto.predict(n_periods=test_size, exogenous = test[[\"Total order quantity\"]])\n",
    "future_forecast\n",
    "\n",
    "#---------------------------------------------------------------------------------------------------------------------------\n",
    "\n",
    "# Predicting with exogenous\n",
    "\n",
    "\n",
    "df_auto_pred = pd.DataFrame(model_auto.predict(n_periods = test_size, exogenous = test[[\"Total order quantity\"]]), \n",
    "                                             index = test.index)\n",
    "\n",
    "#---------------------------------------------------------------------------------------------------------------------------\n",
    "\n",
    "\n",
    "# Putting forecasted and predicted into one table, plotting it, and showing it's error\n",
    "\n",
    "df_auto_pred[\"test\"] = test[\"Duration\"]\n",
    "df_auto_pred.columns = [\"predict\", \"test\"]\n",
    "display(df_auto_pred)\n",
    "display(df_auto_pred.plot())\n",
    "error = mean_squared_error(df_auto_pred[\"predict\"], df_auto_pred[\"test\"])\n",
    "display(f\"mean squared error: {error}\")"
   ]
  },
  {
   "cell_type": "code",
   "execution_count": null,
   "metadata": {},
   "outputs": [],
   "source": [
    "type(future_forecast)"
   ]
  },
  {
   "cell_type": "code",
   "execution_count": null,
   "metadata": {},
   "outputs": [],
   "source": [
    "# group_resample[\"forecast\"] = model_auto.predict(start = train_size, end = group_resample_size - 1, dynamic = True, exog = test[\"Total order quantity\"])\n",
    "# group_resample[[\"Duration\", \"forecast\"]].plot(figsize = (12, 8))\n",
    "# # group_resample[\"forecast\"].plot(figsize = (12, 8))\n",
    "# # test[\"Duration\"].plot()\n",
    "\n",
    "# a = group_resample[\"forecast\"].dropna()\n",
    "# b = test[\"Duration\"].dropna()\n",
    "# display(type(a))\n",
    "# display(type(b))\n",
    "# newDf = a.to_frame().join(b)\n",
    "# newDf = newDf.dropna()\n",
    "# display(newDf)\n",
    "# error = mean_squared_error(newDf[\"forecast\"], newDf[\"Duration\"])\n",
    "# display(f\"mean squared error: {error}\")\n"
   ]
  },
  {
   "cell_type": "code",
   "execution_count": null,
   "metadata": {},
   "outputs": [],
   "source": [
    "# Predicting with exogenous\n",
    "df_auto_pred = pd.DataFrame(model_auto.predict(n_periods = test_size, exogenous = test[[\"Total order quantity\"]]), \n",
    "                                               index = test.index)\n",
    "\n",
    "# Predicting without exogenous\n",
    "df_auto_pred = pd.DataFrame(model_auto.predict(n_periods = test_size), index = test.index)\n",
    "\n",
    "# Putting forecasted and predicted into one table, plotting it, and showing it's residual\n",
    "df_auto_pred[\"test\"] = test[\"Duration\"]\n",
    "df_auto_pred.columns = [\"predict\", \"test\"]\n",
    "display(df_auto_pred)\n",
    "display(df_auto_pred.plot())\n",
    "error = mean_squared_error(df_auto_pred[\"predict\"], df_auto_pred[\"test\"])\n",
    "display(f\"mean squared error: {error}\")"
   ]
  },
  {
   "cell_type": "code",
   "execution_count": null,
   "metadata": {},
   "outputs": [],
   "source": [
    "# future_forecast = pd.DataFrame(future_forecast, index = test.index, columns = [\"Prediction\"])\n",
    "# # pd.concat([test, future_forecast], axis = 1)\n",
    "# # future_forecast\n",
    "# newDf = test[\"Duration\"].to_frame().join(future_forecast)\n",
    "# newDf = newDf.dropna()\n",
    "# display(newDf)\n",
    "# display(newDf.plot())"
   ]
  },
  {
   "cell_type": "code",
   "execution_count": null,
   "metadata": {},
   "outputs": [],
   "source": [
    "# (mean_squared_error(newDf[\"Duration\"], newDf[\"Prediction\"]))"
   ]
  },
  {
   "cell_type": "markdown",
   "metadata": {},
   "source": [
    "# Break of Code"
   ]
  },
  {
   "cell_type": "code",
   "execution_count": null,
   "metadata": {},
   "outputs": [],
   "source": [
    "residuals = results.resid\n",
    "residuals.describe()"
   ]
  },
  {
   "cell_type": "code",
   "execution_count": 100,
   "metadata": {},
   "outputs": [
    {
     "data": {
      "text/plain": [
       "pandas.core.series.Series"
      ]
     },
     "metadata": {},
     "output_type": "display_data"
    },
    {
     "data": {
      "text/plain": [
       "pandas.core.series.Series"
      ]
     },
     "metadata": {},
     "output_type": "display_data"
    },
    {
     "data": {
      "text/html": [
       "<div>\n",
       "<style scoped>\n",
       "    .dataframe tbody tr th:only-of-type {\n",
       "        vertical-align: middle;\n",
       "    }\n",
       "\n",
       "    .dataframe tbody tr th {\n",
       "        vertical-align: top;\n",
       "    }\n",
       "\n",
       "    .dataframe thead th {\n",
       "        text-align: right;\n",
       "    }\n",
       "</style>\n",
       "<table border=\"1\" class=\"dataframe\">\n",
       "  <thead>\n",
       "    <tr style=\"text-align: right;\">\n",
       "      <th></th>\n",
       "      <th>forecast</th>\n",
       "      <th>Duration</th>\n",
       "    </tr>\n",
       "    <tr>\n",
       "      <th>Confirmation Start Date</th>\n",
       "      <th></th>\n",
       "      <th></th>\n",
       "    </tr>\n",
       "  </thead>\n",
       "  <tbody>\n",
       "    <tr>\n",
       "      <th>2019-05-31</th>\n",
       "      <td>11.700406</td>\n",
       "      <td>16.857143</td>\n",
       "    </tr>\n",
       "    <tr>\n",
       "      <th>2019-06-30</th>\n",
       "      <td>14.964814</td>\n",
       "      <td>15.166667</td>\n",
       "    </tr>\n",
       "    <tr>\n",
       "      <th>2019-07-31</th>\n",
       "      <td>11.237960</td>\n",
       "      <td>17.250000</td>\n",
       "    </tr>\n",
       "    <tr>\n",
       "      <th>2019-08-31</th>\n",
       "      <td>16.807719</td>\n",
       "      <td>17.222222</td>\n",
       "    </tr>\n",
       "    <tr>\n",
       "      <th>2019-09-30</th>\n",
       "      <td>13.889807</td>\n",
       "      <td>19.000000</td>\n",
       "    </tr>\n",
       "    <tr>\n",
       "      <th>2019-10-31</th>\n",
       "      <td>12.534157</td>\n",
       "      <td>10.142857</td>\n",
       "    </tr>\n",
       "    <tr>\n",
       "      <th>2019-11-30</th>\n",
       "      <td>13.358507</td>\n",
       "      <td>9.666667</td>\n",
       "    </tr>\n",
       "    <tr>\n",
       "      <th>2019-12-31</th>\n",
       "      <td>14.094918</td>\n",
       "      <td>12.000000</td>\n",
       "    </tr>\n",
       "    <tr>\n",
       "      <th>2020-01-31</th>\n",
       "      <td>10.858535</td>\n",
       "      <td>11.900000</td>\n",
       "    </tr>\n",
       "    <tr>\n",
       "      <th>2020-02-29</th>\n",
       "      <td>12.083763</td>\n",
       "      <td>16.714286</td>\n",
       "    </tr>\n",
       "    <tr>\n",
       "      <th>2020-03-31</th>\n",
       "      <td>13.487356</td>\n",
       "      <td>9.400000</td>\n",
       "    </tr>\n",
       "    <tr>\n",
       "      <th>2020-04-30</th>\n",
       "      <td>13.631616</td>\n",
       "      <td>7.607143</td>\n",
       "    </tr>\n",
       "    <tr>\n",
       "      <th>2020-05-31</th>\n",
       "      <td>12.427118</td>\n",
       "      <td>9.250000</td>\n",
       "    </tr>\n",
       "  </tbody>\n",
       "</table>\n",
       "</div>"
      ],
      "text/plain": [
       "                          forecast   Duration\n",
       "Confirmation Start Date                      \n",
       "2019-05-31               11.700406  16.857143\n",
       "2019-06-30               14.964814  15.166667\n",
       "2019-07-31               11.237960  17.250000\n",
       "2019-08-31               16.807719  17.222222\n",
       "2019-09-30               13.889807  19.000000\n",
       "2019-10-31               12.534157  10.142857\n",
       "2019-11-30               13.358507   9.666667\n",
       "2019-12-31               14.094918  12.000000\n",
       "2020-01-31               10.858535  11.900000\n",
       "2020-02-29               12.083763  16.714286\n",
       "2020-03-31               13.487356   9.400000\n",
       "2020-04-30               13.631616   7.607143\n",
       "2020-05-31               12.427118   9.250000"
      ]
     },
     "metadata": {},
     "output_type": "display_data"
    },
    {
     "data": {
      "text/plain": [
       "'mean squared error: 15.263160610316373'"
      ]
     },
     "metadata": {},
     "output_type": "display_data"
    },
    {
     "data": {
      "image/png": "[encoded data removed]",
      "text/plain": [
       "<Figure size 864x576 with 1 Axes>"
      ]
     },
     "metadata": {
      "needs_background": "light"
     },
     "output_type": "display_data"
    }
   ],
   "source": [
    "group_resample[\"forecast\"] = results.predict(start = train_size, end = group_resample_size - 1, dynamic = True, exog = test[\"Total order quantity\"])\n",
    "group_resample[[\"Duration\", \"forecast\"]].plot(figsize = (12, 8))\n",
    "# group_resample[\"forecast\"].plot(figsize = (12, 8))\n",
    "# test[\"Duration\"].plot()\n",
    "\n",
    "a = group_resample[\"forecast\"].dropna()\n",
    "b = test[\"Duration\"].dropna()\n",
    "display(type(a))\n",
    "display(type(b))\n",
    "newDf = a.to_frame().join(b)\n",
    "newDf = newDf.dropna()\n",
    "display(newDf)\n",
    "error = mean_squared_error(newDf[\"forecast\"], newDf[\"Duration\"])\n",
    "display(f\"mean squared error: {error}\")\n"
   ]
  },
  {
   "cell_type": "code",
   "execution_count": null,
   "metadata": {},
   "outputs": [],
   "source": [
    "test"
   ]
  },
  {
   "cell_type": "code",
   "execution_count": null,
   "metadata": {},
   "outputs": [],
   "source": []
  },
  {
   "cell_type": "code",
   "execution_count": null,
   "metadata": {},
   "outputs": [],
   "source": []
  },
  {
   "cell_type": "code",
   "execution_count": null,
   "metadata": {},
   "outputs": [],
   "source": []
  },
  {
   "cell_type": "code",
   "execution_count": null,
   "metadata": {},
   "outputs": [],
   "source": [
    "#end of indian video"
   ]
  },
  {
   "cell_type": "code",
   "execution_count": null,
   "metadata": {},
   "outputs": [],
   "source": [
    "group_resample[\"Dif_1\"] = group_resample[\"Duration\"] - group_resample[\"Duration\"].shift(1)\n",
    "group_resample[\"Dif_1\"].plot()\n",
    "adf_check(group_resample[\"Dif_1\"].dropna())"
   ]
  },
  {
   "cell_type": "code",
   "execution_count": null,
   "metadata": {},
   "outputs": [],
   "source": [
    "group_resample[\"Dif_Season\"] = group_resample[\"Duration\"] - group_resample[\"Duration\"].shift(12)\n",
    "group_resample[\"Dif_Season\"].plot(rot = 80, figsize=(14, 8))\n",
    "adf_check(group_resample[\"Dif_Season\"].dropna())"
   ]
  },
  {
   "cell_type": "code",
   "execution_count": null,
   "metadata": {},
   "outputs": [],
   "source": [
    "group_resample[\"Dif_Season_1\"] = group_resample[\"Dif_1\"] - group_resample[\"Dif_1\"].shift(12)\n",
    "group_resample[\"Dif_Season_1\"].plot()\n",
    "adf_check(group_resample[\"Dif_Season_1\"].dropna())"
   ]
  },
  {
   "cell_type": "code",
   "execution_count": null,
   "metadata": {},
   "outputs": [],
   "source": [
    "group_resample[\"Dif_mean\"] = group_resample[\"Duration\"] - group_resample[\"Duration\"].rolling(12).mean()\n",
    "adf_check(group_resample[\"Dif_mean\"].dropna())"
   ]
  },
  {
   "cell_type": "code",
   "execution_count": null,
   "metadata": {},
   "outputs": [],
   "source": [
    "group_resample"
   ]
  },
  {
   "cell_type": "code",
   "execution_count": null,
   "metadata": {},
   "outputs": [],
   "source": [
    "group_resample[\"Dif_Season_1\"]"
   ]
  },
  {
   "cell_type": "code",
   "execution_count": null,
   "metadata": {},
   "outputs": [],
   "source": [
    "decomp = sm.tsa.seasonal_decompose(group_resample[\"Duration\"], freq = 23)\n",
    "fig = decomp.plot()\n",
    "fig.set_size_inches(15, 15)"
   ]
  },
  {
   "cell_type": "code",
   "execution_count": null,
   "metadata": {},
   "outputs": [],
   "source": [
    "group_resample[\"Dif_Season_1\"].dropna().size"
   ]
  },
  {
   "cell_type": "code",
   "execution_count": null,
   "metadata": {},
   "outputs": [],
   "source": [
    "from statsmodels.graphics.tsaplots import plot_acf, plot_pacf\n",
    "\n",
    "fig, ax = plt.subplots(2, 1, figsize=(20, 15))\n",
    "fig = sm.graphics.tsa.plot_acf(group_resample.Duration.dropna(), lags = 40, ax=ax[0])\n",
    "\n",
    "fig = sm.graphics.tsa.plot_pacf(group_resample.Duration.dropna(), lags = 30, ax=ax[1])\n",
    "plt.show()"
   ]
  },
  {
   "cell_type": "code",
   "execution_count": null,
   "metadata": {},
   "outputs": [],
   "source": [
    "model = sm.tsa.statespace.SARIMAX(train[\"Duration\"], order = (2, 1, 2), seasonal_order = (2, 1, 2, 12))\n",
    "model_result = model.fit()\n",
    "print(model_result.summary())"
   ]
  },
  {
   "cell_type": "code",
   "execution_count": null,
   "metadata": {},
   "outputs": [],
   "source": [
    "model_resid = resid.plot(rot = 80)\n",
    "# res = model_result.resid\n",
    "# fig, ax = plt.subplots(2, 1, figsize=(15, 8))\n",
    "# fig = sm.graphics.tsa.plot_acf(res, lags = 50, ax = ax[0])\n",
    "# fig = sm.graphics.tsa.plot_pacf(res, lags = 50, ax = ax[1])\n",
    "# plt.show()"
   ]
  },
  {
   "cell_type": "code",
   "execution_count": null,
   "metadata": {},
   "outputs": [],
   "source": [
    "from pandas.tseries.offsets import DateOffset\n",
    "forecast_dates = [group_resample.index[-1] + DateOffset(months = x) for x in range(1, 24)]\n",
    "df_future = pd.DataFrame(index = forecast_dates, columns = group_resample.columns)\n",
    "df_final = pd.concat([group_resample, df_future])"
   ]
  },
  {
   "cell_type": "code",
   "execution_count": null,
   "metadata": {},
   "outputs": [],
   "source": [
    "df_final[\"Forecast\"] = model_result.predict(start = 40, end = 50, alpha = 0.5)\n",
    "df_final[[\"Duration\", \"Forecast\"]].plot(figsize=(12,8))"
   ]
  },
  {
   "cell_type": "markdown",
   "metadata": {},
   "source": [
    "# END OF WORKBOOK ABHI GAVE ME"
   ]
  },
  {
   "cell_type": "code",
   "execution_count": null,
   "metadata": {},
   "outputs": [],
   "source": [
    "from statsmodels.graphics.tsaplots import plot_acf, plot_pacf\n",
    "\n",
    "fig, ax = plt.subplots(2, 1, figsize=(20, 10))\n",
    "fig = sm.graphics.tsa.plot_acf(group.Duration.diff().dropna(), lags = 50, ax=ax[0])\n",
    "\n",
    "fig = sm.graphics.tsa.plot_pacf(group.Duration.diff().dropna(), lags = 50, ax=ax[1])\n",
    "plt.show()"
   ]
  },
  {
   "cell_type": "code",
   "execution_count": null,
   "metadata": {},
   "outputs": [],
   "source": [
    "# p = 11 or 12\n",
    "# d = 1\n",
    "\n",
    "resDiff = sm.tsa.arma_order_select_ic(train, max_ar = 13, max_ma = 7, ic=\"aic\", trend = \"c\")\n",
    "print('ARMA(p,q) =', resDiff['aic_min_order'],'is the best.')\n",
    "# 5, 7"
   ]
  },
  {
   "cell_type": "code",
   "execution_count": null,
   "metadata": {},
   "outputs": [],
   "source": []
  },
  {
   "cell_type": "code",
   "execution_count": null,
   "metadata": {},
   "outputs": [],
   "source": [
    "# ARIMA MODEL\n",
    "arima = sm.tsa.statespace.SARIMAX(train, order = (2, 1, 2), seasonal_order=(0, 0, 0, 0), enforce_stationarity = False, enforce_invertibility = False,).fit()\n",
    "arima.summary()"
   ]
  },
  {
   "cell_type": "code",
   "execution_count": null,
   "metadata": {},
   "outputs": [],
   "source": [
    "## SARIMA MODEL\n",
    "# sarima = sm.tsa.statespace.SARIMAX(train, order = (12, 1, 7), seasonal_order=(1, 1, 1, 4), enforce_stationarity = False, enforce_invertibility = False).fit()\n",
    "# sarima.summary()\n",
    "#12, 1, 7"
   ]
  },
  {
   "cell_type": "code",
   "execution_count": null,
   "metadata": {
    "scrolled": true
   },
   "outputs": [],
   "source": [
    "res = sarima.resid\n",
    "fig, ax = plt.subplots(2, 1, figsize=(15, 8))\n",
    "fig = sm.graphics.tsa.plot_acf(res, lags = 50, ax = ax[0])\n",
    "fig = sm.graphics.tsa.plot_pacf(res, lags = 50, ax = ax[1])\n",
    "plt.show()"
   ]
  },
  {
   "cell_type": "code",
   "execution_count": null,
   "metadata": {},
   "outputs": [],
   "source": []
  },
  {
   "cell_type": "code",
   "execution_count": null,
   "metadata": {},
   "outputs": [],
   "source": [
    "\n",
    "#pred = arima.forecast(steps = 10)\n",
    "pred = arima.predict(test_start, test_end).resample(\"BM\").mean()\n",
    "#print(f\"arima model MSE\".format(mean_squared_error(test, pred)))\n",
    "pred"
   ]
  },
  {
   "cell_type": "code",
   "execution_count": null,
   "metadata": {},
   "outputs": [],
   "source": [
    "test.shape\n",
    "# pd.DataFrame({\"test\": test[\"Duration\"], \"pred\": pred})\n",
    "# plt.show()"
   ]
  },
  {
   "cell_type": "code",
   "execution_count": null,
   "metadata": {},
   "outputs": [],
   "source": [
    "train.plot()\n",
    "test.plot()\n",
    "pred.plot()"
   ]
  },
  {
   "cell_type": "code",
   "execution_count": null,
   "metadata": {},
   "outputs": [],
   "source": []
  },
  {
   "cell_type": "code",
   "execution_count": null,
   "metadata": {},
   "outputs": [],
   "source": [
    "import itertools\n",
    "p = d = q = range(0, 2)\n",
    "pdq = list(itertools.product(p, d, q))\n",
    "seasonal_pdq = [(x[0], x[1], x[2], 12) for x in list(itertools.product(p, d, q))]\n",
    "for param in pdq:\n",
    "    for param_seasonal in seasonal_pdq:\n",
    "        try:\n",
    "            mod = sm.tsa.statespace.SARIMAX(group, order = param, seasonal_order = param_seasonal, enforce_stationarity = False, enforce_invertibility=False)\n",
    "            results = mod.fit()\n",
    "            print(\"ARIMA{}x{}12 - AIC:{}\".format(param, param_seasonal, results.aic))\n",
    "        except:\n",
    "            continue"
   ]
  },
  {
   "cell_type": "code",
   "execution_count": null,
   "metadata": {},
   "outputs": [],
   "source": [
    "mod = sm.tsa.statespace.SARIMAX(group, order = (1, 1, 1), seasonal_order = (1, 1, 1, 12), enforce_stationarity=False, enforce_invertibility=False)\n",
    "results = mod.fit()\n",
    "print(results.summary().tables[1])"
   ]
  },
  {
   "cell_type": "code",
   "execution_count": null,
   "metadata": {},
   "outputs": [],
   "source": []
  },
  {
   "cell_type": "code",
   "execution_count": null,
   "metadata": {},
   "outputs": [],
   "source": []
  },
  {
   "cell_type": "code",
   "execution_count": null,
   "metadata": {},
   "outputs": [],
   "source": []
  },
  {
   "cell_type": "code",
   "execution_count": null,
   "metadata": {},
   "outputs": [],
   "source": [
    "res = sm.tsa.adfuller(group[\"Duration\"], regression = \"ct\")\n",
    "print(res[1])\n",
    "# test_result = adfuller(group[\"Duration\"])\n",
    "# test_result"
   ]
  },
  {
   "cell_type": "code",
   "execution_count": null,
   "metadata": {},
   "outputs": [],
   "source": [
    "# group[\"Seasonal Difference\"] = group[\"Duration\"] - group[\"Duration\"].shift(12)\n",
    "# group.dropna()\n",
    "\n",
    "group_diff = group.diff(periods= 12)\n",
    "#integrated of order 1\n",
    "\n",
    "group_diff.dropna()"
   ]
  },
  {
   "cell_type": "code",
   "execution_count": null,
   "metadata": {},
   "outputs": [],
   "source": [
    "group_diff.plot(figsize=(30, 10))"
   ]
  },
  {
   "cell_type": "code",
   "execution_count": null,
   "metadata": {},
   "outputs": [],
   "source": [
    "from statsmodels.graphics.tsaplots import plot_acf, plot_pacf\n",
    "\n",
    "plot_acf(group)\n",
    "plot_pacf(group)"
   ]
  },
  {
   "cell_type": "code",
   "execution_count": null,
   "metadata": {},
   "outputs": [],
   "source": [
    "#from statsmodels.graphics.tsaplots import plot_acf, plot_pacf\n",
    "\n",
    "fig, ax = plt.subplots(2, 1, figsize=(20, 10))\n",
    "fig = sm.graphics.tsa.plot_acf(group[\"Duration\"], lags = 50, ax=ax[0])\n",
    "\n",
    "fig = sm.graphics.tsa.plot_pacf(group[\"Duration\"], lags = 50, ax=ax[1])\n",
    "plt.show()"
   ]
  },
  {
   "cell_type": "code",
   "execution_count": null,
   "metadata": {},
   "outputs": [],
   "source": [
    "from statsmodels.tsa.arima_model import ARIMA\n",
    "model = ARIMA(group[\"Duration\"], order = (1, 1, 1))\n",
    "model_fit = model.fit()"
   ]
  },
  {
   "cell_type": "code",
   "execution_count": null,
   "metadata": {},
   "outputs": [],
   "source": [
    "model_fit.summary()"
   ]
  },
  {
   "cell_type": "code",
   "execution_count": null,
   "metadata": {},
   "outputs": [],
   "source": [
    "model = sm.tsa.statespace.SARIMAX(group[\"Duration\"], order = (1, 1, 1), seasonal_order = (1, 1, 1, 12))\n",
    "results = model.fit()"
   ]
  },
  {
   "cell_type": "code",
   "execution_count": null,
   "metadata": {},
   "outputs": [],
   "source": [
    "group[\"forecast\"] = results.predict(start = 90, end = 103, dynamic = True)\n",
    "group[[\"Duration\", \"forecast\"]].plot(figsize=(12, 8))"
   ]
  },
  {
   "cell_type": "code",
   "execution_count": null,
   "metadata": {},
   "outputs": [],
   "source": [
    "def adfuller_test(duration):\n",
    "    result = adfuller(duration)\n",
    "    labels = [\"ADF test statistic\", \"Pvalue\", \"#lags used\", \"Number of observations used\"]\n",
    "    for value, label in zip(result, labels):\n",
    "        print (label + \": \" + str(value))\n",
    "    if result[1] <= 0.5:\n",
    "        print(\"reject null\")\n",
    "    else:\n",
    "        print(\"fail to reject null\")\n",
    "        \n",
    "test = adfuller_test(group[\"Duration\"])"
   ]
  },
  {
   "cell_type": "code",
   "execution_count": null,
   "metadata": {},
   "outputs": [],
   "source": [
    "time_series = group[\"Duration\"]\n",
    "time_series.rolling(12).mean().plot(label = \"mean\")\n",
    "time_series.rolling(12).std().plot(label = \"std\")\n",
    "time_series.plot(label = \"actual\")\n",
    "plt.legend()"
   ]
  },
  {
   "cell_type": "code",
   "execution_count": null,
   "metadata": {},
   "outputs": [],
   "source": [
    "from statsmodels.tsa.seasonal import seasonal_decompose\n",
    "decomp = seasonal_decompose(x = time_series)\n",
    "decomp.plot()"
   ]
  },
  {
   "cell_type": "code",
   "execution_count": null,
   "metadata": {},
   "outputs": [],
   "source": [
    "type(time_series)"
   ]
  },
  {
   "cell_type": "code",
   "execution_count": null,
   "metadata": {},
   "outputs": [],
   "source": []
  },
  {
   "cell_type": "code",
   "execution_count": null,
   "metadata": {},
   "outputs": [],
   "source": []
  },
  {
   "cell_type": "code",
   "execution_count": null,
   "metadata": {},
   "outputs": [],
   "source": []
  },
  {
   "cell_type": "markdown",
   "metadata": {},
   "source": [
    "# THIS IS WHERE CODE STARTS FOR GRAPHING ORDER QUANITY"
   ]
  },
  {
   "cell_type": "code",
   "execution_count": null,
   "metadata": {},
   "outputs": [],
   "source": [
    "units = [\"µL\", \"L\", \"ML\"]\n",
    "one = df.loc[df[\"MaterialCategory\"] == 1 & ((df[\"Unit\"] == \"µL\") | (df[\"Unit\"] == \"L\") | (df[\"Unit\"] == \"ML\"))]\n",
    "#one_other = df.loc[df[\"MaterialCategory\"] == 1 & ((df[\"Unit\"] == \"PC\") | (df[\"Unit\"] == \"G\"))]\n",
    "#one.to_csv(\"MaterialOne.csv\")\n",
    "#one_other"
   ]
  },
  {
   "cell_type": "code",
   "execution_count": null,
   "metadata": {},
   "outputs": [],
   "source": [
    "one.loc[one[\"Unit\"] == \"µL\", \"Total order quantity\"] = one[\"Total order quantity\"]/1000\n",
    "one.loc[one[\"Unit\"] == \"L\", \"Total order quantity\"] = one[\"Total order quantity\"] * 1000\n",
    "one[\"Unit\"] = \"ML\""
   ]
  },
  {
   "cell_type": "code",
   "execution_count": null,
   "metadata": {},
   "outputs": [],
   "source": [
    "one\n",
    "#one.to_csv(\"MaterialOne.csv\")"
   ]
  },
  {
   "cell_type": "code",
   "execution_count": null,
   "metadata": {},
   "outputs": [],
   "source": [
    "one[\"Color\"] = \"red\"\n",
    "one.loc[one[\"Total order quantity\"] > 5000, \"Color\"] = \"blue\"\n",
    "one.loc[one[\"Total order quantity\"] > 10000, \"Color\"] = \"green\"\n",
    "one.loc[one[\"Total order quantity\"] > 50000, \"Color\"] = \"magenta\"\n",
    "one.loc[one[\"Total order quantity\"] > 100000, \"Color\"] = \"pink\"\n",
    "one.loc[one[\"Total order quantity\"] > 500000, \"Color\"] = \"cyan\"\n",
    "one.loc[one[\"Total order quantity\"] > 750000, \"Color\"] = \"yellow\"\n",
    "one.loc[one[\"Total order quantity\"] > 1000000, \"Color\"] = \"black\"\n",
    "\n",
    "# one.loc[one[\"Unit\"] == \"PC\", \"Color\"] = \"purple\"\n",
    "# one.loc[one[\"Unit\"] == \"G\", \"Color\"] = \"orange\""
   ]
  },
  {
   "cell_type": "code",
   "execution_count": null,
   "metadata": {},
   "outputs": [],
   "source": [
    "one"
   ]
  },
  {
   "cell_type": "code",
   "execution_count": null,
   "metadata": {},
   "outputs": [],
   "source": [
    "one.set_index(\"Confirmation Start Date\", inplace = True)\n",
    "one"
   ]
  },
  {
   "cell_type": "code",
   "execution_count": null,
   "metadata": {},
   "outputs": [],
   "source": [
    "#one[\"Total order quantity\"].resample(\"M\").mean().plot(color = \"blue\")"
   ]
  },
  {
   "cell_type": "code",
   "execution_count": null,
   "metadata": {},
   "outputs": [],
   "source": [
    "#one.plot(title = \"Material 1\", figsize = (20, 20), kind = \"scatter\",  x = \"Confirmation Start Date\", y = \"Duration\", color = one[\"Color\"], grid = True, legend = True)"
   ]
  },
  {
   "cell_type": "code",
   "execution_count": null,
   "metadata": {},
   "outputs": [],
   "source": [
    "black = one.loc[one[\"Color\"] == \"black\"]\n",
    "green = one.loc[one[\"Color\"] == \"green\"]\n",
    "blue = one.loc[one[\"Color\"] == \"blue\"]\n",
    "red = one.loc[one[\"Color\"] == \"red\"]\n",
    "magenta = one.loc[one[\"Color\"] == \"magenta\"]\n",
    "cyan = one.loc[one[\"Color\"] == \"cyan\"]\n",
    "pink = one.loc[one[\"Color\"] == \"pink\"]\n",
    "yellow = one.loc[one[\"Color\"] == \"yellow\"]\n",
    "\n",
    "# PC = one.loc[one[\"Unit\"] == \"PC\"]\n",
    "# G = one.loc[one[\"Unit\"] == \"G\"]\n",
    "# G.shape\n",
    "#black.to_csv(\"Black.csv\")"
   ]
  },
  {
   "cell_type": "code",
   "execution_count": null,
   "metadata": {},
   "outputs": [],
   "source": [
    "d = \"Duration\"\n",
    "frequency = \"BM\"\n",
    "kind_value = \"line\"\n",
    "\n",
    "red[d].resample(frequency).mean().plot(kind = kind_value, color = \"red\", label = \"under 5k\")\n",
    "blue[d].resample(frequency).mean().plot(kind = kind_value, color = \"blue\", label = \"5k-10k\")\n",
    "green[d].resample(frequency).mean().plot(kind = kind_value, color = \"green\", label = \"10k-50k\")\n",
    "magenta[d].resample(frequency).mean().plot(kind = kind_value, color = \"magenta\", label = \"50k-100k\")\n",
    "pink[d].resample(frequency).mean().plot(kind = kind_value, color = \"pink\", label = \"100k-500k\")\n",
    "cyan[d].resample(frequency).mean().plot(kind = kind_value, color = \"cyan\", label = \"500k-750k\")\n",
    "yellow[d].resample(frequency).mean().plot(kind = kind_value, color = \"yellow\", label = \"750k-1M\")\n",
    "black[d].resample(frequency).mean().plot(kind = kind_value, color = \"black\", figsize=(20,10), label = \"Over 1M\")\n",
    "\n",
    "#PC[d].resample(\"Q\").mean().plot(kind = kind_value, color = \"purple\", label = \"PC\")\n",
    "#G[d].resample(\"M\").mean().plot(kind = kind_value, color = \"orange\", label = \"G\")\n",
    "\n",
    "#one[\"Order\"].resample(frequency).count().plot(kind = kind_value, color = \"black\", label = \"Order Count\")\n",
    "\n",
    "plt.title(\"Material Category 1 - Duration vs Confirmation Start every \" + frequency + \" - most units are in ML\")\n",
    "plt.legend()\n",
    "plt.ylabel(\"Duration in Days\")\n",
    "plt.grid(True)\n",
    "plt.savefig(\"Material Category and Order Quanity break down.png\")"
   ]
  },
  {
   "cell_type": "markdown",
   "metadata": {},
   "source": [
    "# WHERE CODE ENDS FOR GRAPHING ALL ORDER QUANTITIES"
   ]
  },
  {
   "cell_type": "code",
   "execution_count": null,
   "metadata": {},
   "outputs": [],
   "source": [
    "# Being able to graph all the Material Categories using a for loop and saving them as png\n",
    "for i in range(1, df.MaterialCategory.nunique() + 1):\n",
    "    graph = df.loc[df[\"MaterialCategory\"] == i]\n",
    "    image_name = f\"MaterialCategory {i} - Duration vs Confirmation Start Date\"\n",
    "    graph.plot(title = image_name, figsize = (30, 20), kind = \"scatter\",  x = \"Confirmation Start Date\", y = \"Duration\", color = \"blue\", grid = True, legend = True, xscale = 40)\n",
    "#     plt.title(f\"MaterialCategory: {i} - Duration vs Confirmation Start Date\")\n",
    "    plt.savefig(image_name + \".png\")"
   ]
  },
  {
   "cell_type": "code",
   "execution_count": null,
   "metadata": {},
   "outputs": [],
   "source": [
    "df"
   ]
  },
  {
   "cell_type": "code",
   "execution_count": null,
   "metadata": {},
   "outputs": [],
   "source": [
    "#path = \"C/Users/hersh/Jupyter Notebook proejcts new/Mareana_Data/Mareana Data/Group graphs\"\n",
    "#my_path = os.path.abspath(__file__)\n",
    "for i in range(100, 100 + 2 ): #+ df.Group.nunique()\n",
    "    graph = df.loc[df[\"Group\"] == i]\n",
    "    \n",
    "    total_number_of_graphs = 0 \n",
    "    \n",
    "    PC = graph.loc[graph[\"Unit\"] == \"PC\"]\n",
    "    PC_resample = PC.set_index(\"Confirmation Start Date\")\n",
    "    PC_a, PC_b = PC.shape\n",
    "    if PC_a > 0:\n",
    "        total_number_of_graphs += 1\n",
    "        \n",
    "    fluid = graph.loc[(graph[\"Unit\"] == \"µL\") | (graph[\"Unit\"] == \"L\") | (graph[\"Unit\"] == \"ML\")]\n",
    "    fluid_resample = fluid.set_index(\"Confirmation Start Date\")\n",
    "    fluid_a, fluid_b = fluid.shape\n",
    "    if fluid_a > 0:\n",
    "        total_number_of_graphs += 1\n",
    "    \n",
    "    mass = graph.loc[(graph[\"Unit\"] == \"G\") | graph[\"Unit\"] == \"µg\"]\n",
    "    mass_resample = mass.set_index(\"Confirmation Start Date\")\n",
    "    mass_a, mass_b = mass.shape\n",
    "    if mass_a > 0:\n",
    "        total_number_of_graphs += 1\n",
    "    #print(total_number_of_graphs)\n",
    "    \n",
    "    \n",
    "\n",
    "#     plt.figure()\n",
    "#     plt.subplot(1, 2, 1)\n",
    "#     plt.plot(graph[\"Confirmation Start Date\"], graph[\"Duration\"], \"ro\")\n",
    "#     plt.subplot(1, 2, 2)\n",
    "#     plt.plot(PC[\"Confirmation Start Date\"], PC[\"Duration\"], \"bo\")\n",
    "    \n",
    "    image_name = f\"Group {i} - Duration vs Confirmation Start Date\"\n",
    "    fig, axes = plt.subplots(3, 1)\n",
    "    fig.set_figheight(20)\n",
    "    fig.set_figwidth(20)\n",
    "    fig.suptitle(image_name)\n",
    "#     plt.set_ylabel(\"Duration\")\n",
    "#     plt.set_xlabel(\"Confirmation Start Date\")\n",
    "# red[d].resample(frequency).mean().plot(kind = kind_value, color = \"red\", label = \"under 5k\")\n",
    "\n",
    "#     axes[0] = PC_resample[\"Duration\"].resample(\"M\").mean().plot()#color = \"red\", label = \"PC\")\n",
    "#     axes[1] = fluid_resample[\"Duration\"].resample(\"M\").mean().plot(color = \"green\", label = \"fluid\")\n",
    "#     axes[2] = mass_resample[\"Duration\"].resample(\"M\").mean().plot(color = \"blue\", label = \"mass\")\n",
    "    \n",
    "    axes[0].plot(fluid[\"Confirmation Start Date\"], fluid[\"Duration\"], \"ro\", label = \"fluid µL, ML, L\")\n",
    "    axes[1].plot(PC[\"Confirmation Start Date\"], PC[\"Duration\"], \"bo\", label = \"PC\")\n",
    "    axes[2].plot(mass[\"Confirmation Start Date\"], mass[\"Duration\"], \"go\", label = \"mass µg, G\")\n",
    "    fig.legend()\n",
    "    \n",
    "    fig.savefig(\"Segregated Groups/\" +  image_name + \".png\")\n",
    "    axes[0].grid()\n",
    "    axes[1].grid()\n",
    "    axes[2].grid()\n",
    "    \n",
    "    ylabel = \"Duration in Days\"\n",
    "    axes[0].set_ylabel(ylabel)\n",
    "    axes[1].set_ylabel(ylabel)\n",
    "    axes[2].set_ylabel(ylabel)\n",
    "    \n",
    "    xlabel = \"Confirmation Start Date\"\n",
    "    axes[0].set_xlabel(xlabel)\n",
    "    axes[1].set_xlabel(xlabel)\n",
    "    axes[2].set_xlabel(xlabel)\n",
    "\n",
    "    #plt.savefig(\"Group graphs/\" + image_name + \".png\")\n",
    "    \n",
    "    \n",
    "\n",
    "    #graph.plot(title = image_name, figsize = (30, 20), kind = \"scatter\",  x = \"Confirmation Start Date\", y = \"Duration\", color = \"blue\", grid = True, legend = True)\n",
    "    #ax = plt.gca()\n",
    "    #ax.set_ylim([-100, 800])\n",
    "    #ax.axes.set_xscale(20, \"linear\")\n",
    "    #     plt.title(f\"MaterialCategory: {i} - Duration vs Confirmation Start Date\")\n",
    "    "
   ]
  },
  {
   "cell_type": "code",
   "execution_count": null,
   "metadata": {},
   "outputs": [],
   "source": [
    "#path = \"C/Users/hersh/Jupyter Notebook proejcts new/Mareana_Data/Mareana Data/Group graphs\"\n",
    "#my_path = os.path.abspath(__file__)\n",
    "for i in range(1, 1 + df[\"MaterialCategory\"].nunique()): #+ df.Group.nunique()\n",
    "    graph = df.loc[df[\"MaterialCategory\"] == i]\n",
    "    \n",
    "    total_number_of_graphs = 0 \n",
    "    \n",
    "    PC = graph.loc[graph[\"Unit\"] == \"PC\"]\n",
    "    PC_resample = PC.set_index(\"Confirmation Start Date\")\n",
    "#     PC_a, PC_b = PC.shape\n",
    "#     if PC_a > 0:\n",
    "#         total_number_of_graphs += 1\n",
    "        \n",
    "    fluid = graph.loc[(graph[\"Unit\"] == \"µL\") | (graph[\"Unit\"] == \"L\") | (graph[\"Unit\"] == \"ML\")]\n",
    "    fluid_resample = fluid.set_index(\"Confirmation Start Date\")\n",
    "    fluid.loc[fluid[\"Unit\"] == \"µL\", \"Total order quantity\"] = fluid[\"Total order quantity\"]/1000\n",
    "    fluid.loc[fluid[\"Unit\"] == \"L\", \"Total order quantity\"] = fluid[\"Total order quantity\"] * 1000\n",
    "    #one[\"Unit\"] = \"ML\"\n",
    "#     fluid_a, fluid_b = fluid.shape\n",
    "#     if fluid_a > 0:\n",
    "#         total_number_of_graphs += 1\n",
    "    \n",
    "    mass = graph.loc[(graph[\"Unit\"] == \"G\") | graph[\"Unit\"] == \"µg\"]\n",
    "    mass.loc[mass[\"Unit\"] == \"G\", \"Total order quantity\"] = mass[\"Total order quantity\"] * 1000000\n",
    "    mass_resample = mass.set_index(\"Confirmation Start Date\")\n",
    "#     mass_a, mass_b = mass.shape\n",
    "#     if mass_a > 0:\n",
    "#         total_number_of_graphs += 1\n",
    "    #print(total_number_of_graphs)\n",
    "    \n",
    "    \n",
    "\n",
    "#     plt.figure()\n",
    "#     plt.subplot(1, 2, 1)\n",
    "#     plt.plot(graph[\"Confirmation Start Date\"], graph[\"Duration\"], \"ro\")\n",
    "#     plt.subplot(1, 2, 2)\n",
    "#     plt.plot(PC[\"Confirmation Start Date\"], PC[\"Duration\"], \"bo\")\n",
    "    \n",
    "    image_name = f\"MaterialCategory {i} - Duration vs Order Quantity\"\n",
    "    fig, axes = plt.subplots(3, 1)\n",
    "    fig.set_figheight(20)\n",
    "    fig.set_figwidth(20)\n",
    "    fig.suptitle(image_name)\n",
    "#     plt.set_ylabel(\"Duration\")\n",
    "#     plt.set_xlabel(\"Confirmation Start Date\")\n",
    "# red[d].resample(frequency).mean().plot(kind = kind_value, color = \"red\", label = \"under 5k\")\n",
    "\n",
    "#     axes[0] = PC_resample[\"Duration\"].resample(\"M\").mean().plot()#color = \"red\", label = \"PC\")\n",
    "#     axes[1] = fluid_resample[\"Duration\"].resample(\"M\").mean().plot(color = \"green\", label = \"fluid\")\n",
    "#     axes[2] = mass_resample[\"Duration\"].resample(\"M\").mean().plot(color = \"blue\", label = \"mass\")\n",
    "    \n",
    "    axes[0].plot(fluid[\"Total order quantity\"], fluid[\"Duration\"], \"ro\", label = \"fluid ML\")\n",
    "    axes[1].plot(PC[\"Total order quantity\"], PC[\"Duration\"], \"bo\", label = \"PC\")\n",
    "    axes[2].plot(mass[\"Total order quantity\"], mass[\"Duration\"], \"go\", label = \"mass µg\")\n",
    "    fig.legend()\n",
    "    \n",
    "    #fig.savefig(\"Segregated Groups/\" +  image_name + \".png\")\n",
    "    axes[0].grid()\n",
    "    axes[1].grid()\n",
    "    axes[2].grid()\n",
    "    \n",
    "    ylabel = \"Duration in Days\"\n",
    "    axes[0].set_ylabel(ylabel)\n",
    "    axes[1].set_ylabel(ylabel)\n",
    "    axes[2].set_ylabel(ylabel)\n",
    "    \n",
    "    xlabel = \"Total order quantity\"\n",
    "    axes[0].set_xlabel(xlabel)\n",
    "    axes[1].set_xlabel(xlabel)\n",
    "    axes[2].set_xlabel(xlabel)\n",
    "\n",
    "    plt.savefig(\"MatCat (Duration vs Order Quantity)/\" + image_name + \".png\")\n",
    "    \n",
    "    \n",
    "\n",
    "    #graph.plot(title = image_name, figsize = (30, 20), kind = \"scatter\",  x = \"Confirmation Start Date\", y = \"Duration\", color = \"blue\", grid = True, legend = True)\n",
    "    #ax = plt.gca()\n",
    "    #ax.set_ylim([-100, 800])\n",
    "    #ax.axes.set_xscale(20, \"linear\")\n",
    "    #     plt.title(f\"MaterialCategory: {i} - Duration vs Confirmation Start Date\")\n",
    "    "
   ]
  },
  {
   "cell_type": "code",
   "execution_count": null,
   "metadata": {},
   "outputs": [],
   "source": []
  },
  {
   "cell_type": "code",
   "execution_count": null,
   "metadata": {},
   "outputs": [],
   "source": []
  },
  {
   "cell_type": "code",
   "execution_count": null,
   "metadata": {},
   "outputs": [],
   "source": []
  },
  {
   "cell_type": "code",
   "execution_count": null,
   "metadata": {},
   "outputs": [],
   "source": [
    "df.info()"
   ]
  },
  {
   "cell_type": "code",
   "execution_count": null,
   "metadata": {},
   "outputs": [],
   "source": [
    "def colorFunction():\n",
    "    \n",
    "    if ((df[\"Total order quantity\"]) > 6000.0) == True:\n",
    "        green = \"green\"\n",
    "        return green\n",
    "    else:\n",
    "        pink = \"pink\"\n",
    "        return pink\n",
    "#    np.where(df[\"Total order quantity\"] > 4000, 'k')\n",
    "\n",
    "\n",
    "one = df.loc[df[\"MaterialCategory\"] == 1]\n",
    "one.plot(title = \"ajdjfdf\", figsize = (20, 10), kind = \"scatter\",  x = \"Confirmation Start Date\", y = \"Duration\", c = colorFunction(), grid = True, legend = True)"
   ]
  },
  {
   "cell_type": "code",
   "execution_count": null,
   "metadata": {},
   "outputs": [],
   "source": [
    "#path = \"C\\Users\\hersh\\Jupyter Notebook proejcts new\\Mareana_Data\\Mareana Data\\Graphs\"\n",
    "\n",
    "    \n",
    "    \n",
    "    \n",
    "#     graph = df.loc[df[\"MaterialCategory\"] == 1]\n",
    "# i = 1\n",
    "# image_name = f\"MaterialCategory {i} - Duration vs Confirmation Start Date\"\n",
    "# print(image_name)\n",
    "# graph.plot(title = image_name, figsize = (20, 10), kind = \"scatter\",  x = \"Confirmation Start Date\", y = \"Duration\", color = \"blue\", grid = True, legend = True)\n",
    "# plt.savefig(image_name + \".png\")"
   ]
  },
  {
   "cell_type": "code",
   "execution_count": null,
   "metadata": {
    "scrolled": true
   },
   "outputs": [],
   "source": [
    "df = df.drop(df.loc[df[\"Duration\"] < 0].index)\n",
    "df"
   ]
  },
  {
   "cell_type": "code",
   "execution_count": null,
   "metadata": {},
   "outputs": [],
   "source": [
    "# print(df.loc[95][ud])\n",
    "# print(df.loc[95][fncf])\n",
    "# (df.loc[95][ud] - df.loc[95][fncf]).days\n",
    "# type((df.loc[95][ud] - df.loc[95][fncf]).days)"
   ]
  },
  {
   "cell_type": "code",
   "execution_count": null,
   "metadata": {},
   "outputs": [],
   "source": [
    "df.plot(figsize = (20, 10), kind = \"scatter\",  x = \"MaterialCategory\", y = \"Duration\", color = \"red\", grid = True, legend = True)\n",
    "# plt.xlabel(\"Confirmation Start Date\")\n",
    "# plt.ylabel(\"Duration\")\n",
    "# plt.title(\"Duration vs Confirmation Start Date\")\n",
    "plot.show()"
   ]
  },
  {
   "cell_type": "code",
   "execution_count": null,
   "metadata": {},
   "outputs": [],
   "source": [
    "numbers = [i for i in range(1, df.MaterialCategory.nunique() + 1)]"
   ]
  },
  {
   "cell_type": "code",
   "execution_count": null,
   "metadata": {},
   "outputs": [],
   "source": [
    "numbers"
   ]
  },
  {
   "cell_type": "code",
   "execution_count": null,
   "metadata": {},
   "outputs": [],
   "source": [
    "axes = df[\"MaterialCategory\"][numbers].plot(marker = \".\", alpha = 0.5, linestyle = \"None\", figsize=(11,9), subplots = True)\n",
    "for ax in axes:\n",
    "    ax.set_ylabel(\"Daily\")\n",
    "    \n"
   ]
  },
  {
   "cell_type": "code",
   "execution_count": null,
   "metadata": {},
   "outputs": [],
   "source": [
    "for number in range(1, df.MaterialCategory.nunique() + 1):\n",
    "    newNum = df.loc[df[\"MaterialCategory\"] == number]\n",
    "    newNum.plot(figsize = (20, 10), kind = \"scatter\",  x = \"Confirmation Start Date\", y = \"Duration\", color = \"red\", grid = True, subplots = True)\n",
    "    plt.xlabel(\"Confirmation Start Date\")\n",
    "    plt.ylabel(\"Duration\")\n",
    "    plt.title(f\"{number}Duration vs Confirmation Start Date\")\n",
    "    plot.show()"
   ]
  },
  {
   "cell_type": "code",
   "execution_count": null,
   "metadata": {},
   "outputs": [],
   "source": []
  },
  {
   "cell_type": "code",
   "execution_count": null,
   "metadata": {},
   "outputs": [],
   "source": []
  },
  {
   "cell_type": "code",
   "execution_count": null,
   "metadata": {},
   "outputs": [],
   "source": [
    "df.plot(figsize = (20, 20), kind = \"scatter\",  x = \"Material\", y = \"Duration\", color = \"red\", grid = True, legend = True)\n",
    "# plt.xlabel(\"Confirmation Start Date\")\n",
    "# plt.ylabel(\"Duration\")\n",
    "# plt.title(\"Duration vs Confirmation Start Date\")\n",
    "plot.show()"
   ]
  },
  {
   "cell_type": "code",
   "execution_count": null,
   "metadata": {},
   "outputs": [],
   "source": []
  },
  {
   "cell_type": "code",
   "execution_count": null,
   "metadata": {},
   "outputs": [],
   "source": [
    "df = df.pivot(index = \"Confirmation Start Date\", columns = \"MaterialCategory\")\n",
    "df"
   ]
  },
  {
   "cell_type": "code",
   "execution_count": null,
   "metadata": {},
   "outputs": [],
   "source": []
  },
  {
   "cell_type": "code",
   "execution_count": null,
   "metadata": {},
   "outputs": [],
   "source": []
  },
  {
   "cell_type": "code",
   "execution_count": null,
   "metadata": {},
   "outputs": [],
   "source": []
  },
  {
   "cell_type": "code",
   "execution_count": null,
   "metadata": {},
   "outputs": [],
   "source": [
    "df.plot(kind = \"scatter\",  x = \"MaterialCategory\", y = \"Duration\", color = \"red\")\n",
    "plt.xlabel(\"MaterialCategory\")\n",
    "plt.ylabel(\"Duration\")\n",
    "plt.title(\"MaterialCategory vs Duration\")\n",
    "plot.show()"
   ]
  },
  {
   "cell_type": "code",
   "execution_count": null,
   "metadata": {},
   "outputs": [],
   "source": [
    "df[\"Group\"].nunique()"
   ]
  },
  {
   "cell_type": "code",
   "execution_count": null,
   "metadata": {},
   "outputs": [],
   "source": []
  },
  {
   "cell_type": "code",
   "execution_count": null,
   "metadata": {},
   "outputs": [],
   "source": []
  },
  {
   "cell_type": "code",
   "execution_count": null,
   "metadata": {},
   "outputs": [],
   "source": [
    "\n",
    "# Array of external variables\n",
    "exog_df = pd.DataFrame(df[['Group', 'MaterialCategory', 'Total order quantity']])\n",
    "\"\"\"\n",
    "# Disregard \n",
    "# Mapping units to numbers\n",
    "units = ['G', 'KU', 'L', 'ML', 'PC', 'µL', 'µMO', 'µg']\n",
    "for ind, item in enumerate(units):\n",
    "    exog_df.replace(item, ind)\n",
    "print(exog_df)\n",
    "\"\"\"\n",
    "# Convert to values for arima model\n",
    "exog_arr = exog_df.values"
   ]
  },
  {
   "cell_type": "code",
   "execution_count": null,
   "metadata": {},
   "outputs": [],
   "source": [
    "exog_df.values"
   ]
  },
  {
   "cell_type": "code",
   "execution_count": null,
   "metadata": {},
   "outputs": [],
   "source": [
    "\n",
    "# Series of stamped time-series data\n",
    "dates = df['Usage Decision Date']\n",
    "ts = pd.Series( df['Duration'].values, index=dates)\n",
    "\n",
    "# Just visualizing data\n",
    "dfmod = ts.to_frame()\n",
    "dfmod.reset_index(inplace=True)\n",
    "dfmod.columns = ['date','dur']\n",
    "dfmod.plot(kind='scatter',x='date',y='dur')\n",
    "plt.show()"
   ]
  },
  {
   "cell_type": "code",
   "execution_count": null,
   "metadata": {},
   "outputs": [],
   "source": []
  },
  {
   "cell_type": "code",
   "execution_count": null,
   "metadata": {},
   "outputs": [],
   "source": []
  }
 ],
 "metadata": {
  "kernelspec": {
   "display_name": "Python 3",
   "language": "python",
   "name": "python3"
  },
  "language_info": {
   "codemirror_mode": {
    "name": "ipython",
    "version": 3
   },
   "file_extension": ".py",
   "mimetype": "text/x-python",
   "name": "python",
   "nbconvert_exporter": "python",
   "pygments_lexer": "ipython3",
   "version": "3.8.3"
  },
  "widgets": {
   "application/vnd.jupyter.widget-state+json": {
    "state": {},
    "version_major": 2,
    "version_minor": 0
   }
  }
 },
 "nbformat": 4,
 "nbformat_minor": 4
}

{
 "cells": [
  {
   "cell_type": "markdown",
   "metadata": {},
   "source": [
    "Apologize for the messy notebook - still trying to mess around with this stuff."
   ]
  },
  {
   "cell_type": "markdown",
   "metadata": {},
   "source": [
    "## Prelim Prep/Imports"
   ]
  },
  {
   "cell_type": "code",
   "execution_count": 25,
   "metadata": {},
   "outputs": [],
   "source": [
    "import numpy as np\n",
    "import pandas as pd\n",
    "import matplotlib.pyplot as plt\n",
    "from scipy import stats\n",
    "import pmdarima as pm\n",
    "from pmdarima.model_selection import train_test_split"
   ]
  },
  {
   "cell_type": "code",
   "execution_count": 26,
   "metadata": {},
   "outputs": [],
   "source": [
    "df = pd.read_excel(\"SupplyChain_TimeSeriesData.xlsx\")"
   ]
  },
  {
   "cell_type": "code",
   "execution_count": 27,
   "metadata": {},
   "outputs": [
    {
     "data": {
      "text/html": [
       "<div>\n",
       "<style scoped>\n",
       "    .dataframe tbody tr th:only-of-type {\n",
       "        vertical-align: middle;\n",
       "    }\n",
       "\n",
       "    .dataframe tbody tr th {\n",
       "        vertical-align: top;\n",
       "    }\n",
       "\n",
       "    .dataframe thead th {\n",
       "        text-align: right;\n",
       "    }\n",
       "</style>\n",
       "<table border=\"1\" class=\"dataframe\">\n",
       "  <thead>\n",
       "    <tr style=\"text-align: right;\">\n",
       "      <th></th>\n",
       "      <th>Order</th>\n",
       "      <th>Material</th>\n",
       "      <th>Batch</th>\n",
       "      <th>Group</th>\n",
       "      <th>MaterialCategory</th>\n",
       "      <th>Total order quantity</th>\n",
       "      <th>Unit</th>\n",
       "      <th>Quantity of goods received</th>\n",
       "      <th>Schedule Start Date</th>\n",
       "      <th>Schedule Finish Date</th>\n",
       "      <th>Confirmation Start Date</th>\n",
       "      <th>First Goods Movement Date</th>\n",
       "      <th>Goods Receipt Date</th>\n",
       "      <th>Usage Decision Date</th>\n",
       "      <th>dur</th>\n",
       "      <th>scheduled_duration_nowkend</th>\n",
       "      <th>actual_duration_nowkend</th>\n",
       "    </tr>\n",
       "  </thead>\n",
       "  <tbody>\n",
       "    <tr>\n",
       "      <th>478</th>\n",
       "      <td>101863</td>\n",
       "      <td>100001706</td>\n",
       "      <td>B174</td>\n",
       "      <td>138</td>\n",
       "      <td>13</td>\n",
       "      <td>14.0</td>\n",
       "      <td>PC</td>\n",
       "      <td>14.0</td>\n",
       "      <td>2016-11-21</td>\n",
       "      <td>2016-11-29</td>\n",
       "      <td>2017-02-22</td>\n",
       "      <td>2016-11-18</td>\n",
       "      <td>2016-11-18</td>\n",
       "      <td>2016-11-21</td>\n",
       "      <td>-68</td>\n",
       "      <td>7</td>\n",
       "      <td>0</td>\n",
       "    </tr>\n",
       "    <tr>\n",
       "      <th>549</th>\n",
       "      <td>101986</td>\n",
       "      <td>100001706</td>\n",
       "      <td>B203</td>\n",
       "      <td>138</td>\n",
       "      <td>13</td>\n",
       "      <td>14.0</td>\n",
       "      <td>PC</td>\n",
       "      <td>14.0</td>\n",
       "      <td>2016-11-23</td>\n",
       "      <td>2016-12-01</td>\n",
       "      <td>2017-02-22</td>\n",
       "      <td>2016-11-23</td>\n",
       "      <td>2016-11-23</td>\n",
       "      <td>2016-11-23</td>\n",
       "      <td>-66</td>\n",
       "      <td>7</td>\n",
       "      <td>0</td>\n",
       "    </tr>\n",
       "    <tr>\n",
       "      <th>705</th>\n",
       "      <td>101990</td>\n",
       "      <td>100001705</td>\n",
       "      <td>B216</td>\n",
       "      <td>138</td>\n",
       "      <td>13</td>\n",
       "      <td>42.0</td>\n",
       "      <td>PC</td>\n",
       "      <td>42.0</td>\n",
       "      <td>2016-11-30</td>\n",
       "      <td>2016-12-06</td>\n",
       "      <td>2017-02-22</td>\n",
       "      <td>2016-11-30</td>\n",
       "      <td>2016-11-30</td>\n",
       "      <td>2016-12-01</td>\n",
       "      <td>-60</td>\n",
       "      <td>5</td>\n",
       "      <td>0</td>\n",
       "    </tr>\n",
       "    <tr>\n",
       "      <th>765</th>\n",
       "      <td>102129</td>\n",
       "      <td>100002226</td>\n",
       "      <td>B233</td>\n",
       "      <td>138</td>\n",
       "      <td>1</td>\n",
       "      <td>30000.0</td>\n",
       "      <td>ML</td>\n",
       "      <td>30000.0</td>\n",
       "      <td>2016-11-29</td>\n",
       "      <td>2016-12-02</td>\n",
       "      <td>2017-02-22</td>\n",
       "      <td>2016-11-29</td>\n",
       "      <td>2016-11-29</td>\n",
       "      <td>2016-12-05</td>\n",
       "      <td>-58</td>\n",
       "      <td>4</td>\n",
       "      <td>0</td>\n",
       "    </tr>\n",
       "    <tr>\n",
       "      <th>766</th>\n",
       "      <td>101992</td>\n",
       "      <td>100001705</td>\n",
       "      <td>B224</td>\n",
       "      <td>138</td>\n",
       "      <td>13</td>\n",
       "      <td>102.0</td>\n",
       "      <td>PC</td>\n",
       "      <td>102.0</td>\n",
       "      <td>2016-12-05</td>\n",
       "      <td>2016-12-09</td>\n",
       "      <td>2017-02-22</td>\n",
       "      <td>2016-12-05</td>\n",
       "      <td>2016-12-05</td>\n",
       "      <td>2016-12-05</td>\n",
       "      <td>-58</td>\n",
       "      <td>5</td>\n",
       "      <td>0</td>\n",
       "    </tr>\n",
       "  </tbody>\n",
       "</table>\n",
       "</div>"
      ],
      "text/plain": [
       "      Order   Material Batch  Group  MaterialCategory  Total order quantity  \\\n",
       "478  101863  100001706  B174    138                13                  14.0   \n",
       "549  101986  100001706  B203    138                13                  14.0   \n",
       "705  101990  100001705  B216    138                13                  42.0   \n",
       "765  102129  100002226  B233    138                 1               30000.0   \n",
       "766  101992  100001705  B224    138                13                 102.0   \n",
       "\n",
       "    Unit  Quantity of goods received Schedule Start Date Schedule Finish Date  \\\n",
       "478   PC                        14.0          2016-11-21           2016-11-29   \n",
       "549   PC                        14.0          2016-11-23           2016-12-01   \n",
       "705   PC                        42.0          2016-11-30           2016-12-06   \n",
       "765   ML                     30000.0          2016-11-29           2016-12-02   \n",
       "766   PC                       102.0          2016-12-05           2016-12-09   \n",
       "\n",
       "    Confirmation Start Date First Goods Movement Date Goods Receipt Date  \\\n",
       "478              2017-02-22                2016-11-18         2016-11-18   \n",
       "549              2017-02-22                2016-11-23         2016-11-23   \n",
       "705              2017-02-22                2016-11-30         2016-11-30   \n",
       "765              2017-02-22                2016-11-29         2016-11-29   \n",
       "766              2017-02-22                2016-12-05         2016-12-05   \n",
       "\n",
       "    Usage Decision Date  dur  scheduled_duration_nowkend  \\\n",
       "478          2016-11-21  -68                           7   \n",
       "549          2016-11-23  -66                           7   \n",
       "705          2016-12-01  -60                           5   \n",
       "765          2016-12-05  -58                           4   \n",
       "766          2016-12-05  -58                           5   \n",
       "\n",
       "     actual_duration_nowkend  \n",
       "478                        0  \n",
       "549                        0  \n",
       "705                        0  \n",
       "765                        0  \n",
       "766                        0  "
      ]
     },
     "execution_count": 27,
     "metadata": {},
     "output_type": "execute_result"
    }
   ],
   "source": [
    "# Using the Pandas bdate_range function, we calculate number of days taken to complete order (excluding weekends)\n",
    "df['scheduled_duration_nowkend'] = df.apply(lambda row: pd.bdate_range( row['Schedule Start Date'], row['Schedule Finish Date']).shape[0] \\\n",
    "                                            if not pd.isna(row['Schedule Start Date']) and not pd.isna(row['Schedule Finish Date']) else np.nan, axis=1 )\n",
    "df['actual_duration_nowkend'] = df.apply(lambda row: pd.bdate_range( row['Confirmation Start Date'], row['Usage Decision Date']).shape[0] \\\n",
    "                                         if not pd.isna(row['Confirmation Start Date']) and not pd.isna(row['Usage Decision Date']) else np.nan, axis=1 )\n",
    "\n",
    "# Drop null values\n",
    "df = df.dropna(subset=['Confirmation Start Date', 'Usage Decision Date'])\n",
    "\n",
    "# Drop dates before 2016\n",
    "orders = df[df['Confirmation Start Date'] < pd.Timestamp(2017,1,1)]['Order'].unique()\n",
    "df = df[~df['Order'].isin(orders)]\n",
    "\n",
    "df.head()"
   ]
  },
  {
   "cell_type": "code",
   "execution_count": 28,
   "metadata": {},
   "outputs": [
    {
     "data": {
      "text/plain": [
       "(31961, 17)"
      ]
     },
     "metadata": {},
     "output_type": "display_data"
    },
    {
     "data": {
      "text/html": [
       "<div>\n",
       "<style scoped>\n",
       "    .dataframe tbody tr th:only-of-type {\n",
       "        vertical-align: middle;\n",
       "    }\n",
       "\n",
       "    .dataframe tbody tr th {\n",
       "        vertical-align: top;\n",
       "    }\n",
       "\n",
       "    .dataframe thead th {\n",
       "        text-align: right;\n",
       "    }\n",
       "</style>\n",
       "<table border=\"1\" class=\"dataframe\">\n",
       "  <thead>\n",
       "    <tr style=\"text-align: right;\">\n",
       "      <th></th>\n",
       "      <th>Order</th>\n",
       "      <th>Material</th>\n",
       "      <th>Batch</th>\n",
       "      <th>Group</th>\n",
       "      <th>MaterialCategory</th>\n",
       "      <th>Total order quantity</th>\n",
       "      <th>Unit</th>\n",
       "      <th>Quantity of goods received</th>\n",
       "      <th>Schedule Start Date</th>\n",
       "      <th>Schedule Finish Date</th>\n",
       "      <th>Confirmation Start Date</th>\n",
       "      <th>First Goods Movement Date</th>\n",
       "      <th>Goods Receipt Date</th>\n",
       "      <th>Usage Decision Date</th>\n",
       "      <th>dur</th>\n",
       "      <th>scheduled_duration_nowkend</th>\n",
       "      <th>actual_duration_nowkend</th>\n",
       "    </tr>\n",
       "  </thead>\n",
       "  <tbody>\n",
       "    <tr>\n",
       "      <th>478</th>\n",
       "      <td>101863</td>\n",
       "      <td>100001706</td>\n",
       "      <td>B174</td>\n",
       "      <td>138</td>\n",
       "      <td>13</td>\n",
       "      <td>14.0</td>\n",
       "      <td>PC</td>\n",
       "      <td>14.0</td>\n",
       "      <td>2016-11-21</td>\n",
       "      <td>2016-11-29</td>\n",
       "      <td>2017-02-22</td>\n",
       "      <td>2016-11-18</td>\n",
       "      <td>2016-11-18</td>\n",
       "      <td>2016-11-21</td>\n",
       "      <td>-68</td>\n",
       "      <td>7</td>\n",
       "      <td>0</td>\n",
       "    </tr>\n",
       "    <tr>\n",
       "      <th>549</th>\n",
       "      <td>101986</td>\n",
       "      <td>100001706</td>\n",
       "      <td>B203</td>\n",
       "      <td>138</td>\n",
       "      <td>13</td>\n",
       "      <td>14.0</td>\n",
       "      <td>PC</td>\n",
       "      <td>14.0</td>\n",
       "      <td>2016-11-23</td>\n",
       "      <td>2016-12-01</td>\n",
       "      <td>2017-02-22</td>\n",
       "      <td>2016-11-23</td>\n",
       "      <td>2016-11-23</td>\n",
       "      <td>2016-11-23</td>\n",
       "      <td>-66</td>\n",
       "      <td>7</td>\n",
       "      <td>0</td>\n",
       "    </tr>\n",
       "    <tr>\n",
       "      <th>705</th>\n",
       "      <td>101990</td>\n",
       "      <td>100001705</td>\n",
       "      <td>B216</td>\n",
       "      <td>138</td>\n",
       "      <td>13</td>\n",
       "      <td>42.0</td>\n",
       "      <td>PC</td>\n",
       "      <td>42.0</td>\n",
       "      <td>2016-11-30</td>\n",
       "      <td>2016-12-06</td>\n",
       "      <td>2017-02-22</td>\n",
       "      <td>2016-11-30</td>\n",
       "      <td>2016-11-30</td>\n",
       "      <td>2016-12-01</td>\n",
       "      <td>-60</td>\n",
       "      <td>5</td>\n",
       "      <td>0</td>\n",
       "    </tr>\n",
       "    <tr>\n",
       "      <th>765</th>\n",
       "      <td>102129</td>\n",
       "      <td>100002226</td>\n",
       "      <td>B233</td>\n",
       "      <td>138</td>\n",
       "      <td>1</td>\n",
       "      <td>30000.0</td>\n",
       "      <td>ML</td>\n",
       "      <td>30000.0</td>\n",
       "      <td>2016-11-29</td>\n",
       "      <td>2016-12-02</td>\n",
       "      <td>2017-02-22</td>\n",
       "      <td>2016-11-29</td>\n",
       "      <td>2016-11-29</td>\n",
       "      <td>2016-12-05</td>\n",
       "      <td>-58</td>\n",
       "      <td>4</td>\n",
       "      <td>0</td>\n",
       "    </tr>\n",
       "    <tr>\n",
       "      <th>766</th>\n",
       "      <td>101992</td>\n",
       "      <td>100001705</td>\n",
       "      <td>B224</td>\n",
       "      <td>138</td>\n",
       "      <td>13</td>\n",
       "      <td>102.0</td>\n",
       "      <td>PC</td>\n",
       "      <td>102.0</td>\n",
       "      <td>2016-12-05</td>\n",
       "      <td>2016-12-09</td>\n",
       "      <td>2017-02-22</td>\n",
       "      <td>2016-12-05</td>\n",
       "      <td>2016-12-05</td>\n",
       "      <td>2016-12-05</td>\n",
       "      <td>-58</td>\n",
       "      <td>5</td>\n",
       "      <td>0</td>\n",
       "    </tr>\n",
       "  </tbody>\n",
       "</table>\n",
       "</div>"
      ],
      "text/plain": [
       "      Order   Material Batch  Group  MaterialCategory  Total order quantity  \\\n",
       "478  101863  100001706  B174    138                13                  14.0   \n",
       "549  101986  100001706  B203    138                13                  14.0   \n",
       "705  101990  100001705  B216    138                13                  42.0   \n",
       "765  102129  100002226  B233    138                 1               30000.0   \n",
       "766  101992  100001705  B224    138                13                 102.0   \n",
       "\n",
       "    Unit  Quantity of goods received Schedule Start Date Schedule Finish Date  \\\n",
       "478   PC                        14.0          2016-11-21           2016-11-29   \n",
       "549   PC                        14.0          2016-11-23           2016-12-01   \n",
       "705   PC                        42.0          2016-11-30           2016-12-06   \n",
       "765   ML                     30000.0          2016-11-29           2016-12-02   \n",
       "766   PC                       102.0          2016-12-05           2016-12-09   \n",
       "\n",
       "    Confirmation Start Date First Goods Movement Date Goods Receipt Date  \\\n",
       "478              2017-02-22                2016-11-18         2016-11-18   \n",
       "549              2017-02-22                2016-11-23         2016-11-23   \n",
       "705              2017-02-22                2016-11-30         2016-11-30   \n",
       "765              2017-02-22                2016-11-29         2016-11-29   \n",
       "766              2017-02-22                2016-12-05         2016-12-05   \n",
       "\n",
       "    Usage Decision Date  dur  scheduled_duration_nowkend  \\\n",
       "478          2016-11-21  -68                           7   \n",
       "549          2016-11-23  -66                           7   \n",
       "705          2016-12-01  -60                           5   \n",
       "765          2016-12-05  -58                           4   \n",
       "766          2016-12-05  -58                           5   \n",
       "\n",
       "     actual_duration_nowkend  \n",
       "478                        0  \n",
       "549                        0  \n",
       "705                        0  \n",
       "765                        0  \n",
       "766                        0  "
      ]
     },
     "metadata": {},
     "output_type": "display_data"
    }
   ],
   "source": [
    "#Change the units to ML\n",
    "df.loc[df[\"Unit\"] == \"µL\", \"Total order quantity\"] = df[\"Total order quantity\"]/1000\n",
    "df.loc[df[\"Unit\"] == \"µL\", \"Unit\"] = \"ML\"\n",
    "\n",
    "df.loc[df[\"Unit\"] == \"L\", \"Total order quantity\"] = df[\"Total order quantity\"] * 1000\n",
    "df.loc[df[\"Unit\"] == \"L\", \"Unit\"] = \"ML\"\n",
    "\n",
    "display(df.shape)\n",
    "display(df.head())"
   ]
  },
  {
   "cell_type": "code",
   "execution_count": 29,
   "metadata": {},
   "outputs": [],
   "source": [
    "# Get rid of negative durations\n",
    "df = df[df['dur']>0]\n",
    "# Set indices\n",
    "df.set_index(\"Confirmation Start Date\", inplace = True)\n",
    "df[\"month\"] = df.index.to_period(\"M\")"
   ]
  },
  {
   "cell_type": "markdown",
   "metadata": {},
   "source": [
    "## Grouping\n",
    "Groups based on the assumption that the hierarchy is category -> group -> material from least precise to most precise. Starts by determining all possible groupings of material that have enough data to make a forecast, then moves to group, and finally to category. This information is stored in dictionaries mat_trend, group_trend, cat_trend."
   ]
  },
  {
   "cell_type": "code",
   "execution_count": 31,
   "metadata": {},
   "outputs": [
    {
     "name": "stdout",
     "output_type": "stream",
     "text": [
      "Material groups that have enough data: 48\n",
      "Group groups that have enough data: 41\n",
      "Category groups that have enough data: 11\n"
     ]
    }
   ],
   "source": [
    "import copy\n",
    "types = ['Material', 'Group', 'MaterialCategory']\n",
    "dics = {'mat_trend' : {}, 'group_trend' : {}, 'cat_trend' : {}}\n",
    "thresholds = [75,75,50]\n",
    "\n",
    "\n",
    "for (typ, dic, thresh) in zip(types, dics, thresholds):\n",
    "    # Group \n",
    "    gr = df.groupby(typ)\n",
    "    groups = dict(list(gr))\n",
    "    # Checks if group has enough data\n",
    "    for x in groups:\n",
    "        single = groups[x]\n",
    "        if len(single) > thresh:\n",
    "            dics[dic][x] = single\n",
    "\n",
    "# Transfer back over for ease later            \n",
    "mat_trend = dics['mat_trend']\n",
    "group_trend = dics['group_trend']\n",
    "cat_trend = dics['cat_trend']\n",
    "\n",
    "# Lists of keys\n",
    "mats = list(mat_trend.keys())\n",
    "groups = list(group_trend.keys())\n",
    "cats = list(cat_trend.keys())\n",
    "\n",
    "# Note to self: 48, 42, 11\n",
    "print(\"Material groups that have enough data: %d\" % len(mat_trend))\n",
    "print(\"Group groups that have enough data: %d\" % len(group_trend))\n",
    "print(\"Category groups that have enough data: %d\" % len(cat_trend))"
   ]
  },
  {
   "cell_type": "markdown",
   "metadata": {},
   "source": [
    "## Get Rid of Outliers"
   ]
  },
  {
   "cell_type": "code",
   "execution_count": 144,
   "metadata": {},
   "outputs": [],
   "source": [
    "def remove_outliers(group, time, method):\n",
    "    \n",
    "    updated_group = pd.DataFrame() \n",
    "    if(time == 'month'):\n",
    "        dates = pd.unique(group[\"month\"])\n",
    "        for month in dates:\n",
    "            df_quarter = group.loc[group[\"month\"] == month]\n",
    "            if method == 'zscore':\n",
    "                df_quarter['zscore'] = np.abs(stats.zscore(df_quarter['actual_duration_nowkend']))\n",
    "                temp = df_quarter.loc[df_quarter['zscore'] < 3]\n",
    "            elif method == 'iqr':\n",
    "                q1 = df_quarter.quantile(0.25)['actual_duration_nowkend']\n",
    "                q2 = df_quarter.quantile(0.50)['actual_duration_nowkend']\n",
    "                q3 = df_quarter.quantile(0.75)['actual_duration_nowkend']\n",
    "\n",
    "                IQR = q3 - q1\n",
    "                lower = q1 - 1.5*IQR\n",
    "                upper = q3 + 1.5*IQR\n",
    "\n",
    "                # Removes outliers\n",
    "                temp = df_quarter[(df_quarter['actual_duration_nowkend'] < upper) & (df_quarter['actual_duration_nowkend'] > lower)]\n",
    "            updated_group = updated_group.append(temp)   \n",
    "        updated_group = updated_group.sort_values(by='Usage Decision Date')\n",
    "        return updated_group\n",
    "    elif(time == 'total'):\n",
    "        if method == 'zscore':\n",
    "            group['zscore'] = np.abs(stats.zscore(group['actual_duration_nowkend']))\n",
    "            group = group[group['zscore'] < 3]\n",
    "            group.sort_values(by='Usage Decision Date')\n",
    "            return group\n",
    "\n",
    "    "
   ]
  },
  {
   "cell_type": "code",
   "execution_count": 145,
   "metadata": {},
   "outputs": [],
   "source": [
    "lists = [mats, groups, cats]\n",
    "dics = [mat_trend, group_trend, cat_trend]\n",
    "types = ['Material', 'Group', 'MaterialCategory']\n",
    "\n",
    "# new dictionaries to copy over data without outliers\n",
    "mat_trend_trim = {}\n",
    "group_trend_trim = {}\n",
    "cat_trend_trim = {}\n",
    "new_dics = [mat_trend_trim, group_trend_trim, cat_trend_trim]\n",
    "\n",
    "\n",
    "# Track amount of datapoints deleted\n",
    "deltas = []\n",
    "# method for outlier detection - choose zscore / iqr \n",
    "method = 'iqr'\n",
    "for (typ, lis, olddic, newdic) in zip(types, lists, dics, new_dics):\n",
    "    delta = []\n",
    "    for x in lis:\n",
    "        group = olddic[x]\n",
    "        start = len(group)\n",
    "        # Get rid of outliers\n",
    "        group = remove_outliers(group, 'total', 'zscore')\n",
    "        group = remove_outliers(group, 'month', 'iqr')\n",
    "        # calculate datapoints lost\n",
    "        end = len(group)\n",
    "        delta.append([x, start, end, start-end, (100*(start-end)/start)])\n",
    "        # Combine datapoints in same month for consistent frequency\n",
    "        group_resample = group.resample(\"M\").mean()\n",
    "        group_resample[\"actual_duration_nowkend\"] = group_resample[\"actual_duration_nowkend\"].fillna(method = \"ffill\")\n",
    "        newdic[x] = group_resample\n",
    "    #append to overall list    \n",
    "    deltas.append(pd.DataFrame(delta, columns=[typ, 'Start', 'End', 'Delta', 'Percentlost']))\n",
    "    "
   ]
  },
  {
   "cell_type": "code",
   "execution_count": 146,
   "metadata": {},
   "outputs": [
    {
     "name": "stdout",
     "output_type": "stream",
     "text": [
      "Materials outlier mean data percent lost: 15.92\n",
      "Groups outlier mean data percent lost: 12.83\n",
      "MaterialCategory outlier mean data percent lost: 11.36\n"
     ]
    }
   ],
   "source": [
    "# Shows data loss with outlier method \n",
    "# 0 = Materials, 1 = Group, 2 = MaterialCategory\n",
    "print('Materials outlier mean data percent lost: %0.2f' % deltas[0]['Percentlost'].mean())\n",
    "print('Groups outlier mean data percent lost: %0.2f' % deltas[1]['Percentlost'].mean())\n",
    "print('MaterialCategory outlier mean data percent lost: %0.2f' % deltas[2]['Percentlost'].mean())\n",
    "\n",
    "#Results: \n",
    "\n",
    "# For IQR: \n",
    "# Materials outlier mean data percent lost: 12.67\n",
    "# Groups outlier mean data percent lost: 10.56\n",
    "# MaterialCategory outlier mean data percent lost: 9.13\n",
    "\n",
    "#For z-score of 3:\n",
    "# Materials outlier mean data percent lost: 8.03\n",
    "# Groups outlier mean data percent lost: 5.00\n",
    "# MaterialCategory outlier mean data percent lost: 3.31"
   ]
  },
  {
   "cell_type": "code",
   "execution_count": null,
   "metadata": {},
   "outputs": [],
   "source": [
    "# See data loss for different materials\n",
    "# 0 = Materials, 1 = Group, 2 = MaterialCategory\n",
    "deltas[0].sort_values(by = 'End')"
   ]
  },
  {
   "cell_type": "markdown",
   "metadata": {},
   "source": [
    "## ARIMA MODELING"
   ]
  },
  {
   "cell_type": "code",
   "execution_count": 148,
   "metadata": {},
   "outputs": [
    {
     "data": {
      "text/plain": [
       "<matplotlib.axes._subplots.AxesSubplot at 0x126e09e50>"
      ]
     },
     "execution_count": 148,
     "metadata": {},
     "output_type": "execute_result"
    },
    {
     "data": {
      "image/png": "[encoded data removed]",
      "text/plain": [
       "<Figure size 432x288 with 1 Axes>"
      ]
     },
     "metadata": {
      "needs_background": "light"
     },
     "output_type": "display_data"
    }
   ],
   "source": [
    "#Taking random group to test ARIMA model on\n",
    "# 100001520\n",
    "name = 100001520\n",
    "sub = mat_trend_trim[name]\n",
    "sub.plot(y = 'actual_duration_nowkend', title = \"Material: %d\" % name)"
   ]
  },
  {
   "cell_type": "code",
   "execution_count": 154,
   "metadata": {},
   "outputs": [],
   "source": [
    "ts = pd.Series(sub['actual_duration_nowkend'].values, index = sub.index)"
   ]
  },
  {
   "cell_type": "code",
   "execution_count": 155,
   "metadata": {},
   "outputs": [],
   "source": [
    "# Array of external variables\n",
    "exog_df = pd.DataFrame(sub['Total order quantity'])\n",
    "exog_df = exog_df.fillna(method = \"ffill\")\n",
    "\n",
    "# Convert to values for arima model\n",
    "exog_arr = exog_df.values"
   ]
  },
  {
   "cell_type": "code",
   "execution_count": 156,
   "metadata": {},
   "outputs": [
    {
     "data": {
      "image/png": "[encoded data removed]",
      "text/plain": [
       "<Figure size 432x288 with 1 Axes>"
      ]
     },
     "metadata": {
      "needs_background": "light"
     },
     "output_type": "display_data"
    }
   ],
   "source": [
    "# Splitting data into test/train\n",
    "ratio = 0.8\n",
    "length = ts.shape[0]\n",
    "pivot = int(ratio * length)\n",
    "endpivot = length - pivot\n",
    "\n",
    "ts_train = ts[:pivot]\n",
    "ts_test = ts[pivot:]\n",
    "\n",
    "exog_train = exog_arr[:pivot]\n",
    "exog_test = exog_arr[pivot:]\n",
    "\n",
    "dates_train = ts[:pivot]\n",
    "dates_test = ts[pivot:]\n",
    "\n",
    "# Just visualizing data\n",
    "dfmod = ts_train.to_frame()\n",
    "dfmod.reset_index(inplace=True)\n",
    "dfmod.columns = ['date','dur']\n",
    "dfmod.plot(kind = 'scatter', x='date',y='dur')\n",
    "plt.show() "
   ]
  },
  {
   "cell_type": "code",
   "execution_count": 158,
   "metadata": {},
   "outputs": [
    {
     "name": "stdout",
     "output_type": "stream",
     "text": [
      "Performing stepwise search to minimize aic\n",
      "Fit ARIMA(1,1,1)x(0,1,1,12) [intercept=True]; AIC=105.084, BIC=110.751, Time=1.595 seconds\n",
      "Fit ARIMA(0,1,0)x(0,1,0,12) [intercept=True]; AIC=101.576, BIC=104.410, Time=0.040 seconds\n",
      "Fit ARIMA(1,1,0)x(1,1,0,12) [intercept=True]; AIC=102.830, BIC=107.553, Time=0.592 seconds\n",
      "Fit ARIMA(0,1,1)x(0,1,1,12) [intercept=True]; AIC=101.364, BIC=106.086, Time=0.778 seconds\n",
      "Near non-invertible roots for order (0, 1, 1)(0, 1, 1, 12); setting score to inf (at least one inverse root too close to the border of the unit circle: 1.000)\n",
      "Fit ARIMA(0,1,0)x(0,1,0,12) [intercept=False]; AIC=99.874, BIC=101.763, Time=0.046 seconds\n",
      "Fit ARIMA(0,1,0)x(1,1,0,12) [intercept=True]; AIC=102.996, BIC=106.774, Time=0.185 seconds\n",
      "Fit ARIMA(0,1,0)x(0,1,1,12) [intercept=True]; AIC=102.996, BIC=106.774, Time=0.305 seconds\n",
      "Fit ARIMA(0,1,0)x(1,1,1,12) [intercept=True]; AIC=104.996, BIC=109.719, Time=0.351 seconds\n",
      "Fit ARIMA(1,1,0)x(0,1,0,12) [intercept=True]; AIC=102.909, BIC=106.686, Time=0.096 seconds\n",
      "Fit ARIMA(0,1,1)x(0,1,0,12) [intercept=True]; AIC=102.950, BIC=106.728, Time=0.124 seconds\n",
      "Fit ARIMA(1,1,1)x(0,1,0,12) [intercept=True]; AIC=104.720, BIC=109.443, Time=0.227 seconds\n",
      "Total fit time: 4.350 seconds\n"
     ]
    }
   ],
   "source": [
    "# Fitting\n",
    "arima = pm.auto_arima(ts_train, exog_train,start_p=1, start_q=1, max_p=5, max_q=5, m=12,start_P=0, seasonal=True, d=1, D=1, trace=True, error_action='ignore', suppress_warnings = True, stepwise=True)\n",
    "arima2 = pm.auto_arima(ts_train, exog_train, d=1, error_action='ignore', suppress_warnings = True)\n",
    "arima3 = pm.auto_arima(ts_train, seasonal=True, error_action='ignore', suppress_warnings = True)"
   ]
  },
  {
   "cell_type": "code",
   "execution_count": 159,
   "metadata": {},
   "outputs": [
    {
     "data": {
      "text/html": [
       "<table class=\"simpletable\">\n",
       "<caption>SARIMAX Results</caption>\n",
       "<tr>\n",
       "  <th>Dep. Variable:</th>                  <td>y</td>               <th>  No. Observations:  </th>   <td>32</td>   \n",
       "</tr>\n",
       "<tr>\n",
       "  <th>Model:</th>           <td>SARIMAX(0, 1, 0)x(0, 1, 0, 12)</td> <th>  Log Likelihood     </th> <td>-47.937</td>\n",
       "</tr>\n",
       "<tr>\n",
       "  <th>Date:</th>                   <td>Mon, 06 Jul 2020</td>        <th>  AIC                </th> <td>99.874</td> \n",
       "</tr>\n",
       "<tr>\n",
       "  <th>Time:</th>                       <td>16:44:42</td>            <th>  BIC                </th> <td>101.763</td>\n",
       "</tr>\n",
       "<tr>\n",
       "  <th>Sample:</th>                         <td>0</td>               <th>  HQIC               </th> <td>100.194</td>\n",
       "</tr>\n",
       "<tr>\n",
       "  <th></th>                              <td> - 32</td>             <th>                     </th>    <td> </td>   \n",
       "</tr>\n",
       "<tr>\n",
       "  <th>Covariance Type:</th>               <td>opg</td>              <th>                     </th>    <td> </td>   \n",
       "</tr>\n",
       "</table>\n",
       "<table class=\"simpletable\">\n",
       "<tr>\n",
       "     <td></td>       <th>coef</th>     <th>std err</th>      <th>z</th>      <th>P>|z|</th>  <th>[0.025</th>    <th>0.975]</th>  \n",
       "</tr>\n",
       "<tr>\n",
       "  <th>x1</th>     <td>    0.0234</td> <td>    0.068</td> <td>    0.345</td> <td> 0.730</td> <td>   -0.110</td> <td>    0.156</td>\n",
       "</tr>\n",
       "<tr>\n",
       "  <th>sigma2</th> <td>    9.0988</td> <td>    2.725</td> <td>    3.339</td> <td> 0.001</td> <td>    3.758</td> <td>   14.439</td>\n",
       "</tr>\n",
       "</table>\n",
       "<table class=\"simpletable\">\n",
       "<tr>\n",
       "  <th>Ljung-Box (Q):</th>          <td>20.82</td> <th>  Jarque-Bera (JB):  </th> <td>1.38</td>\n",
       "</tr>\n",
       "<tr>\n",
       "  <th>Prob(Q):</th>                <td>0.29</td>  <th>  Prob(JB):          </th> <td>0.50</td>\n",
       "</tr>\n",
       "<tr>\n",
       "  <th>Heteroskedasticity (H):</th> <td>0.65</td>  <th>  Skew:              </th> <td>0.66</td>\n",
       "</tr>\n",
       "<tr>\n",
       "  <th>Prob(H) (two-sided):</th>    <td>0.61</td>  <th>  Kurtosis:          </th> <td>3.06</td>\n",
       "</tr>\n",
       "</table><br/><br/>Warnings:<br/>[1] Covariance matrix calculated using the outer product of gradients (complex-step)."
      ],
      "text/plain": [
       "<class 'statsmodels.iolib.summary.Summary'>\n",
       "\"\"\"\n",
       "                                     SARIMAX Results                                      \n",
       "==========================================================================================\n",
       "Dep. Variable:                                  y   No. Observations:                   32\n",
       "Model:             SARIMAX(0, 1, 0)x(0, 1, 0, 12)   Log Likelihood                 -47.937\n",
       "Date:                            Mon, 06 Jul 2020   AIC                             99.874\n",
       "Time:                                    16:44:42   BIC                            101.763\n",
       "Sample:                                         0   HQIC                           100.194\n",
       "                                             - 32                                         \n",
       "Covariance Type:                              opg                                         \n",
       "==============================================================================\n",
       "                 coef    std err          z      P>|z|      [0.025      0.975]\n",
       "------------------------------------------------------------------------------\n",
       "x1             0.0234      0.068      0.345      0.730      -0.110       0.156\n",
       "sigma2         9.0988      2.725      3.339      0.001       3.758      14.439\n",
       "===================================================================================\n",
       "Ljung-Box (Q):                       20.82   Jarque-Bera (JB):                 1.38\n",
       "Prob(Q):                              0.29   Prob(JB):                         0.50\n",
       "Heteroskedasticity (H):               0.65   Skew:                             0.66\n",
       "Prob(H) (two-sided):                  0.61   Kurtosis:                         3.06\n",
       "===================================================================================\n",
       "\n",
       "Warnings:\n",
       "[1] Covariance matrix calculated using the outer product of gradients (complex-step).\n",
       "\"\"\""
      ]
     },
     "metadata": {},
     "output_type": "display_data"
    },
    {
     "data": {
      "text/html": [
       "<table class=\"simpletable\">\n",
       "<caption>SARIMAX Results</caption>\n",
       "<tr>\n",
       "  <th>Dep. Variable:</th>           <td>y</td>        <th>  No. Observations:  </th>   <td>32</td>   \n",
       "</tr>\n",
       "<tr>\n",
       "  <th>Model:</th>           <td>SARIMAX(3, 1, 2)</td> <th>  Log Likelihood     </th> <td>-57.712</td>\n",
       "</tr>\n",
       "<tr>\n",
       "  <th>Date:</th>            <td>Mon, 06 Jul 2020</td> <th>  AIC                </th> <td>131.424</td>\n",
       "</tr>\n",
       "<tr>\n",
       "  <th>Time:</th>                <td>16:44:42</td>     <th>  BIC                </th> <td>142.896</td>\n",
       "</tr>\n",
       "<tr>\n",
       "  <th>Sample:</th>                  <td>0</td>        <th>  HQIC               </th> <td>135.164</td>\n",
       "</tr>\n",
       "<tr>\n",
       "  <th></th>                       <td> - 32</td>      <th>                     </th>    <td> </td>   \n",
       "</tr>\n",
       "<tr>\n",
       "  <th>Covariance Type:</th>        <td>opg</td>       <th>                     </th>    <td> </td>   \n",
       "</tr>\n",
       "</table>\n",
       "<table class=\"simpletable\">\n",
       "<tr>\n",
       "      <td></td>         <th>coef</th>     <th>std err</th>      <th>z</th>      <th>P>|z|</th>  <th>[0.025</th>    <th>0.975]</th>  \n",
       "</tr>\n",
       "<tr>\n",
       "  <th>intercept</th> <td>   -0.0036</td> <td>    0.012</td> <td>   -0.292</td> <td> 0.770</td> <td>   -0.028</td> <td>    0.021</td>\n",
       "</tr>\n",
       "<tr>\n",
       "  <th>x1</th>        <td>    0.0072</td> <td>    0.006</td> <td>    1.227</td> <td> 0.220</td> <td>   -0.004</td> <td>    0.019</td>\n",
       "</tr>\n",
       "<tr>\n",
       "  <th>ar.L1</th>     <td>    0.6841</td> <td>    0.202</td> <td>    3.391</td> <td> 0.001</td> <td>    0.289</td> <td>    1.079</td>\n",
       "</tr>\n",
       "<tr>\n",
       "  <th>ar.L2</th>     <td>    0.1236</td> <td>    0.158</td> <td>    0.780</td> <td> 0.436</td> <td>   -0.187</td> <td>    0.434</td>\n",
       "</tr>\n",
       "<tr>\n",
       "  <th>ar.L3</th>     <td>   -0.5234</td> <td>    0.181</td> <td>   -2.895</td> <td> 0.004</td> <td>   -0.878</td> <td>   -0.169</td>\n",
       "</tr>\n",
       "<tr>\n",
       "  <th>ma.L1</th>     <td>   -1.8363</td> <td>    1.635</td> <td>   -1.123</td> <td> 0.261</td> <td>   -5.041</td> <td>    1.369</td>\n",
       "</tr>\n",
       "<tr>\n",
       "  <th>ma.L2</th>     <td>    0.8455</td> <td>    1.250</td> <td>    0.677</td> <td> 0.499</td> <td>   -1.604</td> <td>    3.295</td>\n",
       "</tr>\n",
       "<tr>\n",
       "  <th>sigma2</th>    <td>    1.6118</td> <td>    3.161</td> <td>    0.510</td> <td> 0.610</td> <td>   -4.583</td> <td>    7.806</td>\n",
       "</tr>\n",
       "</table>\n",
       "<table class=\"simpletable\">\n",
       "<tr>\n",
       "  <th>Ljung-Box (Q):</th>          <td>24.35</td> <th>  Jarque-Bera (JB):  </th> <td>1.74</td> \n",
       "</tr>\n",
       "<tr>\n",
       "  <th>Prob(Q):</th>                <td>0.76</td>  <th>  Prob(JB):          </th> <td>0.42</td> \n",
       "</tr>\n",
       "<tr>\n",
       "  <th>Heteroskedasticity (H):</th> <td>1.41</td>  <th>  Skew:              </th> <td>-0.14</td>\n",
       "</tr>\n",
       "<tr>\n",
       "  <th>Prob(H) (two-sided):</th>    <td>0.60</td>  <th>  Kurtosis:          </th> <td>1.87</td> \n",
       "</tr>\n",
       "</table><br/><br/>Warnings:<br/>[1] Covariance matrix calculated using the outer product of gradients (complex-step)."
      ],
      "text/plain": [
       "<class 'statsmodels.iolib.summary.Summary'>\n",
       "\"\"\"\n",
       "                               SARIMAX Results                                \n",
       "==============================================================================\n",
       "Dep. Variable:                      y   No. Observations:                   32\n",
       "Model:               SARIMAX(3, 1, 2)   Log Likelihood                 -57.712\n",
       "Date:                Mon, 06 Jul 2020   AIC                            131.424\n",
       "Time:                        16:44:42   BIC                            142.896\n",
       "Sample:                             0   HQIC                           135.164\n",
       "                                 - 32                                         \n",
       "Covariance Type:                  opg                                         \n",
       "==============================================================================\n",
       "                 coef    std err          z      P>|z|      [0.025      0.975]\n",
       "------------------------------------------------------------------------------\n",
       "intercept     -0.0036      0.012     -0.292      0.770      -0.028       0.021\n",
       "x1             0.0072      0.006      1.227      0.220      -0.004       0.019\n",
       "ar.L1          0.6841      0.202      3.391      0.001       0.289       1.079\n",
       "ar.L2          0.1236      0.158      0.780      0.436      -0.187       0.434\n",
       "ar.L3         -0.5234      0.181     -2.895      0.004      -0.878      -0.169\n",
       "ma.L1         -1.8363      1.635     -1.123      0.261      -5.041       1.369\n",
       "ma.L2          0.8455      1.250      0.677      0.499      -1.604       3.295\n",
       "sigma2         1.6118      3.161      0.510      0.610      -4.583       7.806\n",
       "===================================================================================\n",
       "Ljung-Box (Q):                       24.35   Jarque-Bera (JB):                 1.74\n",
       "Prob(Q):                              0.76   Prob(JB):                         0.42\n",
       "Heteroskedasticity (H):               1.41   Skew:                            -0.14\n",
       "Prob(H) (two-sided):                  0.60   Kurtosis:                         1.87\n",
       "===================================================================================\n",
       "\n",
       "Warnings:\n",
       "[1] Covariance matrix calculated using the outer product of gradients (complex-step).\n",
       "\"\"\""
      ]
     },
     "metadata": {},
     "output_type": "display_data"
    },
    {
     "data": {
      "text/html": [
       "<table class=\"simpletable\">\n",
       "<caption>SARIMAX Results</caption>\n",
       "<tr>\n",
       "  <th>Dep. Variable:</th>           <td>y</td>        <th>  No. Observations:  </th>   <td>32</td>   \n",
       "</tr>\n",
       "<tr>\n",
       "  <th>Model:</th>           <td>SARIMAX(1, 0, 0)</td> <th>  Log Likelihood     </th> <td>-63.855</td>\n",
       "</tr>\n",
       "<tr>\n",
       "  <th>Date:</th>            <td>Mon, 06 Jul 2020</td> <th>  AIC                </th> <td>133.709</td>\n",
       "</tr>\n",
       "<tr>\n",
       "  <th>Time:</th>                <td>16:44:42</td>     <th>  BIC                </th> <td>138.106</td>\n",
       "</tr>\n",
       "<tr>\n",
       "  <th>Sample:</th>                  <td>0</td>        <th>  HQIC               </th> <td>135.167</td>\n",
       "</tr>\n",
       "<tr>\n",
       "  <th></th>                       <td> - 32</td>      <th>                     </th>    <td> </td>   \n",
       "</tr>\n",
       "<tr>\n",
       "  <th>Covariance Type:</th>        <td>opg</td>       <th>                     </th>    <td> </td>   \n",
       "</tr>\n",
       "</table>\n",
       "<table class=\"simpletable\">\n",
       "<tr>\n",
       "      <td></td>         <th>coef</th>     <th>std err</th>      <th>z</th>      <th>P>|z|</th>  <th>[0.025</th>    <th>0.975]</th>  \n",
       "</tr>\n",
       "<tr>\n",
       "  <th>intercept</th> <td>    7.5810</td> <td>    2.118</td> <td>    3.579</td> <td> 0.000</td> <td>    3.429</td> <td>   11.733</td>\n",
       "</tr>\n",
       "<tr>\n",
       "  <th>ar.L1</th>     <td>    0.3283</td> <td>    0.184</td> <td>    1.780</td> <td> 0.075</td> <td>   -0.033</td> <td>    0.690</td>\n",
       "</tr>\n",
       "<tr>\n",
       "  <th>sigma2</th>    <td>    3.1567</td> <td>    1.103</td> <td>    2.863</td> <td> 0.004</td> <td>    0.995</td> <td>    5.318</td>\n",
       "</tr>\n",
       "</table>\n",
       "<table class=\"simpletable\">\n",
       "<tr>\n",
       "  <th>Ljung-Box (Q):</th>          <td>39.92</td> <th>  Jarque-Bera (JB):  </th> <td>0.93</td> \n",
       "</tr>\n",
       "<tr>\n",
       "  <th>Prob(Q):</th>                <td>0.13</td>  <th>  Prob(JB):          </th> <td>0.63</td> \n",
       "</tr>\n",
       "<tr>\n",
       "  <th>Heteroskedasticity (H):</th> <td>1.39</td>  <th>  Skew:              </th> <td>-0.22</td>\n",
       "</tr>\n",
       "<tr>\n",
       "  <th>Prob(H) (two-sided):</th>    <td>0.60</td>  <th>  Kurtosis:          </th> <td>2.29</td> \n",
       "</tr>\n",
       "</table><br/><br/>Warnings:<br/>[1] Covariance matrix calculated using the outer product of gradients (complex-step)."
      ],
      "text/plain": [
       "<class 'statsmodels.iolib.summary.Summary'>\n",
       "\"\"\"\n",
       "                               SARIMAX Results                                \n",
       "==============================================================================\n",
       "Dep. Variable:                      y   No. Observations:                   32\n",
       "Model:               SARIMAX(1, 0, 0)   Log Likelihood                 -63.855\n",
       "Date:                Mon, 06 Jul 2020   AIC                            133.709\n",
       "Time:                        16:44:42   BIC                            138.106\n",
       "Sample:                             0   HQIC                           135.167\n",
       "                                 - 32                                         \n",
       "Covariance Type:                  opg                                         \n",
       "==============================================================================\n",
       "                 coef    std err          z      P>|z|      [0.025      0.975]\n",
       "------------------------------------------------------------------------------\n",
       "intercept      7.5810      2.118      3.579      0.000       3.429      11.733\n",
       "ar.L1          0.3283      0.184      1.780      0.075      -0.033       0.690\n",
       "sigma2         3.1567      1.103      2.863      0.004       0.995       5.318\n",
       "===================================================================================\n",
       "Ljung-Box (Q):                       39.92   Jarque-Bera (JB):                 0.93\n",
       "Prob(Q):                              0.13   Prob(JB):                         0.63\n",
       "Heteroskedasticity (H):               1.39   Skew:                            -0.22\n",
       "Prob(H) (two-sided):                  0.60   Kurtosis:                         2.29\n",
       "===================================================================================\n",
       "\n",
       "Warnings:\n",
       "[1] Covariance matrix calculated using the outer product of gradients (complex-step).\n",
       "\"\"\""
      ]
     },
     "metadata": {},
     "output_type": "display_data"
    }
   ],
   "source": [
    "display(arima.summary())\n",
    "display(arima2.summary())\n",
    "display(arima3.summary())"
   ]
  },
  {
   "cell_type": "code",
   "execution_count": 160,
   "metadata": {},
   "outputs": [
    {
     "data": {
      "text/plain": [
       "ARIMA(order=(1, 0, 0), suppress_warnings=True)"
      ]
     },
     "execution_count": 160,
     "metadata": {},
     "output_type": "execute_result"
    }
   ],
   "source": [
    "arima.fit(ts_train, exog_train)\n",
    "arima2.fit(ts_train, exog_train)\n",
    "arima3.fit(ts_train)"
   ]
  },
  {
   "cell_type": "code",
   "execution_count": 162,
   "metadata": {},
   "outputs": [
    {
     "data": {
      "image/png": "[encoded data removed]",
      "text/plain": [
       "<Figure size 1080x864 with 1 Axes>"
      ]
     },
     "metadata": {
      "needs_background": "light"
     },
     "output_type": "display_data"
    }
   ],
   "source": [
    "num_test = ts_test.shape[0]\n",
    "# forecasts\n",
    "forecasts = arima.predict(n_periods = num_test, exogenous = exog_test)  # predict \n",
    "forecasts2 = arima2.predict(n_periods = num_test, exogenous = exog_test)\n",
    "forecasts3 = arima3.predict(n_periods = num_test)\n",
    "# Visualize the forecasts (blue=train, green=forecasts)\n",
    "x = np.arange(length)\n",
    "s = 2.0 ** 2\n",
    "plt.plot(x[:pivot], ts_train, c='blue')\n",
    "plt.plot(x[pivot:], ts_test, c = 'green')\n",
    "plt.plot(x[pivot:], forecasts, c='red')\n",
    "plt.plot(x[pivot:], forecasts2, c='yellow')\n",
    "plt.plot(x[pivot:], forecasts3, c='magenta')\n",
    "plt.gcf().set_size_inches(15, 12)\n",
    "plt.title('Duration vs. Date')\n",
    "plt.show()\n"
   ]
  },
  {
   "cell_type": "code",
   "execution_count": 135,
   "metadata": {},
   "outputs": [
    {
     "data": {
      "image/png": "[encoded data removed]",
      "text/plain": [
       "<Figure size 432x288 with 1 Axes>"
      ]
     },
     "metadata": {
      "needs_background": "light"
     },
     "output_type": "display_data"
    },
    {
     "data": {
      "image/png": "[encoded data removed]",
      "text/plain": [
       "<Figure size 432x288 with 1 Axes>"
      ]
     },
     "metadata": {
      "needs_background": "light"
     },
     "output_type": "display_data"
    },
    {
     "name": "stdout",
     "output_type": "stream",
     "text": [
      "               0\n",
      "count  32.000000\n",
      "mean    0.009362\n",
      "std     1.799970\n",
      "min    -4.001546\n",
      "25%    -1.571328\n",
      "50%     0.170181\n",
      "75%     1.262149\n",
      "max     3.199643\n"
     ]
    }
   ],
   "source": [
    "residuals = pd.DataFrame(arima3.resid())\n",
    "residuals.plot()\n",
    "plt.show()\n",
    "residuals.plot(kind='kde')\n",
    "plt.show()\n",
    "print(residuals.describe())"
   ]
  },
  {
   "cell_type": "code",
   "execution_count": 164,
   "metadata": {},
   "outputs": [
    {
     "name": "stdout",
     "output_type": "stream",
     "text": [
      "Test MSE: 24.232\n",
      "Test2 MSE: 10.950\n",
      "Test3 MSE: 9.552\n"
     ]
    }
   ],
   "source": [
    "from sklearn.metrics import mean_squared_error\n",
    "error = mean_squared_error(ts_test, forecasts)\n",
    "error2 = mean_squared_error(ts_test, forecasts2)\n",
    "error3 = mean_squared_error(ts_test, forecasts3)\n",
    "print('Test MSE: %.3f' % error)\n",
    "print('Test2 MSE: %.3f' % error2)\n",
    "print('Test3 MSE: %.3f' % error3)"
   ]
  }
 ],
 "metadata": {
  "kernelspec": {
   "display_name": "Python 3",
   "language": "python",
   "name": "python3"
  },
  "language_info": {
   "codemirror_mode": {
    "name": "ipython",
    "version": 3
   },
   "file_extension": ".py",
   "mimetype": "text/x-python",
   "name": "python",
   "nbconvert_exporter": "python",
   "pygments_lexer": "ipython3",
   "version": "3.7.7"
  }
 },
 "nbformat": 4,
 "nbformat_minor": 4
}
